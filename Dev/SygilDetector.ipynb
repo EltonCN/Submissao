{
 "cells": [
  {
   "cell_type": "code",
   "execution_count": 17,
   "metadata": {},
   "outputs": [],
   "source": [
    "import numpy as np\n",
    "from matplotlib import pyplot as plt\n",
    "import numba\n",
    "from typing import Any, Callable, Tuple\n",
    "import pandas as pd"
   ]
  },
  {
   "cell_type": "code",
   "execution_count": 2,
   "metadata": {},
   "outputs": [],
   "source": [
    "tri_points = [[0,0], [1,0], [0.5, np.sqrt(1-0.5**2)]]\n",
    "tri_points = np.array(tri_points)\n",
    "\n",
    "center = np.mean(tri_points, axis=0)\n",
    "\n",
    "tri_points = tri_points-center"
   ]
  },
  {
   "cell_type": "code",
   "execution_count": 3,
   "metadata": {},
   "outputs": [
    {
     "data": {
      "text/plain": [
       "[<matplotlib.patches.Polygon at 0x1ef6e227160>]"
      ]
     },
     "execution_count": 3,
     "metadata": {},
     "output_type": "execute_result"
    },
    {
     "data": {
      "image/png": "[encoded data removed]",
      "text/plain": [
       "<Figure size 360x360 with 1 Axes>"
      ]
     },
     "metadata": {
      "needs_background": "light"
     },
     "output_type": "display_data"
    }
   ],
   "source": [
    "plt.figure(1, figsize=(5,5))\n",
    "\n",
    "plt.fill(tri_points[:,0], tri_points[:,1], fill=False)"
   ]
  },
  {
   "cell_type": "code",
   "execution_count": 141,
   "metadata": {},
   "outputs": [],
   "source": [
    "@numba.njit\n",
    "def sample_points(vertices:np.ndarray, n_point:int) -> np.ndarray:\n",
    "    points = np.empty((n_point, 2))\n",
    "    n_vertice = vertices.shape[0]\n",
    "\n",
    "    for i in range(n_point):\n",
    "        vertice1_index = np.random.randint(0, n_vertice)\n",
    "        vertice2_index = vertice1_index + 1\n",
    "\n",
    "        if vertice2_index == n_vertice:\n",
    "            vertice2_index = 0\n",
    "\n",
    "        vertice1 = vertices[vertice1_index]\n",
    "        vertice2 = vertices[vertice2_index]\n",
    "\n",
    "        alpha = np.random.rand(1)[0]\n",
    "\n",
    "        points[i] = alpha * vertice1\n",
    "        points[i] += (1-alpha) * vertice2\n",
    "    \n",
    "    return points"
   ]
  },
  {
   "cell_type": "code",
   "execution_count": 163,
   "metadata": {},
   "outputs": [],
   "source": [
    "@numba.njit\n",
    "def cmp_fn(l, r, *arrays):\n",
    "    for a in numba.literal_unroll(arrays):\n",
    "        if a[l] < a[r]:\n",
    "            return -1  # less than\n",
    "        elif a[l] > a[r]:\n",
    "            return 1   # greater than\n",
    "\n",
    "    return 0  # equal\n",
    "\n",
    "@numba.njit\n",
    "def quicksort(index, L, R, *arrays):\n",
    "    l, r = L, R\n",
    "    pivot = index[(l + r) // 2]\n",
    "\n",
    "    while True:\n",
    "        while l < R and cmp_fn(index[l], pivot, *arrays) == -1:\n",
    "            l += 1\n",
    "        while r >= L and cmp_fn(pivot, index[r], *arrays) == -1:\n",
    "            r -= 1\n",
    "\n",
    "        if l >= r:\n",
    "            break\n",
    "\n",
    "        index[l], index[r] = index[r], index[l]\n",
    "        l += 1\n",
    "        r -= 1\n",
    "\n",
    "        if L < r:\n",
    "            quicksort(index, L, r, *arrays)\n",
    "\n",
    "        if l < R:\n",
    "            quicksort(index, l, R, *arrays)\n",
    "\n",
    "@numba.njit\n",
    "def lexsort(arrays):\n",
    "\n",
    "    if len(arrays) == 0:\n",
    "        return np.empty((), dtype=np.intp)\n",
    "\n",
    "    if len(arrays) == 1:\n",
    "        return np.argsort(arrays[0])\n",
    "\n",
    "\n",
    "    for a in numba.literal_unroll(arrays[1:]):\n",
    "        if a.shape != arrays[0].shape:\n",
    "            raise ValueError(\"lexsort array shapes don't match\")\n",
    "\n",
    "    n = arrays[0].shape[0]\n",
    "    index = np.arange(n)\n",
    "\n",
    "    quicksort(index, 0, n - 1, *arrays)\n",
    "    return index\n",
    "\n",
    "@numba.njit\n",
    "def sample_points_sequential(vertices:np.ndarray, n_point:int) -> np.ndarray:\n",
    "    points = np.empty((n_point, 2))\n",
    "    n_vertice = vertices.shape[0]\n",
    "\n",
    "    info = np.empty((n_point,2))\n",
    "\n",
    "    for i in range(n_point):\n",
    "        vertice1_index = np.random.randint(0, n_vertice)\n",
    "        alpha = np.random.rand(1)[0]\n",
    "\n",
    "        info[i][0] = vertice1_index\n",
    "        info[i][1] = alpha\n",
    "\n",
    "    ind = lexsort((info[:,0], info[:,1]))\n",
    "\n",
    "    info = info[ind]\n",
    "\n",
    "    for i in range(n_point):\n",
    "        vertice1_index = int(info[i][0])\n",
    "        alpha = info[i][1]\n",
    "\n",
    "        vertice2_index = vertice1_index + 1\n",
    "\n",
    "        if vertice2_index == n_vertice:\n",
    "            vertice2_index = 0\n",
    "\n",
    "        vertice1 = vertices[vertice1_index]\n",
    "        vertice2 = vertices[vertice2_index]\n",
    "\n",
    "        points[i] =  (1-alpha) * vertice1\n",
    "        points[i] += alpha * vertice2\n",
    "    \n",
    "    return points"
   ]
  },
  {
   "cell_type": "code",
   "execution_count": 190,
   "metadata": {},
   "outputs": [],
   "source": [
    "from scipy.spatial.transform import Rotation\n",
    "\n",
    "@numba.njit\n",
    "def rotate_points(points:np.ndarray, angle:float) -> np.ndarray:\n",
    "    angle = np.radians(angle)\n",
    "\n",
    "    rotation_matrix = np.empty((2,2))\n",
    "    rotation_matrix[0,0] = np.cos(angle)\n",
    "    rotation_matrix[0,1] = np.sin(angle)\n",
    "    rotation_matrix[1,0] = -rotation_matrix[0,0]\n",
    "    rotation_matrix[1,1] = rotation_matrix[0,0]\n",
    "\n",
    "    points_r = points @ rotation_matrix\n",
    "\n",
    "    return points_r\n"
   ]
  },
  {
   "cell_type": "code",
   "execution_count": 136,
   "metadata": {},
   "outputs": [],
   "source": [
    "@numba.njit\n",
    "def add_noise(points, std, add_chance):\n",
    "    n_points = points.shape[0]\n",
    "\n",
    "    noise = np.random.normal(0, std, (n_points, 2))\n",
    "\n",
    "    add_mask_x = np.random.rand(n_points) < add_chance\n",
    "    add_mask_y = np.random.rand(n_points) < add_chance\n",
    "\n",
    "\n",
    "    new_points = points.copy()\n",
    "    new_points[add_mask_x, 0] += noise[add_mask_x, 0]\n",
    "    new_points[add_mask_y, 1] += noise[add_mask_y, 1]\n",
    "\n",
    "    return new_points"
   ]
  },
  {
   "cell_type": "code",
   "execution_count": 132,
   "metadata": {},
   "outputs": [],
   "source": [
    "@numba.njit\n",
    "def scale_unit(points):\n",
    "    x_min = points[:,0].min()\n",
    "    y_min = points[:,1].min()\n",
    "\n",
    "    x_max = points[:,0].max()\n",
    "    y_max = points[:,1].max()\n",
    "\n",
    "    x_range = x_max - x_min\n",
    "    y_range = y_max - y_min\n",
    "\n",
    "    if x_range > y_range:\n",
    "        scale = 1/x_range\n",
    "    else:\n",
    "        scale = 1/y_range\n",
    "\n",
    "    return points.copy()*scale"
   ]
  },
  {
   "cell_type": "code",
   "execution_count": 191,
   "metadata": {},
   "outputs": [
    {
     "data": {
      "image/png": "[encoded data removed]",
      "text/plain": [
       "<Figure size 432x288 with 1 Axes>"
      ]
     },
     "metadata": {
      "needs_background": "light"
     },
     "output_type": "display_data"
    },
    {
     "data": {
      "image/png": "[encoded data removed]",
      "text/plain": [
       "<Figure size 432x288 with 1 Axes>"
      ]
     },
     "metadata": {
      "needs_background": "light"
     },
     "output_type": "display_data"
    },
    {
     "data": {
      "image/png": "[encoded data removed]",
      "text/plain": [
       "<Figure size 432x288 with 1 Axes>"
      ]
     },
     "metadata": {
      "needs_background": "light"
     },
     "output_type": "display_data"
    },
    {
     "data": {
      "image/png": "[encoded data removed]",
      "text/plain": [
       "<Figure size 432x288 with 1 Axes>"
      ]
     },
     "metadata": {
      "needs_background": "light"
     },
     "output_type": "display_data"
    }
   ],
   "source": [
    "points = sample_points(tri_points, 100)\n",
    "\n",
    "plt.plot(points[:,0], points[:,1], \"o\")\n",
    "plt.show()\n",
    "\n",
    "points = rotate_points(points, 45)\n",
    "\n",
    "plt.plot(points[:,0], points[:,1], \"o\")\n",
    "plt.show()\n",
    "\n",
    "points = add_noise(points, 0.1, 1.0)\n",
    "\n",
    "plt.plot(points[:,0], points[:,1], \"o\")\n",
    "plt.show()\n",
    "\n",
    "points = scale_unit(points)\n",
    "\n",
    "plt.plot(points[:,0], points[:,1], \"o\")\n",
    "plt.show()"
   ]
  },
  {
   "cell_type": "code",
   "execution_count": 28,
   "metadata": {},
   "outputs": [],
   "source": [
    "#model_function(points, model_points) -> n_inliers, model\n",
    "def ransac(points, model_function:Callable[[np.ndarray, np.ndarray], Tuple[int, Any]], n, success_rate=0.9, p_inlier=0.8):\n",
    "    k = np.log10(1-success_rate)/np.log10(1-np.power(p_inlier, n))\n",
    "    k = round(k)\n",
    "\n",
    "    n_point = points.shape[0]\n",
    "\n",
    "    best_inliers = -1\n",
    "    best_points = None\n",
    "    best_model = None\n",
    "    for _ in range(k):\n",
    "        indexs = np.random.choice(n_point, size=n, replace=False)\n",
    "        model_points = points[indexs]\n",
    "\n",
    "        n_inliers, model = model_function(points, model_points)\n",
    "\n",
    "        if n_inliers > best_inliers:\n",
    "            best_inliers = n_inliers\n",
    "            best_points = model_points\n",
    "            best_model = model\n",
    "\n",
    "    return best_points, best_inliers, best_model\n",
    "\n",
    "ransac_njit = numba.njit(ransac)"
   ]
  },
  {
   "cell_type": "code",
   "execution_count": 14,
   "metadata": {},
   "outputs": [],
   "source": [
    "\n",
    "\n",
    "@numba.njit\n",
    "def point2line_distance(line_point1, line_point2, point):\n",
    "    #https://en.wikipedia.org/wiki/Distance_from_a_point_to_a_line#:~:text=Line%20defined%20by%20two%20points%5Bedit%5D\n",
    "    distance = (line_point2[0]-line_point1[0])*(line_point1[1]-point[1])\n",
    "    distance -= (line_point1[0]-point[0])*(line_point2[1]-line_point1[1])\n",
    "    distance = np.abs(distance)\n",
    "\n",
    "    divider = np.power((line_point2[0]-line_point1[0]), 2)\n",
    "    divider += np.power((line_point2[1]-line_point1[1]), 2)\n",
    "    divider = np.sqrt(divider)\n",
    "\n",
    "    distance /= divider\n",
    "\n",
    "    return distance\n",
    "\n",
    "\n",
    "@numba.njit\n",
    "def polygon_model(points, model_points, model2vertices_func, inlier_distance) -> Tuple[int, np.ndarray]:\n",
    "    n_inlier = 0\n",
    "\n",
    "    vertices = model2vertices_func(model_points)\n",
    "    n_vertices = vertices.shape[0]\n",
    "\n",
    "    distances = np.empty(n_vertices)\n",
    "\n",
    "    for point in points:\n",
    "\n",
    "        for i in range(n_vertices):\n",
    "            index2 = i+1\n",
    "            if index2 == n_vertices:\n",
    "                index2 = 0\n",
    "\n",
    "            distances[i] = point2line_distance(vertices[i], vertices[index2], point)\n",
    "\n",
    "        if np.min(distances) < inlier_distance:\n",
    "            n_inlier += 1\n",
    "\n",
    "    return n_inlier, vertices"
   ]
  },
  {
   "cell_type": "code",
   "execution_count": 15,
   "metadata": {},
   "outputs": [],
   "source": [
    "@numba.njit\n",
    "def triangle_model2vertices(model_points):\n",
    "    vertices = np.empty((3,2))\n",
    "    vertices[:2] = model_points\n",
    "\n",
    "    vertices[2] = -np.sum(model_points, 0)\n",
    "\n",
    "    return vertices\n",
    "\n",
    "triangle_inlier_distance = 0.1\n",
    "\n",
    "@numba.njit\n",
    "def triangle_model(points, model_points):\n",
    "    global triangle_inlier_distance\n",
    "    return polygon_model(points, model_points, triangle_model2vertices, triangle_inlier_distance)"
   ]
  },
  {
   "cell_type": "code",
   "execution_count": 31,
   "metadata": {},
   "outputs": [
    {
     "name": "stdout",
     "output_type": "stream",
     "text": [
      "89\n"
     ]
    },
    {
     "data": {
      "image/png": "[encoded data removed]",
      "text/plain": [
       "<Figure size 432x288 with 1 Axes>"
      ]
     },
     "metadata": {
      "needs_background": "light"
     },
     "output_type": "display_data"
    }
   ],
   "source": [
    "model_points, n_inliers, model = ransac_njit(points, triangle_model, 2, success_rate=0.9, p_inlier=0.2)\n",
    "print(n_inliers)\n",
    "\n",
    "vertices = model\n",
    "\n",
    "plt.plot(points[:,0], points[:,1], \"o\")\n",
    "plt.fill(vertices[:,0], vertices[:,1], fill=False)\n",
    "\n",
    "plt.show()\n"
   ]
  },
  {
   "cell_type": "code",
   "execution_count": 192,
   "metadata": {},
   "outputs": [],
   "source": [
    "@numba.njit\n",
    "def sample_with_transform(vertices, n_points, max_angle=360, std=0.1, add_chance=1.0, sequential=False):\n",
    "    points = np.empty((1,1))\n",
    "    \n",
    "    if sequential:\n",
    "        points = sample_points_sequential(vertices, n_points)\n",
    "    else:\n",
    "        points = sample_points(vertices, n_points)\n",
    "\n",
    "    angle = max_angle*np.random.rand(1)[0]\n",
    "    points2 = rotate_points(points, angle)\n",
    "\n",
    "    points3 = add_noise(points, 0.1, 1.0)\n",
    "\n",
    "    return points3"
   ]
  },
  {
   "cell_type": "code",
   "execution_count": 56,
   "metadata": {},
   "outputs": [],
   "source": [
    "tri_n_inliers_hist = np.empty(1000, int)\n",
    "\n",
    "for i in range(1000):\n",
    "    points = sample_with_transform(tri_points, 100, 120)\n",
    "    points = scale_unit(points)\n",
    "\n",
    "    model_points, n_inliers, model = ransac_njit(points, triangle_model, 2, success_rate=0.9, p_inlier=0.2)\n",
    "\n",
    "    tri_n_inliers_hist[i] = n_inliers"
   ]
  },
  {
   "cell_type": "code",
   "execution_count": 34,
   "metadata": {},
   "outputs": [
    {
     "ename": "NameError",
     "evalue": "name 'tri_n_inliers_hist' is not defined",
     "output_type": "error",
     "traceback": [
      "\u001b[1;31m---------------------------------------------------------------------------\u001b[0m",
      "\u001b[1;31mNameError\u001b[0m                                 Traceback (most recent call last)",
      "\u001b[1;32m<ipython-input-34-2afb94426a25>\u001b[0m in \u001b[0;36m<module>\u001b[1;34m\u001b[0m\n\u001b[1;32m----> 1\u001b[1;33m \u001b[0mnp\u001b[0m\u001b[1;33m.\u001b[0m\u001b[0mmean\u001b[0m\u001b[1;33m(\u001b[0m\u001b[0mtri_n_inliers_hist\u001b[0m\u001b[1;33m)\u001b[0m\u001b[1;33m\u001b[0m\u001b[1;33m\u001b[0m\u001b[0m\n\u001b[0m",
      "\u001b[1;31mNameError\u001b[0m: name 'tri_n_inliers_hist' is not defined"
     ]
    }
   ],
   "source": [
    "np.mean(tri_n_inliers_hist)"
   ]
  },
  {
   "cell_type": "code",
   "execution_count": 11,
   "metadata": {},
   "outputs": [
    {
     "data": {
      "image/png": "[encoded data removed]",
      "text/plain": [
       "<Figure size 360x360 with 1 Axes>"
      ]
     },
     "metadata": {
      "needs_background": "light"
     },
     "output_type": "display_data"
    }
   ],
   "source": [
    "square_points = [[-1,1], [1,1], [1,-1], [-1,-1]]\n",
    "square_points = np.array(square_points)\n",
    "\n",
    "plt.figure(1, figsize=(5,5))\n",
    "plt.fill(square_points[:,0], square_points[:,1], fill=False)\n",
    "plt.show()"
   ]
  },
  {
   "cell_type": "code",
   "execution_count": 16,
   "metadata": {},
   "outputs": [],
   "source": [
    "@numba.njit\n",
    "def square_model2vertices(model_points, negative_direction):\n",
    "    vertices = np.empty((4,2))\n",
    "    vertices[:2] = model_points\n",
    "\n",
    "    direction1 = np.zeros(3)\n",
    "    direction1[:2] = model_points[1]-model_points[0]\n",
    "\n",
    "    direction2 = np.cross(direction1, [0,0,1])\n",
    "\n",
    "    direction2 = direction2[:2]\n",
    "    direction2 /= np.linalg.norm(direction2)\n",
    "\n",
    "    if negative_direction:\n",
    "        direction2 *= -1\n",
    "\n",
    "    side_len = np.linalg.norm(direction1)\n",
    "    \n",
    "    vertices[2] = model_points[1] + (side_len*direction2)\n",
    "    vertices[3] = model_points[0] + (side_len*direction2)\n",
    "\n",
    "    return vertices\n",
    "\n",
    "@numba.njit\n",
    "def square_model2vertices_p(model_points):\n",
    "    return square_model2vertices(model_points, False)\n",
    "\n",
    "@numba.njit\n",
    "def square_model2vertices_n(model_points):\n",
    "    return square_model2vertices(model_points, True)\n",
    "\n",
    "square_inlier_distance = 0.1\n",
    "\n",
    "@numba.njit\n",
    "def square_model(points, model_points):\n",
    "    n_inlier, vertices = polygon_model(points, model_points, square_model2vertices_p, square_inlier_distance)\n",
    "    n_inlier_n, vertices_n = polygon_model(points, model_points, square_model2vertices_n, square_inlier_distance)\n",
    "\n",
    "    if n_inlier > n_inlier_n:\n",
    "        return n_inlier, vertices\n",
    "    else:\n",
    "        return n_inlier_n, vertices_n"
   ]
  },
  {
   "cell_type": "code",
   "execution_count": 45,
   "metadata": {},
   "outputs": [],
   "source": [
    "square_n_inliers_hist = np.empty(1000, int)\n",
    "\n",
    "for i in range(1000):\n",
    "    points = sample_with_transform(square_points, 100, 90)\n",
    "    points = scale_unit(points)\n",
    "\n",
    "    model_points, n_inliers, vertices = ransac_njit(points, square_model, 2, success_rate=0.9, p_inlier=0.2)\n",
    "\n",
    "    square_n_inliers_hist[i] = n_inliers"
   ]
  },
  {
   "cell_type": "code",
   "execution_count": 46,
   "metadata": {},
   "outputs": [
    {
     "data": {
      "text/plain": [
       "96.508"
      ]
     },
     "execution_count": 46,
     "metadata": {},
     "output_type": "execute_result"
    }
   ],
   "source": [
    "np.mean(square_n_inliers_hist)"
   ]
  },
  {
   "cell_type": "code",
   "execution_count": 48,
   "metadata": {},
   "outputs": [
    {
     "data": {
      "image/png": "[encoded data removed]",
      "text/plain": [
       "<Figure size 432x288 with 1 Axes>"
      ]
     },
     "metadata": {
      "needs_background": "light"
     },
     "output_type": "display_data"
    }
   ],
   "source": [
    "plt.plot(points[:,0], points[:,1], \"o\")\n",
    "plt.fill(vertices[:,0], vertices[:,1], fill=False)\n",
    "\n",
    "plt.show()"
   ]
  },
  {
   "cell_type": "code",
   "execution_count": 47,
   "metadata": {},
   "outputs": [
    {
     "data": {
      "image/png": "[encoded data removed]",
      "text/plain": [
       "<Figure size 432x288 with 1 Axes>"
      ]
     },
     "metadata": {
      "needs_background": "light"
     },
     "output_type": "display_data"
    },
    {
     "data": {
      "text/plain": [
       "(array([  3.,  14.,  13.,  15.,  14.,  30.,  54.,  54., 207., 596.]),\n",
       " array([ 74. ,  76.6,  79.2,  81.8,  84.4,  87. ,  89.6,  92.2,  94.8,\n",
       "         97.4, 100. ]),\n",
       " <BarContainer object of 10 artists>)"
      ]
     },
     "execution_count": 47,
     "metadata": {},
     "output_type": "execute_result"
    },
    {
     "data": {
      "image/png": "[encoded data removed]",
      "text/plain": [
       "<Figure size 432x288 with 1 Axes>"
      ]
     },
     "metadata": {
      "needs_background": "light"
     },
     "output_type": "display_data"
    }
   ],
   "source": [
    "plt.hist(tri_n_inliers_hist)\n",
    "plt.show()\n",
    "plt.hist(square_n_inliers_hist)"
   ]
  },
  {
   "cell_type": "code",
   "execution_count": 133,
   "metadata": {},
   "outputs": [
    {
     "data": {
      "text/plain": [
       "{'square': {'square': 96.169, 'triangle': 61.245},\n",
       " 'triangle': {'square': 86.656, 'triangle': 90.023}}"
      ]
     },
     "execution_count": 133,
     "metadata": {},
     "output_type": "execute_result"
    }
   ],
   "source": [
    "inliers_hist = {}\n",
    "inliers_hist[\"square\"] = {\"square\":[], \"triangle\":[]}\n",
    "inliers_hist[\"triangle\"] = {\"square\":[], \"triangle\":[]}\n",
    "\n",
    "triangle_inlier_distance = 0.1\n",
    "@numba.njit\n",
    "def triangle_model(points, model_points):\n",
    "    global triangle_inlier_distance\n",
    "    return polygon_model(points, model_points, triangle_model2vertices, triangle_inlier_distance)\n",
    "\n",
    "for i in range(1000):\n",
    "    points = sample_with_transform(square_points, 100, 90)\n",
    "    points = scale_unit(points)\n",
    "\n",
    "    model_points, n_inliers, vertices = ransac_njit(points, triangle_model, 2, success_rate=0.9, p_inlier=0.2)\n",
    "    inliers_hist[\"square\"][\"triangle\"].append(n_inliers)\n",
    "\n",
    "    model_points, n_inliers, vertices = ransac_njit(points, square_model, 2, success_rate=0.9, p_inlier=0.2)\n",
    "    inliers_hist[\"square\"][\"square\"].append(n_inliers)\n",
    "\n",
    "for i in range(1000):\n",
    "    points = sample_with_transform(tri_points, 100, 120)\n",
    "    points = scale_unit(points)\n",
    "\n",
    "    model_points, n_inliers, vertices = ransac_njit(points, triangle_model, 2, success_rate=0.9, p_inlier=0.2)\n",
    "    inliers_hist[\"triangle\"][\"triangle\"].append(n_inliers)\n",
    "\n",
    "    model_points, n_inliers, vertices = ransac_njit(points, square_model, 2, success_rate=0.9, p_inlier=0.2)\n",
    "    inliers_hist[\"triangle\"][\"square\"].append(n_inliers)\n",
    "\n",
    "mean_inliers = {}\n",
    "mean_inliers[\"square\"] = {\"square\":0, \"triangle\":0}\n",
    "mean_inliers[\"triangle\"] = {\"square\":0, \"triangle\":0}\n",
    "\n",
    "for key in mean_inliers:\n",
    "    for key2 in mean_inliers[key]:\n",
    "        mean_inliers[key][key2] = np.mean(inliers_hist[key][key2])\n",
    "\n",
    "mean_inliers"
   ]
  },
  {
   "cell_type": "markdown",
   "metadata": {},
   "source": [
    "# Angle"
   ]
  },
  {
   "cell_type": "code",
   "execution_count": null,
   "metadata": {},
   "outputs": [
    {
     "data": {
      "image/png": "[encoded data removed]",
      "text/plain": [
       "<Figure size 432x288 with 1 Axes>"
      ]
     },
     "metadata": {
      "needs_background": "light"
     },
     "output_type": "display_data"
    }
   ],
   "source": [
    "points = sample_points(tri_points, 100)\n",
    "points = rotate_points(points, 90)\n",
    "points = add_noise(points, 0.01, 1.0)\n",
    "\n",
    "model_points, n_inliers, model = ransac_njit(points, triangle_model, 2, success_rate=0.9, p_inlier=0.2)\n",
    "\n",
    "vertices = triangle_model2vertices(model_points)\n",
    "\n",
    "plt.plot(points[:,0], points[:,1], \"o\")\n",
    "plt.fill(vertices[:,0], vertices[:,1], fill=False)\n",
    "plt.show()"
   ]
  },
  {
   "cell_type": "markdown",
   "metadata": {},
   "source": [
    "$ A_i = R B_i$\\\n",
    "$A_i$: sample vertices\\\n",
    "$B_i$: reference triangle vertices"
   ]
  },
  {
   "cell_type": "code",
   "execution_count": null,
   "metadata": {},
   "outputs": [
    {
     "data": {
      "text/plain": [
       "array([[ 0.53645188,  0.01576866],\n",
       "       [-0.29888572, -0.47924298],\n",
       "       [-0.23756616,  0.46347432]])"
      ]
     },
     "execution_count": 71,
     "metadata": {},
     "output_type": "execute_result"
    }
   ],
   "source": [
    "vertices"
   ]
  },
  {
   "cell_type": "code",
   "execution_count": null,
   "metadata": {},
   "outputs": [
    {
     "data": {
      "text/plain": [
       "array([[-0.28867513,  0.5       ],\n",
       "       [-0.28867513, -0.5       ],\n",
       "       [ 0.57735027,  0.        ]])"
      ]
     },
     "execution_count": 74,
     "metadata": {},
     "output_type": "execute_result"
    }
   ],
   "source": [
    "rotate_points(tri_points, 90)"
   ]
  },
  {
   "cell_type": "code",
   "execution_count": null,
   "metadata": {},
   "outputs": [
    {
     "data": {
      "text/plain": [
       "array([ 180.        ,    0.        , -151.04080896])"
      ]
     },
     "execution_count": 94,
     "metadata": {},
     "output_type": "execute_result"
    }
   ],
   "source": [
    "B = np.zeros((3,3))\n",
    "A = np.zeros((3,3))\n",
    "\n",
    "B[:, :2] = vertices* 10\n",
    "A[:, :2] = tri_points\n",
    "\n",
    "B = B.T\n",
    "A = A.T\n",
    "\n",
    "X = B@A.T\n",
    "\n",
    "u, s, v_t = np.linalg.svd(X)\n",
    "\n",
    "scale = np.eye(3)\n",
    "scale[2,2] = np.linalg.det(u@v_t)\n",
    "\n",
    "R = v_t.T@scale@u.T\n",
    "\n",
    "Rotation.from_matrix(R).as_euler(\"xyz\", degrees=True)"
   ]
  },
  {
   "cell_type": "code",
   "execution_count": null,
   "metadata": {},
   "outputs": [
    {
     "data": {
      "text/plain": [
       "array([4.90462598, 4.45631461, 0.        ])"
      ]
     },
     "execution_count": 97,
     "metadata": {},
     "output_type": "execute_result"
    }
   ],
   "source": [
    "s"
   ]
  },
  {
   "cell_type": "code",
   "execution_count": null,
   "metadata": {},
   "outputs": [
    {
     "data": {
      "text/plain": [
       "array([[ 0., -1.,  0.],\n",
       "       [ 1.,  0.,  0.],\n",
       "       [ 0.,  0.,  1.]])"
      ]
     },
     "execution_count": 83,
     "metadata": {},
     "output_type": "execute_result"
    }
   ],
   "source": [
    "Rotation.from_euler(\"xyz\", [0, 0, 90] , degrees=True).as_matrix()"
   ]
  },
  {
   "cell_type": "code",
   "execution_count": null,
   "metadata": {},
   "outputs": [
    {
     "data": {
      "text/plain": [
       "array([ 180.        ,    0.        , -151.04080896])"
      ]
     },
     "execution_count": 68,
     "metadata": {},
     "output_type": "execute_result"
    }
   ],
   "source": [
    "Rotation.from_matrix(R).as_euler(\"xyz\", degrees=True)"
   ]
  },
  {
   "cell_type": "code",
   "execution_count": null,
   "metadata": {},
   "outputs": [
    {
     "data": {
      "text/plain": [
       "array([420.        , 240.        ,  88.95919104])"
      ]
     },
     "execution_count": 85,
     "metadata": {},
     "output_type": "execute_result"
    }
   ],
   "source": [
    "Rotation.from_matrix(R).as_euler(\"xyz\", degrees=True)+360-120"
   ]
  },
  {
   "cell_type": "code",
   "execution_count": null,
   "metadata": {},
   "outputs": [],
   "source": []
  },
  {
   "cell_type": "markdown",
   "metadata": {},
   "source": [
    "# Unity test"
   ]
  },
  {
   "cell_type": "code",
   "execution_count": 28,
   "metadata": {},
   "outputs": [],
   "source": [
    "df_triangle = pd.read_csv(\"Points_Triangle.csv\", sep=\";\", decimal=\",\", names=[\"x\", \"y\"])\n",
    "df_square = pd.read_csv(\"Points_Square.csv\", sep=\";\", decimal=\",\", names=[\"x\", \"y\"])"
   ]
  },
  {
   "cell_type": "code",
   "execution_count": 29,
   "metadata": {},
   "outputs": [
    {
     "data": {
      "image/png": "[encoded data removed]",
      "text/plain": [
       "<Figure size 432x288 with 1 Axes>"
      ]
     },
     "metadata": {
      "needs_background": "light"
     },
     "output_type": "display_data"
    },
    {
     "data": {
      "image/png": "[encoded data removed]",
      "text/plain": [
       "<Figure size 432x288 with 1 Axes>"
      ]
     },
     "metadata": {
      "needs_background": "light"
     },
     "output_type": "display_data"
    }
   ],
   "source": [
    "all_points_tr = df_triangle.to_numpy()\n",
    "all_points_sq = df_square.to_numpy()\n",
    "\n",
    "plt.plot(all_points_tr[:,0], all_points_tr[:,1], \"o\")\n",
    "plt.show()\n",
    "\n",
    "plt.plot(all_points_sq[:,0], all_points_sq[:,1], \"o\")\n",
    "plt.show()"
   ]
  },
  {
   "cell_type": "code",
   "execution_count": 21,
   "metadata": {},
   "outputs": [],
   "source": [
    "def sample_points_fromlist(points:np.ndarray, n_point:int) -> np.ndarray:\n",
    "    indexs = np.random.choice(points.shape[0], size=n_point, replace=False)\n",
    "    \n",
    "    return points[indexs]"
   ]
  },
  {
   "cell_type": "code",
   "execution_count": 130,
   "metadata": {},
   "outputs": [
    {
     "data": {
      "image/png": "[encoded data removed]",
      "text/plain": [
       "<Figure size 432x288 with 1 Axes>"
      ]
     },
     "metadata": {
      "needs_background": "light"
     },
     "output_type": "display_data"
    }
   ],
   "source": [
    "points = sample_points_fromlist(all_points_sq[:200], 100)\n",
    "\n",
    "plt.plot(points[:,0], points[:,1], \"o\")\n",
    "plt.show()"
   ]
  },
  {
   "cell_type": "code",
   "execution_count": 132,
   "metadata": {},
   "outputs": [
    {
     "data": {
      "text/plain": [
       "68"
      ]
     },
     "execution_count": 132,
     "metadata": {},
     "output_type": "execute_result"
    }
   ],
   "source": [
    "points_scaled = scale_unit(points)\n",
    "\n",
    "model_points, n_inliers, vertices = ransac_njit(points_scaled, triangle_model, 2, success_rate=0.9, p_inlier=0.2)\n",
    "\n",
    "n_inliers"
   ]
  },
  {
   "cell_type": "markdown",
   "metadata": {},
   "source": [
    "# NN"
   ]
  },
  {
   "cell_type": "code",
   "execution_count": 202,
   "metadata": {},
   "outputs": [],
   "source": [
    "@numba.njit\n",
    "def center_points(points):\n",
    "    center = np.array([points[:,0].mean(), points[:,1].mean()])\n",
    "    return points.copy()-center"
   ]
  },
  {
   "cell_type": "code",
   "execution_count": null,
   "metadata": {},
   "outputs": [],
   "source": [
    "samples_per_type = 50000"
   ]
  },
  {
   "cell_type": "code",
   "execution_count": 212,
   "metadata": {},
   "outputs": [],
   "source": [
    "\n",
    "@numba.njit\n",
    "def create_features(samples_per_type, std_min, std_max):\n",
    "    features = np.empty((samples_per_type*3, 200))\n",
    "    index = 0\n",
    "\n",
    "    for i in range(50000):\n",
    "        std = np.random.uniform(std_min, std_max, 1)[0]\n",
    "        add_chance = np.random.uniform(0.5, 1.0, 1)[0]\n",
    "\n",
    "        points = sample_with_transform(square_points, 100, 90, std, add_chance, True)\n",
    "        points = center_points(points)\n",
    "        points = scale_unit(points)\n",
    "\n",
    "        features[index] = points.flatten()\n",
    "        index += 1\n",
    "\n",
    "    for i in range(50000):\n",
    "        std = np.random.uniform(std_min, std_max, 1)[0]\n",
    "        add_chance = np.random.uniform(0.5, 1.0, 1)[0]\n",
    "\n",
    "        points = sample_with_transform(tri_points, 100, 120, std, add_chance, True)\n",
    "        points = center_points(points)\n",
    "        points = scale_unit(points)\n",
    "\n",
    "        features[index] = points.flatten()\n",
    "        index += 1\n",
    "\n",
    "    for i in range(50000):\n",
    "        points = np.random.rand(100,2)\n",
    "        points = center_points(points)\n",
    "        points = scale_unit(points)\n",
    "\n",
    "        features[index] = points.flatten()\n",
    "        index += 1\n",
    "\n",
    "    return features\n",
    "\n"
   ]
  },
  {
   "cell_type": "code",
   "execution_count": 213,
   "metadata": {},
   "outputs": [
    {
     "ename": "",
     "evalue": "",
     "output_type": "error",
     "traceback": [
      "\u001b[1;31mCanceled future for execute_request message before replies were done"
     ]
    },
    {
     "ename": "",
     "evalue": "",
     "output_type": "error",
     "traceback": [
      "\u001b[1;31mO Kernel falhou ao executar o código na célula atual ou em uma célula anterior. Examine o código nas células para identificar uma possível causa da falha. Clique <a href=\"https://aka.ms/vscodeJupyterKernelCrash\">aqui</a> para obter mais informações. Consulte o <a href='command:jupyter.viewOutput'>log</a> do Jupyter para obter mais detalhes."
     ]
    }
   ],
   "source": [
    "create_features(10, 1e-3, 1e-1)"
   ]
  },
  {
   "cell_type": "code",
   "execution_count": 106,
   "metadata": {},
   "outputs": [],
   "source": [
    "targets = np.empty(3*samples_per_type, int)\n",
    "targets[:1*samples_per_type] = 0\n",
    "targets[1*samples_per_type:2*samples_per_type] = 1\n",
    "targets[2*samples_per_type:] = 2"
   ]
  },
  {
   "cell_type": "code",
   "execution_count": 109,
   "metadata": {},
   "outputs": [],
   "source": [
    "total_samples = 3*samples_per_type"
   ]
  },
  {
   "cell_type": "code",
   "execution_count": 18,
   "metadata": {},
   "outputs": [],
   "source": [
    "import tensorflow as tf\n",
    "from tensorflow import keras"
   ]
  },
  {
   "cell_type": "code",
   "execution_count": 20,
   "metadata": {},
   "outputs": [
    {
     "name": "stderr",
     "output_type": "stream",
     "text": [
      "Failed to detect the name of this notebook, you can set it manually with the WANDB_NOTEBOOK_NAME environment variable to enable code saving.\n",
      "\u001b[34m\u001b[1mwandb\u001b[0m: Currently logged in as: \u001b[33meltoncn\u001b[0m. Use \u001b[1m`wandb login --relogin`\u001b[0m to force relogin\n"
     ]
    },
    {
     "data": {
      "text/plain": [
       "True"
      ]
     },
     "execution_count": 20,
     "metadata": {},
     "output_type": "execute_result"
    }
   ],
   "source": [
    "import wandb\n",
    "from wandb.keras import WandbCallback\n",
    "\n",
    "wandb.login()"
   ]
  },
  {
   "cell_type": "code",
   "execution_count": 110,
   "metadata": {},
   "outputs": [],
   "source": [
    "indexes = np.random.choice(total_samples, size=total_samples, replace=False)\n",
    "\n",
    "train_features = features[indexes[:int(0.7*total_samples)]]\n",
    "train_targets = targets[indexes[:int(0.7*total_samples)]]\n",
    "\n",
    "val_features = features[indexes[int(0.7*total_samples):int(0.9*total_samples)]]\n",
    "val_targets = targets[indexes[int(0.7*total_samples):int(0.9*total_samples)]]\n",
    "\n",
    "test_features = features[indexes[int(0.9*total_samples):]]\n",
    "test_targets = targets[indexes[int(0.9*total_samples):]]"
   ]
  },
  {
   "cell_type": "code",
   "execution_count": 111,
   "metadata": {},
   "outputs": [],
   "source": [
    "data = {\n",
    "\"train_features\": train_features,\n",
    "\"train_targets\": train_targets,\n",
    "\"val_features\": val_features,\n",
    "\"val_targets\": val_targets,\n",
    "\"test_features\": test_features,\n",
    "\"test_targets\": test_targets,\n",
    "}"
   ]
  },
  {
   "cell_type": "code",
   "execution_count": 112,
   "metadata": {},
   "outputs": [],
   "source": [
    "np.save(\"data3.npy\", data)"
   ]
  },
  {
   "cell_type": "code",
   "execution_count": 113,
   "metadata": {},
   "outputs": [],
   "source": [
    "data = np.load(\"data3.npy\", allow_pickle=True).item()\n",
    "train_features = data[\"train_features\"]\n",
    "train_targets = data[\"train_targets\"]\n",
    "val_features = data[\"val_features\"]\n",
    "val_targets = data[\"val_targets\"]\n",
    "test_features = data[\"test_features\"]\n",
    "test_targets = data[\"test_targets\"]"
   ]
  },
  {
   "cell_type": "code",
   "execution_count": 114,
   "metadata": {},
   "outputs": [],
   "source": [
    "n_features = 100*2\n",
    "\n",
    "n_train = train_features.shape[0]"
   ]
  },
  {
   "cell_type": "code",
   "execution_count": 115,
   "metadata": {},
   "outputs": [],
   "source": [
    "from tensorflow.keras.regularizers import l2"
   ]
  },
  {
   "cell_type": "code",
   "execution_count": 123,
   "metadata": {},
   "outputs": [
    {
     "data": {
      "text/plain": [
       "array([[     1],\n",
       "       [     3],\n",
       "       [     4],\n",
       "       ...,\n",
       "       [104986],\n",
       "       [104991],\n",
       "       [104995]], dtype=int64)"
      ]
     },
     "execution_count": 123,
     "metadata": {},
     "output_type": "execute_result"
    }
   ],
   "source": []
  },
  {
   "cell_type": "code",
   "execution_count": 127,
   "metadata": {},
   "outputs": [
    {
     "data": {
      "image/png": "[encoded data removed]",
      "text/plain": [
       "<Figure size 432x288 with 1 Axes>"
      ]
     },
     "metadata": {
      "needs_background": "light"
     },
     "output_type": "display_data"
    },
    {
     "data": {
      "image/png": "[encoded data removed]",
      "text/plain": [
       "<Figure size 432x288 with 1 Axes>"
      ]
     },
     "metadata": {
      "needs_background": "light"
     },
     "output_type": "display_data"
    },
    {
     "data": {
      "image/png": "[encoded data removed]",
      "text/plain": [
       "<Figure size 432x288 with 1 Axes>"
      ]
     },
     "metadata": {
      "needs_background": "light"
     },
     "output_type": "display_data"
    },
    {
     "data": {
      "image/png": "[encoded data removed]",
      "text/plain": [
       "<Figure size 432x288 with 1 Axes>"
      ]
     },
     "metadata": {
      "needs_background": "light"
     },
     "output_type": "display_data"
    },
    {
     "data": {
      "image/png": "[encoded data removed]",
      "text/plain": [
       "<Figure size 432x288 with 1 Axes>"
      ]
     },
     "metadata": {
      "needs_background": "light"
     },
     "output_type": "display_data"
    }
   ],
   "source": [
    "indexes = np.argwhere(train_targets == 1)\n",
    "\n",
    "for i in range(5):\n",
    "\n",
    "    a = train_features[indexes[i]].reshape((100,2))\n",
    "    plt.plot(a[:,0], a[:,1])\n",
    "    plt.show()"
   ]
  },
  {
   "cell_type": "code",
   "execution_count": 116,
   "metadata": {},
   "outputs": [],
   "source": [
    "def compile_fit(model, epochs, optimizer, batch_size, patience, units, regularizer, others=\"\"):\n",
    "    learning_rate = optimizer.learning_rate.numpy()\n",
    "    \n",
    "    config = {}\n",
    "    config[\"leaning_rate\"] = learning_rate\n",
    "    config[\"epochs\"] = epochs\n",
    "    config[\"batch_size\"] = batch_size\n",
    "    config[\"optimizer\"] = optimizer._name\n",
    "    config[\"others\"] = others\n",
    "\n",
    "    config[\"layer0_units\"] = units[0]\n",
    "    config[\"layer0_l2\"] = regularizer[0]\n",
    "\n",
    "    if len(units) > 1:\n",
    "        config[\"layer1_units\"] = units[1]\n",
    "        config[\"layer1_l2\"] = regularizer[1]\n",
    "    else:\n",
    "        config[\"layer1_units\"] = 0\n",
    "        config[\"layer1_l2\"] = 0\n",
    "\n",
    "    run = wandb.init(project=\"SygilDetector\", config = config)\n",
    "\n",
    "\n",
    "    callbacks = []\n",
    "    callbacks.append(keras.callbacks.EarlyStopping(monitor=\"val_sparse_categorical_crossentropy\", patience=patience))\n",
    "    callbacks.append(WandbCallback(\"val_sparse_categorical_crossentropy\"))\n",
    "\n",
    "    model.compile(optimizer=optimizer, loss=\"sparse_categorical_crossentropy\", metrics=[\"sparse_categorical_crossentropy\", \"accuracy\"])\n",
    "\n",
    "    hist = model.fit(train_features, train_targets, validation_data=(val_features, val_targets), epochs=epochs, batch_size=batch_size,\n",
    "                callbacks=callbacks)\n",
    "\n",
    "    wandb.finish()\n",
    "    \n",
    "    return hist\n"
   ]
  },
  {
   "cell_type": "code",
   "execution_count": 46,
   "metadata": {},
   "outputs": [
    {
     "data": {
      "text/html": [
       "wandb version 0.13.4 is available!  To upgrade, please run:\n",
       " $ pip install wandb --upgrade"
      ],
      "text/plain": [
       "<IPython.core.display.HTML object>"
      ]
     },
     "metadata": {},
     "output_type": "display_data"
    },
    {
     "data": {
      "text/html": [
       "Tracking run with wandb version 0.12.21"
      ],
      "text/plain": [
       "<IPython.core.display.HTML object>"
      ]
     },
     "metadata": {},
     "output_type": "display_data"
    },
    {
     "data": {
      "text/html": [
       "Run data is saved locally in <code>d:\\Github\\JogosTeP\\Dev\\wandb\\run-20221016_211010-35qxb58i</code>"
      ],
      "text/plain": [
       "<IPython.core.display.HTML object>"
      ]
     },
     "metadata": {},
     "output_type": "display_data"
    },
    {
     "data": {
      "text/html": [
       "Syncing run <strong><a href=\"https://wandb.ai/eltoncn/SygilDetector/runs/35qxb58i\" target=\"_blank\">gentle-terrain-41</a></strong> to <a href=\"https://wandb.ai/eltoncn/SygilDetector\" target=\"_blank\">Weights & Biases</a> (<a href=\"https://wandb.me/run\" target=\"_blank\">docs</a>)<br/>"
      ],
      "text/plain": [
       "<IPython.core.display.HTML object>"
      ]
     },
     "metadata": {},
     "output_type": "display_data"
    },
    {
     "name": "stdout",
     "output_type": "stream",
     "text": [
      "Epoch 1/1000\n",
      " 1/21 [>.............................] - ETA: 11s - loss: 6.1439 - sparse_categorical_crossentropy: 1.1469 - accuracy: 0.3350WARNING:tensorflow:Callback method `on_train_batch_end` is slow compared to the batch time (batch time: 0.0032s vs `on_train_batch_end` time: 0.0058s). Check your callbacks.\n",
      "21/21 [==============================] - 1s 20ms/step - loss: 4.7695 - sparse_categorical_crossentropy: 1.1104 - accuracy: 0.3373 - val_loss: 3.5052 - val_sparse_categorical_crossentropy: 1.0901 - val_accuracy: 0.3459\n",
      "Epoch 2/1000\n",
      "21/21 [==============================] - 0s 9ms/step - loss: 2.7607 - sparse_categorical_crossentropy: 1.0875 - accuracy: 0.3824 - val_loss: 2.1131 - val_sparse_categorical_crossentropy: 1.0798 - val_accuracy: 0.5075\n",
      "Epoch 3/1000\n",
      "21/21 [==============================] - 0s 9ms/step - loss: 1.7666 - sparse_categorical_crossentropy: 1.0716 - accuracy: 0.4726 - val_loss: 1.4751 - val_sparse_categorical_crossentropy: 1.0584 - val_accuracy: 0.5967\n",
      "Epoch 4/1000\n",
      "21/21 [==============================] - 0s 10ms/step - loss: 1.3360 - sparse_categorical_crossentropy: 1.0533 - accuracy: 0.5206 - val_loss: 1.2244 - val_sparse_categorical_crossentropy: 1.0472 - val_accuracy: 0.5968\n",
      "Epoch 5/1000\n",
      "21/21 [==============================] - 0s 11ms/step - loss: 1.1755 - sparse_categorical_crossentropy: 1.0467 - accuracy: 0.5166 - val_loss: 1.1394 - val_sparse_categorical_crossentropy: 1.0476 - val_accuracy: 0.5614\n",
      "Epoch 6/1000\n",
      "21/21 [==============================] - 0s 10ms/step - loss: 1.1217 - sparse_categorical_crossentropy: 1.0443 - accuracy: 0.5127 - val_loss: 1.1137 - val_sparse_categorical_crossentropy: 1.0465 - val_accuracy: 0.5153\n",
      "Epoch 7/1000\n",
      "21/21 [==============================] - 0s 11ms/step - loss: 1.1021 - sparse_categorical_crossentropy: 1.0359 - accuracy: 0.5146 - val_loss: 1.1038 - val_sparse_categorical_crossentropy: 1.0369 - val_accuracy: 0.5398\n",
      "Epoch 8/1000\n",
      "21/21 [==============================] - 0s 9ms/step - loss: 1.0899 - sparse_categorical_crossentropy: 1.0186 - accuracy: 0.5324 - val_loss: 1.0968 - val_sparse_categorical_crossentropy: 1.0193 - val_accuracy: 0.5384\n",
      "Epoch 9/1000\n",
      "21/21 [==============================] - 0s 9ms/step - loss: 1.0781 - sparse_categorical_crossentropy: 0.9929 - accuracy: 0.5424 - val_loss: 1.0882 - val_sparse_categorical_crossentropy: 0.9942 - val_accuracy: 0.5436\n",
      "Epoch 10/1000\n",
      "21/21 [==============================] - 0s 9ms/step - loss: 1.0652 - sparse_categorical_crossentropy: 0.9618 - accuracy: 0.5503 - val_loss: 1.0776 - val_sparse_categorical_crossentropy: 0.9650 - val_accuracy: 0.5667\n",
      "Epoch 11/1000\n",
      "21/21 [==============================] - 0s 9ms/step - loss: 1.0529 - sparse_categorical_crossentropy: 0.9317 - accuracy: 0.5597 - val_loss: 1.0674 - val_sparse_categorical_crossentropy: 0.9390 - val_accuracy: 0.5779\n",
      "Epoch 12/1000\n",
      "21/21 [==============================] - 0s 9ms/step - loss: 1.0392 - sparse_categorical_crossentropy: 0.9038 - accuracy: 0.5749 - val_loss: 1.0565 - val_sparse_categorical_crossentropy: 0.9151 - val_accuracy: 0.5916\n",
      "Epoch 13/1000\n",
      "21/21 [==============================] - 0s 8ms/step - loss: 1.0276 - sparse_categorical_crossentropy: 0.8808 - accuracy: 0.5825 - val_loss: 1.0448 - val_sparse_categorical_crossentropy: 0.8940 - val_accuracy: 0.6021\n",
      "Epoch 14/1000\n",
      "21/21 [==============================] - 0s 8ms/step - loss: 1.0176 - sparse_categorical_crossentropy: 0.8634 - accuracy: 0.5880 - val_loss: 1.0359 - val_sparse_categorical_crossentropy: 0.8802 - val_accuracy: 0.5994\n",
      "Epoch 15/1000\n",
      "21/21 [==============================] - 0s 10ms/step - loss: 1.0087 - sparse_categorical_crossentropy: 0.8503 - accuracy: 0.5908 - val_loss: 1.0297 - val_sparse_categorical_crossentropy: 0.8714 - val_accuracy: 0.6019\n",
      "Epoch 16/1000\n",
      "21/21 [==============================] - 0s 9ms/step - loss: 0.9996 - sparse_categorical_crossentropy: 0.8377 - accuracy: 0.5979 - val_loss: 1.0198 - val_sparse_categorical_crossentropy: 0.8569 - val_accuracy: 0.6170\n",
      "Epoch 17/1000\n",
      "21/21 [==============================] - 0s 9ms/step - loss: 0.9898 - sparse_categorical_crossentropy: 0.8262 - accuracy: 0.6057 - val_loss: 1.0103 - val_sparse_categorical_crossentropy: 0.8478 - val_accuracy: 0.6288\n",
      "Epoch 18/1000\n",
      "21/21 [==============================] - 0s 9ms/step - loss: 0.9828 - sparse_categorical_crossentropy: 0.8181 - accuracy: 0.6084 - val_loss: 1.0047 - val_sparse_categorical_crossentropy: 0.8389 - val_accuracy: 0.6153\n",
      "Epoch 19/1000\n",
      "21/21 [==============================] - 0s 9ms/step - loss: 0.9758 - sparse_categorical_crossentropy: 0.8104 - accuracy: 0.6093 - val_loss: 1.0024 - val_sparse_categorical_crossentropy: 0.8355 - val_accuracy: 0.6182\n",
      "Epoch 20/1000\n",
      "21/21 [==============================] - 0s 9ms/step - loss: 0.9689 - sparse_categorical_crossentropy: 0.8030 - accuracy: 0.6150 - val_loss: 0.9932 - val_sparse_categorical_crossentropy: 0.8271 - val_accuracy: 0.6231\n",
      "Epoch 21/1000\n",
      "21/21 [==============================] - 0s 8ms/step - loss: 0.9640 - sparse_categorical_crossentropy: 0.7981 - accuracy: 0.6155 - val_loss: 0.9890 - val_sparse_categorical_crossentropy: 0.8244 - val_accuracy: 0.6307\n",
      "Epoch 22/1000\n",
      "21/21 [==============================] - 0s 9ms/step - loss: 0.9596 - sparse_categorical_crossentropy: 0.7938 - accuracy: 0.6181 - val_loss: 0.9837 - val_sparse_categorical_crossentropy: 0.8180 - val_accuracy: 0.6284\n",
      "Epoch 23/1000\n",
      "21/21 [==============================] - 0s 9ms/step - loss: 0.9523 - sparse_categorical_crossentropy: 0.7864 - accuracy: 0.6215 - val_loss: 0.9785 - val_sparse_categorical_crossentropy: 0.8126 - val_accuracy: 0.6307\n",
      "Epoch 24/1000\n",
      "21/21 [==============================] - 0s 9ms/step - loss: 0.9474 - sparse_categorical_crossentropy: 0.7817 - accuracy: 0.6245 - val_loss: 0.9737 - val_sparse_categorical_crossentropy: 0.8092 - val_accuracy: 0.6336\n",
      "Epoch 25/1000\n",
      "21/21 [==============================] - 0s 8ms/step - loss: 0.9415 - sparse_categorical_crossentropy: 0.7759 - accuracy: 0.6246 - val_loss: 0.9696 - val_sparse_categorical_crossentropy: 0.8036 - val_accuracy: 0.6346\n",
      "Epoch 26/1000\n",
      "21/21 [==============================] - 0s 8ms/step - loss: 0.9390 - sparse_categorical_crossentropy: 0.7735 - accuracy: 0.6277 - val_loss: 0.9654 - val_sparse_categorical_crossentropy: 0.8011 - val_accuracy: 0.6410\n",
      "Epoch 27/1000\n",
      "21/21 [==============================] - 0s 8ms/step - loss: 0.9347 - sparse_categorical_crossentropy: 0.7701 - accuracy: 0.6287 - val_loss: 0.9637 - val_sparse_categorical_crossentropy: 0.7989 - val_accuracy: 0.6325\n",
      "Epoch 28/1000\n",
      "21/21 [==============================] - 0s 8ms/step - loss: 0.9291 - sparse_categorical_crossentropy: 0.7643 - accuracy: 0.6304 - val_loss: 0.9596 - val_sparse_categorical_crossentropy: 0.7940 - val_accuracy: 0.6339\n",
      "Epoch 29/1000\n",
      "21/21 [==============================] - 0s 8ms/step - loss: 0.9248 - sparse_categorical_crossentropy: 0.7599 - accuracy: 0.6307 - val_loss: 0.9573 - val_sparse_categorical_crossentropy: 0.7949 - val_accuracy: 0.6423\n",
      "Epoch 30/1000\n",
      "21/21 [==============================] - 0s 8ms/step - loss: 0.9224 - sparse_categorical_crossentropy: 0.7584 - accuracy: 0.6335 - val_loss: 0.9553 - val_sparse_categorical_crossentropy: 0.7909 - val_accuracy: 0.6366\n",
      "Epoch 31/1000\n",
      "21/21 [==============================] - 0s 8ms/step - loss: 0.9173 - sparse_categorical_crossentropy: 0.7534 - accuracy: 0.6344 - val_loss: 0.9519 - val_sparse_categorical_crossentropy: 0.7877 - val_accuracy: 0.6308\n",
      "Epoch 32/1000\n",
      "21/21 [==============================] - 0s 8ms/step - loss: 0.9177 - sparse_categorical_crossentropy: 0.7542 - accuracy: 0.6369 - val_loss: 0.9509 - val_sparse_categorical_crossentropy: 0.7869 - val_accuracy: 0.6298\n",
      "Epoch 33/1000\n",
      "21/21 [==============================] - 0s 8ms/step - loss: 0.9144 - sparse_categorical_crossentropy: 0.7510 - accuracy: 0.6370 - val_loss: 0.9460 - val_sparse_categorical_crossentropy: 0.7835 - val_accuracy: 0.6416\n",
      "Epoch 34/1000\n",
      "21/21 [==============================] - 0s 8ms/step - loss: 0.9081 - sparse_categorical_crossentropy: 0.7449 - accuracy: 0.6399 - val_loss: 0.9445 - val_sparse_categorical_crossentropy: 0.7826 - val_accuracy: 0.6452\n",
      "Epoch 35/1000\n",
      "21/21 [==============================] - 0s 8ms/step - loss: 0.9047 - sparse_categorical_crossentropy: 0.7416 - accuracy: 0.6422 - val_loss: 0.9391 - val_sparse_categorical_crossentropy: 0.7775 - val_accuracy: 0.6512\n",
      "Epoch 36/1000\n",
      "21/21 [==============================] - 0s 8ms/step - loss: 0.9029 - sparse_categorical_crossentropy: 0.7400 - accuracy: 0.6409 - val_loss: 0.9396 - val_sparse_categorical_crossentropy: 0.7772 - val_accuracy: 0.6459\n",
      "Epoch 37/1000\n",
      "21/21 [==============================] - 0s 8ms/step - loss: 0.8996 - sparse_categorical_crossentropy: 0.7373 - accuracy: 0.6430 - val_loss: 0.9370 - val_sparse_categorical_crossentropy: 0.7756 - val_accuracy: 0.6450\n",
      "Epoch 38/1000\n",
      "21/21 [==============================] - 0s 9ms/step - loss: 0.8963 - sparse_categorical_crossentropy: 0.7341 - accuracy: 0.6442 - val_loss: 0.9377 - val_sparse_categorical_crossentropy: 0.7745 - val_accuracy: 0.6381\n",
      "Epoch 39/1000\n",
      "21/21 [==============================] - 0s 9ms/step - loss: 0.8942 - sparse_categorical_crossentropy: 0.7318 - accuracy: 0.6437 - val_loss: 0.9317 - val_sparse_categorical_crossentropy: 0.7706 - val_accuracy: 0.6492\n",
      "Epoch 40/1000\n",
      "21/21 [==============================] - 0s 10ms/step - loss: 0.8946 - sparse_categorical_crossentropy: 0.7328 - accuracy: 0.6437 - val_loss: 0.9309 - val_sparse_categorical_crossentropy: 0.7706 - val_accuracy: 0.6497\n",
      "Epoch 41/1000\n",
      "21/21 [==============================] - 0s 9ms/step - loss: 0.8921 - sparse_categorical_crossentropy: 0.7309 - accuracy: 0.6471 - val_loss: 0.9298 - val_sparse_categorical_crossentropy: 0.7696 - val_accuracy: 0.6515\n",
      "Epoch 42/1000\n",
      "21/21 [==============================] - 0s 9ms/step - loss: 0.8891 - sparse_categorical_crossentropy: 0.7283 - accuracy: 0.6468 - val_loss: 0.9275 - val_sparse_categorical_crossentropy: 0.7666 - val_accuracy: 0.6475\n",
      "Epoch 43/1000\n",
      "21/21 [==============================] - 0s 9ms/step - loss: 0.8848 - sparse_categorical_crossentropy: 0.7241 - accuracy: 0.6493 - val_loss: 0.9281 - val_sparse_categorical_crossentropy: 0.7672 - val_accuracy: 0.6434\n",
      "Epoch 44/1000\n",
      "21/21 [==============================] - 0s 9ms/step - loss: 0.8809 - sparse_categorical_crossentropy: 0.7207 - accuracy: 0.6503 - val_loss: 0.9274 - val_sparse_categorical_crossentropy: 0.7658 - val_accuracy: 0.6411\n",
      "Epoch 45/1000\n",
      "21/21 [==============================] - 0s 10ms/step - loss: 0.8792 - sparse_categorical_crossentropy: 0.7188 - accuracy: 0.6515 - val_loss: 0.9266 - val_sparse_categorical_crossentropy: 0.7660 - val_accuracy: 0.6440\n",
      "Epoch 46/1000\n",
      "21/21 [==============================] - 0s 9ms/step - loss: 0.8789 - sparse_categorical_crossentropy: 0.7186 - accuracy: 0.6514 - val_loss: 0.9196 - val_sparse_categorical_crossentropy: 0.7606 - val_accuracy: 0.6517\n",
      "Epoch 47/1000\n",
      "21/21 [==============================] - 0s 8ms/step - loss: 0.8758 - sparse_categorical_crossentropy: 0.7160 - accuracy: 0.6526 - val_loss: 0.9164 - val_sparse_categorical_crossentropy: 0.7576 - val_accuracy: 0.6527\n",
      "Epoch 48/1000\n",
      "21/21 [==============================] - 0s 9ms/step - loss: 0.8743 - sparse_categorical_crossentropy: 0.7149 - accuracy: 0.6513 - val_loss: 0.9276 - val_sparse_categorical_crossentropy: 0.7659 - val_accuracy: 0.6341\n",
      "Epoch 49/1000\n",
      "21/21 [==============================] - 0s 9ms/step - loss: 0.8731 - sparse_categorical_crossentropy: 0.7129 - accuracy: 0.6556 - val_loss: 0.9212 - val_sparse_categorical_crossentropy: 0.7598 - val_accuracy: 0.6410\n",
      "Epoch 50/1000\n",
      "21/21 [==============================] - 0s 9ms/step - loss: 0.8714 - sparse_categorical_crossentropy: 0.7121 - accuracy: 0.6555 - val_loss: 0.9228 - val_sparse_categorical_crossentropy: 0.7629 - val_accuracy: 0.6369\n",
      "Epoch 51/1000\n",
      "21/21 [==============================] - 0s 9ms/step - loss: 0.8700 - sparse_categorical_crossentropy: 0.7111 - accuracy: 0.6561 - val_loss: 0.9236 - val_sparse_categorical_crossentropy: 0.7630 - val_accuracy: 0.6327\n",
      "Epoch 52/1000\n",
      "21/21 [==============================] - 0s 8ms/step - loss: 0.8659 - sparse_categorical_crossentropy: 0.7067 - accuracy: 0.6571 - val_loss: 0.9113 - val_sparse_categorical_crossentropy: 0.7529 - val_accuracy: 0.6513\n",
      "Epoch 53/1000\n",
      "21/21 [==============================] - 0s 8ms/step - loss: 0.8659 - sparse_categorical_crossentropy: 0.7070 - accuracy: 0.6567 - val_loss: 0.9086 - val_sparse_categorical_crossentropy: 0.7509 - val_accuracy: 0.6559\n",
      "Epoch 54/1000\n",
      "21/21 [==============================] - 0s 8ms/step - loss: 0.8637 - sparse_categorical_crossentropy: 0.7050 - accuracy: 0.6589 - val_loss: 0.9075 - val_sparse_categorical_crossentropy: 0.7500 - val_accuracy: 0.6562\n",
      "Epoch 55/1000\n",
      "21/21 [==============================] - 0s 8ms/step - loss: 0.8626 - sparse_categorical_crossentropy: 0.7040 - accuracy: 0.6593 - val_loss: 0.9059 - val_sparse_categorical_crossentropy: 0.7484 - val_accuracy: 0.6534\n",
      "Epoch 56/1000\n",
      "21/21 [==============================] - 0s 9ms/step - loss: 0.8572 - sparse_categorical_crossentropy: 0.6993 - accuracy: 0.6604 - val_loss: 0.9028 - val_sparse_categorical_crossentropy: 0.7460 - val_accuracy: 0.6580\n",
      "Epoch 57/1000\n",
      "21/21 [==============================] - 0s 9ms/step - loss: 0.8581 - sparse_categorical_crossentropy: 0.6997 - accuracy: 0.6593 - val_loss: 0.9031 - val_sparse_categorical_crossentropy: 0.7463 - val_accuracy: 0.6574\n",
      "Epoch 58/1000\n",
      "21/21 [==============================] - 0s 9ms/step - loss: 0.8526 - sparse_categorical_crossentropy: 0.6947 - accuracy: 0.6633 - val_loss: 0.9012 - val_sparse_categorical_crossentropy: 0.7442 - val_accuracy: 0.6566\n",
      "Epoch 59/1000\n",
      "21/21 [==============================] - 0s 8ms/step - loss: 0.8562 - sparse_categorical_crossentropy: 0.6984 - accuracy: 0.6582 - val_loss: 0.9028 - val_sparse_categorical_crossentropy: 0.7470 - val_accuracy: 0.6573\n",
      "Epoch 60/1000\n",
      "21/21 [==============================] - 0s 9ms/step - loss: 0.8528 - sparse_categorical_crossentropy: 0.6955 - accuracy: 0.6608 - val_loss: 0.8990 - val_sparse_categorical_crossentropy: 0.7419 - val_accuracy: 0.6539\n",
      "Epoch 61/1000\n",
      "21/21 [==============================] - 0s 9ms/step - loss: 0.8496 - sparse_categorical_crossentropy: 0.6920 - accuracy: 0.6639 - val_loss: 0.8964 - val_sparse_categorical_crossentropy: 0.7401 - val_accuracy: 0.6584\n",
      "Epoch 62/1000\n",
      "21/21 [==============================] - 0s 9ms/step - loss: 0.8472 - sparse_categorical_crossentropy: 0.6899 - accuracy: 0.6652 - val_loss: 0.8984 - val_sparse_categorical_crossentropy: 0.7421 - val_accuracy: 0.6571\n",
      "Epoch 63/1000\n",
      "21/21 [==============================] - 0s 9ms/step - loss: 0.8490 - sparse_categorical_crossentropy: 0.6924 - accuracy: 0.6622 - val_loss: 0.8978 - val_sparse_categorical_crossentropy: 0.7419 - val_accuracy: 0.6542\n",
      "Epoch 64/1000\n",
      "21/21 [==============================] - 0s 8ms/step - loss: 0.8472 - sparse_categorical_crossentropy: 0.6906 - accuracy: 0.6633 - val_loss: 0.8960 - val_sparse_categorical_crossentropy: 0.7403 - val_accuracy: 0.6586\n",
      "Epoch 65/1000\n",
      "21/21 [==============================] - 0s 8ms/step - loss: 0.8458 - sparse_categorical_crossentropy: 0.6894 - accuracy: 0.6662 - val_loss: 0.8986 - val_sparse_categorical_crossentropy: 0.7418 - val_accuracy: 0.6493\n",
      "Epoch 66/1000\n",
      "21/21 [==============================] - 0s 8ms/step - loss: 0.8449 - sparse_categorical_crossentropy: 0.6886 - accuracy: 0.6654 - val_loss: 0.9017 - val_sparse_categorical_crossentropy: 0.7450 - val_accuracy: 0.6451\n",
      "Epoch 67/1000\n",
      "21/21 [==============================] - 0s 8ms/step - loss: 0.8417 - sparse_categorical_crossentropy: 0.6858 - accuracy: 0.6671 - val_loss: 0.9065 - val_sparse_categorical_crossentropy: 0.7491 - val_accuracy: 0.6356\n",
      "Epoch 68/1000\n",
      "21/21 [==============================] - 0s 8ms/step - loss: 0.8402 - sparse_categorical_crossentropy: 0.6843 - accuracy: 0.6680 - val_loss: 0.8915 - val_sparse_categorical_crossentropy: 0.7361 - val_accuracy: 0.6525\n",
      "Epoch 69/1000\n",
      "21/21 [==============================] - 0s 8ms/step - loss: 0.8420 - sparse_categorical_crossentropy: 0.6866 - accuracy: 0.6667 - val_loss: 0.8939 - val_sparse_categorical_crossentropy: 0.7391 - val_accuracy: 0.6555\n",
      "Epoch 70/1000\n",
      "21/21 [==============================] - 0s 8ms/step - loss: 0.8403 - sparse_categorical_crossentropy: 0.6854 - accuracy: 0.6659 - val_loss: 0.8955 - val_sparse_categorical_crossentropy: 0.7403 - val_accuracy: 0.6462\n",
      "Epoch 71/1000\n",
      "21/21 [==============================] - 0s 8ms/step - loss: 0.8376 - sparse_categorical_crossentropy: 0.6829 - accuracy: 0.6679 - val_loss: 0.8911 - val_sparse_categorical_crossentropy: 0.7373 - val_accuracy: 0.6572\n",
      "Epoch 72/1000\n",
      "21/21 [==============================] - 0s 8ms/step - loss: 0.8364 - sparse_categorical_crossentropy: 0.6818 - accuracy: 0.6695 - val_loss: 0.8907 - val_sparse_categorical_crossentropy: 0.7362 - val_accuracy: 0.6528\n",
      "Epoch 73/1000\n",
      "21/21 [==============================] - 0s 8ms/step - loss: 0.8341 - sparse_categorical_crossentropy: 0.6793 - accuracy: 0.6709 - val_loss: 0.8936 - val_sparse_categorical_crossentropy: 0.7387 - val_accuracy: 0.6509\n",
      "Epoch 74/1000\n",
      "21/21 [==============================] - 0s 8ms/step - loss: 0.8335 - sparse_categorical_crossentropy: 0.6790 - accuracy: 0.6696 - val_loss: 0.8920 - val_sparse_categorical_crossentropy: 0.7369 - val_accuracy: 0.6483\n",
      "Epoch 75/1000\n",
      "21/21 [==============================] - 0s 8ms/step - loss: 0.8336 - sparse_categorical_crossentropy: 0.6790 - accuracy: 0.6665 - val_loss: 0.8930 - val_sparse_categorical_crossentropy: 0.7391 - val_accuracy: 0.6500\n",
      "Epoch 76/1000\n",
      "21/21 [==============================] - 0s 8ms/step - loss: 0.8303 - sparse_categorical_crossentropy: 0.6761 - accuracy: 0.6710 - val_loss: 0.8897 - val_sparse_categorical_crossentropy: 0.7354 - val_accuracy: 0.6527\n",
      "Epoch 77/1000\n",
      "21/21 [==============================] - 0s 9ms/step - loss: 0.8308 - sparse_categorical_crossentropy: 0.6766 - accuracy: 0.6708 - val_loss: 0.8881 - val_sparse_categorical_crossentropy: 0.7335 - val_accuracy: 0.6529\n",
      "Epoch 78/1000\n",
      "21/21 [==============================] - 0s 9ms/step - loss: 0.8293 - sparse_categorical_crossentropy: 0.6752 - accuracy: 0.6710 - val_loss: 0.8883 - val_sparse_categorical_crossentropy: 0.7345 - val_accuracy: 0.6488\n",
      "Epoch 79/1000\n",
      "21/21 [==============================] - 0s 9ms/step - loss: 0.8257 - sparse_categorical_crossentropy: 0.6718 - accuracy: 0.6743 - val_loss: 0.8836 - val_sparse_categorical_crossentropy: 0.7300 - val_accuracy: 0.6574\n",
      "Epoch 80/1000\n",
      "21/21 [==============================] - 0s 8ms/step - loss: 0.8280 - sparse_categorical_crossentropy: 0.6741 - accuracy: 0.6730 - val_loss: 0.8923 - val_sparse_categorical_crossentropy: 0.7376 - val_accuracy: 0.6404\n",
      "Epoch 81/1000\n",
      "21/21 [==============================] - 0s 8ms/step - loss: 0.8263 - sparse_categorical_crossentropy: 0.6728 - accuracy: 0.6720 - val_loss: 0.8847 - val_sparse_categorical_crossentropy: 0.7319 - val_accuracy: 0.6546\n",
      "Epoch 82/1000\n",
      "21/21 [==============================] - 0s 8ms/step - loss: 0.8255 - sparse_categorical_crossentropy: 0.6724 - accuracy: 0.6726 - val_loss: 0.8874 - val_sparse_categorical_crossentropy: 0.7338 - val_accuracy: 0.6494\n",
      "Epoch 83/1000\n",
      "21/21 [==============================] - 0s 9ms/step - loss: 0.8221 - sparse_categorical_crossentropy: 0.6687 - accuracy: 0.6757 - val_loss: 0.8987 - val_sparse_categorical_crossentropy: 0.7440 - val_accuracy: 0.6333\n",
      "Epoch 84/1000\n",
      "21/21 [==============================] - 0s 9ms/step - loss: 0.8224 - sparse_categorical_crossentropy: 0.6692 - accuracy: 0.6731 - val_loss: 0.8797 - val_sparse_categorical_crossentropy: 0.7281 - val_accuracy: 0.6623\n",
      "Epoch 85/1000\n",
      "21/21 [==============================] - 0s 9ms/step - loss: 0.8242 - sparse_categorical_crossentropy: 0.6715 - accuracy: 0.6728 - val_loss: 0.8933 - val_sparse_categorical_crossentropy: 0.7394 - val_accuracy: 0.6401\n",
      "Epoch 86/1000\n",
      "21/21 [==============================] - 0s 8ms/step - loss: 0.8248 - sparse_categorical_crossentropy: 0.6720 - accuracy: 0.6707 - val_loss: 0.8919 - val_sparse_categorical_crossentropy: 0.7386 - val_accuracy: 0.6441\n",
      "Epoch 87/1000\n",
      "21/21 [==============================] - 0s 8ms/step - loss: 0.8205 - sparse_categorical_crossentropy: 0.6682 - accuracy: 0.6738 - val_loss: 0.8858 - val_sparse_categorical_crossentropy: 0.7333 - val_accuracy: 0.6485\n",
      "Epoch 88/1000\n",
      "21/21 [==============================] - 0s 8ms/step - loss: 0.8199 - sparse_categorical_crossentropy: 0.6675 - accuracy: 0.6740 - val_loss: 0.8827 - val_sparse_categorical_crossentropy: 0.7304 - val_accuracy: 0.6505\n",
      "Epoch 89/1000\n",
      "21/21 [==============================] - 0s 8ms/step - loss: 0.8204 - sparse_categorical_crossentropy: 0.6685 - accuracy: 0.6757 - val_loss: 0.8776 - val_sparse_categorical_crossentropy: 0.7270 - val_accuracy: 0.6619\n",
      "Epoch 90/1000\n",
      "21/21 [==============================] - 0s 9ms/step - loss: 0.8152 - sparse_categorical_crossentropy: 0.6633 - accuracy: 0.6761 - val_loss: 0.8834 - val_sparse_categorical_crossentropy: 0.7306 - val_accuracy: 0.6502\n",
      "Epoch 91/1000\n",
      "21/21 [==============================] - 0s 9ms/step - loss: 0.8140 - sparse_categorical_crossentropy: 0.6615 - accuracy: 0.6807 - val_loss: 0.8791 - val_sparse_categorical_crossentropy: 0.7279 - val_accuracy: 0.6591\n",
      "Epoch 92/1000\n",
      "21/21 [==============================] - 0s 9ms/step - loss: 0.8166 - sparse_categorical_crossentropy: 0.6650 - accuracy: 0.6760 - val_loss: 0.8761 - val_sparse_categorical_crossentropy: 0.7264 - val_accuracy: 0.6635\n",
      "Epoch 93/1000\n",
      "21/21 [==============================] - 0s 9ms/step - loss: 0.8159 - sparse_categorical_crossentropy: 0.6645 - accuracy: 0.6750 - val_loss: 0.8808 - val_sparse_categorical_crossentropy: 0.7290 - val_accuracy: 0.6512\n",
      "Epoch 94/1000\n",
      "21/21 [==============================] - 0s 8ms/step - loss: 0.8157 - sparse_categorical_crossentropy: 0.6642 - accuracy: 0.6761 - val_loss: 0.8780 - val_sparse_categorical_crossentropy: 0.7274 - val_accuracy: 0.6589\n",
      "Epoch 95/1000\n",
      "21/21 [==============================] - 0s 9ms/step - loss: 0.8141 - sparse_categorical_crossentropy: 0.6628 - accuracy: 0.6764 - val_loss: 0.8817 - val_sparse_categorical_crossentropy: 0.7302 - val_accuracy: 0.6474\n",
      "Epoch 96/1000\n",
      "21/21 [==============================] - 0s 8ms/step - loss: 0.8137 - sparse_categorical_crossentropy: 0.6627 - accuracy: 0.6769 - val_loss: 0.8862 - val_sparse_categorical_crossentropy: 0.7343 - val_accuracy: 0.6446\n",
      "Epoch 97/1000\n",
      "21/21 [==============================] - 0s 8ms/step - loss: 0.8107 - sparse_categorical_crossentropy: 0.6595 - accuracy: 0.6814 - val_loss: 0.8810 - val_sparse_categorical_crossentropy: 0.7296 - val_accuracy: 0.6499\n",
      "Epoch 98/1000\n",
      "21/21 [==============================] - 0s 9ms/step - loss: 0.8096 - sparse_categorical_crossentropy: 0.6586 - accuracy: 0.6786 - val_loss: 0.8772 - val_sparse_categorical_crossentropy: 0.7281 - val_accuracy: 0.6601\n",
      "Epoch 99/1000\n",
      "21/21 [==============================] - 0s 9ms/step - loss: 0.8111 - sparse_categorical_crossentropy: 0.6602 - accuracy: 0.6783 - val_loss: 0.8793 - val_sparse_categorical_crossentropy: 0.7281 - val_accuracy: 0.6494\n",
      "Epoch 100/1000\n",
      "21/21 [==============================] - 0s 9ms/step - loss: 0.8065 - sparse_categorical_crossentropy: 0.6558 - accuracy: 0.6816 - val_loss: 0.8770 - val_sparse_categorical_crossentropy: 0.7265 - val_accuracy: 0.6525\n",
      "Epoch 101/1000\n",
      "21/21 [==============================] - 0s 9ms/step - loss: 0.8066 - sparse_categorical_crossentropy: 0.6560 - accuracy: 0.6812 - val_loss: 0.8774 - val_sparse_categorical_crossentropy: 0.7269 - val_accuracy: 0.6525\n",
      "Epoch 102/1000\n",
      "21/21 [==============================] - 0s 9ms/step - loss: 0.8070 - sparse_categorical_crossentropy: 0.6567 - accuracy: 0.6805 - val_loss: 0.8800 - val_sparse_categorical_crossentropy: 0.7295 - val_accuracy: 0.6465\n",
      "Epoch 103/1000\n",
      "21/21 [==============================] - 0s 8ms/step - loss: 0.8085 - sparse_categorical_crossentropy: 0.6583 - accuracy: 0.6787 - val_loss: 0.8754 - val_sparse_categorical_crossentropy: 0.7261 - val_accuracy: 0.6577\n",
      "Epoch 104/1000\n",
      "21/21 [==============================] - 0s 9ms/step - loss: 0.8072 - sparse_categorical_crossentropy: 0.6572 - accuracy: 0.6790 - val_loss: 0.8789 - val_sparse_categorical_crossentropy: 0.7290 - val_accuracy: 0.6496\n",
      "Epoch 105/1000\n",
      "21/21 [==============================] - 0s 9ms/step - loss: 0.8053 - sparse_categorical_crossentropy: 0.6554 - accuracy: 0.6802 - val_loss: 0.8734 - val_sparse_categorical_crossentropy: 0.7240 - val_accuracy: 0.6551\n",
      "Epoch 106/1000\n",
      "21/21 [==============================] - 0s 9ms/step - loss: 0.8061 - sparse_categorical_crossentropy: 0.6562 - accuracy: 0.6804 - val_loss: 0.8767 - val_sparse_categorical_crossentropy: 0.7270 - val_accuracy: 0.6510\n",
      "Epoch 107/1000\n",
      "21/21 [==============================] - 0s 10ms/step - loss: 0.8044 - sparse_categorical_crossentropy: 0.6550 - accuracy: 0.6797 - val_loss: 0.8806 - val_sparse_categorical_crossentropy: 0.7308 - val_accuracy: 0.6434\n",
      "Epoch 108/1000\n",
      "21/21 [==============================] - 0s 9ms/step - loss: 0.8029 - sparse_categorical_crossentropy: 0.6537 - accuracy: 0.6810 - val_loss: 0.8814 - val_sparse_categorical_crossentropy: 0.7316 - val_accuracy: 0.6436\n",
      "Epoch 109/1000\n",
      "21/21 [==============================] - 0s 9ms/step - loss: 0.8012 - sparse_categorical_crossentropy: 0.6513 - accuracy: 0.6827 - val_loss: 0.8760 - val_sparse_categorical_crossentropy: 0.7261 - val_accuracy: 0.6519\n",
      "Epoch 110/1000\n",
      "21/21 [==============================] - 0s 10ms/step - loss: 0.7999 - sparse_categorical_crossentropy: 0.6499 - accuracy: 0.6828 - val_loss: 0.8735 - val_sparse_categorical_crossentropy: 0.7239 - val_accuracy: 0.6550\n",
      "Epoch 111/1000\n",
      "21/21 [==============================] - 0s 10ms/step - loss: 0.7974 - sparse_categorical_crossentropy: 0.6481 - accuracy: 0.6852 - val_loss: 0.8749 - val_sparse_categorical_crossentropy: 0.7254 - val_accuracy: 0.6517\n",
      "Epoch 112/1000\n",
      "21/21 [==============================] - 0s 9ms/step - loss: 0.8003 - sparse_categorical_crossentropy: 0.6507 - accuracy: 0.6840 - val_loss: 0.8690 - val_sparse_categorical_crossentropy: 0.7213 - val_accuracy: 0.6646\n",
      "Epoch 113/1000\n",
      "21/21 [==============================] - 0s 9ms/step - loss: 0.7987 - sparse_categorical_crossentropy: 0.6496 - accuracy: 0.6839 - val_loss: 0.8727 - val_sparse_categorical_crossentropy: 0.7236 - val_accuracy: 0.6509\n",
      "Epoch 114/1000\n",
      "21/21 [==============================] - 0s 10ms/step - loss: 0.7976 - sparse_categorical_crossentropy: 0.6486 - accuracy: 0.6842 - val_loss: 0.8698 - val_sparse_categorical_crossentropy: 0.7209 - val_accuracy: 0.6558\n",
      "Epoch 115/1000\n",
      "21/21 [==============================] - 0s 9ms/step - loss: 0.7968 - sparse_categorical_crossentropy: 0.6477 - accuracy: 0.6830 - val_loss: 0.8671 - val_sparse_categorical_crossentropy: 0.7193 - val_accuracy: 0.6598\n",
      "Epoch 116/1000\n",
      "21/21 [==============================] - 0s 9ms/step - loss: 0.7976 - sparse_categorical_crossentropy: 0.6490 - accuracy: 0.6827 - val_loss: 0.8692 - val_sparse_categorical_crossentropy: 0.7207 - val_accuracy: 0.6548\n",
      "Epoch 117/1000\n",
      "21/21 [==============================] - 0s 9ms/step - loss: 0.7979 - sparse_categorical_crossentropy: 0.6495 - accuracy: 0.6840 - val_loss: 0.8731 - val_sparse_categorical_crossentropy: 0.7248 - val_accuracy: 0.6502\n",
      "Epoch 118/1000\n",
      "21/21 [==============================] - 0s 9ms/step - loss: 0.7962 - sparse_categorical_crossentropy: 0.6480 - accuracy: 0.6864 - val_loss: 0.8701 - val_sparse_categorical_crossentropy: 0.7219 - val_accuracy: 0.6497\n",
      "Epoch 119/1000\n",
      "21/21 [==============================] - 0s 9ms/step - loss: 0.7943 - sparse_categorical_crossentropy: 0.6459 - accuracy: 0.6877 - val_loss: 0.8686 - val_sparse_categorical_crossentropy: 0.7209 - val_accuracy: 0.6554\n",
      "Epoch 120/1000\n",
      "21/21 [==============================] - 0s 9ms/step - loss: 0.7962 - sparse_categorical_crossentropy: 0.6480 - accuracy: 0.6862 - val_loss: 0.8771 - val_sparse_categorical_crossentropy: 0.7280 - val_accuracy: 0.6412\n",
      "Epoch 121/1000\n",
      "21/21 [==============================] - 0s 9ms/step - loss: 0.7938 - sparse_categorical_crossentropy: 0.6453 - accuracy: 0.6863 - val_loss: 0.8689 - val_sparse_categorical_crossentropy: 0.7207 - val_accuracy: 0.6529\n",
      "Epoch 122/1000\n",
      "21/21 [==============================] - 0s 8ms/step - loss: 0.7925 - sparse_categorical_crossentropy: 0.6442 - accuracy: 0.6865 - val_loss: 0.8720 - val_sparse_categorical_crossentropy: 0.7242 - val_accuracy: 0.6528\n",
      "Epoch 123/1000\n",
      "21/21 [==============================] - 0s 8ms/step - loss: 0.7909 - sparse_categorical_crossentropy: 0.6430 - accuracy: 0.6870 - val_loss: 0.8876 - val_sparse_categorical_crossentropy: 0.7383 - val_accuracy: 0.6332\n",
      "Epoch 124/1000\n",
      "21/21 [==============================] - 0s 8ms/step - loss: 0.7917 - sparse_categorical_crossentropy: 0.6434 - accuracy: 0.6855 - val_loss: 0.8679 - val_sparse_categorical_crossentropy: 0.7204 - val_accuracy: 0.6604\n",
      "Epoch 125/1000\n",
      "21/21 [==============================] - 0s 11ms/step - loss: 0.7901 - sparse_categorical_crossentropy: 0.6418 - accuracy: 0.6877 - val_loss: 0.8702 - val_sparse_categorical_crossentropy: 0.7221 - val_accuracy: 0.6537\n",
      "Epoch 126/1000\n",
      "21/21 [==============================] - 0s 9ms/step - loss: 0.7907 - sparse_categorical_crossentropy: 0.6426 - accuracy: 0.6895 - val_loss: 0.8710 - val_sparse_categorical_crossentropy: 0.7231 - val_accuracy: 0.6489\n",
      "Epoch 127/1000\n",
      "21/21 [==============================] - 0s 9ms/step - loss: 0.7904 - sparse_categorical_crossentropy: 0.6424 - accuracy: 0.6874 - val_loss: 0.8700 - val_sparse_categorical_crossentropy: 0.7221 - val_accuracy: 0.6522\n",
      "Epoch 128/1000\n",
      "21/21 [==============================] - 0s 8ms/step - loss: 0.7878 - sparse_categorical_crossentropy: 0.6402 - accuracy: 0.6878 - val_loss: 0.8729 - val_sparse_categorical_crossentropy: 0.7247 - val_accuracy: 0.6483\n",
      "Epoch 129/1000\n",
      "21/21 [==============================] - 0s 8ms/step - loss: 0.7886 - sparse_categorical_crossentropy: 0.6410 - accuracy: 0.6861 - val_loss: 0.8718 - val_sparse_categorical_crossentropy: 0.7238 - val_accuracy: 0.6469\n",
      "Epoch 130/1000\n",
      "21/21 [==============================] - 0s 9ms/step - loss: 0.7865 - sparse_categorical_crossentropy: 0.6388 - accuracy: 0.6890 - val_loss: 0.8649 - val_sparse_categorical_crossentropy: 0.7176 - val_accuracy: 0.6547\n",
      "Epoch 131/1000\n",
      "21/21 [==============================] - 0s 9ms/step - loss: 0.7877 - sparse_categorical_crossentropy: 0.6405 - accuracy: 0.6860 - val_loss: 0.8662 - val_sparse_categorical_crossentropy: 0.7196 - val_accuracy: 0.6574\n",
      "Epoch 132/1000\n",
      "21/21 [==============================] - 0s 9ms/step - loss: 0.7874 - sparse_categorical_crossentropy: 0.6404 - accuracy: 0.6867 - val_loss: 0.8684 - val_sparse_categorical_crossentropy: 0.7215 - val_accuracy: 0.6524\n",
      "Epoch 133/1000\n",
      "21/21 [==============================] - 0s 9ms/step - loss: 0.7867 - sparse_categorical_crossentropy: 0.6396 - accuracy: 0.6879 - val_loss: 0.8636 - val_sparse_categorical_crossentropy: 0.7175 - val_accuracy: 0.6596\n",
      "Epoch 134/1000\n",
      "21/21 [==============================] - 0s 9ms/step - loss: 0.7864 - sparse_categorical_crossentropy: 0.6397 - accuracy: 0.6879 - val_loss: 0.8640 - val_sparse_categorical_crossentropy: 0.7177 - val_accuracy: 0.6572\n",
      "Epoch 135/1000\n",
      "21/21 [==============================] - 0s 9ms/step - loss: 0.7841 - sparse_categorical_crossentropy: 0.6374 - accuracy: 0.6877 - val_loss: 0.8673 - val_sparse_categorical_crossentropy: 0.7208 - val_accuracy: 0.6545\n",
      "Epoch 136/1000\n",
      "21/21 [==============================] - 0s 9ms/step - loss: 0.7819 - sparse_categorical_crossentropy: 0.6353 - accuracy: 0.6895 - val_loss: 0.8643 - val_sparse_categorical_crossentropy: 0.7182 - val_accuracy: 0.6607\n",
      "Epoch 137/1000\n",
      "21/21 [==============================] - 0s 8ms/step - loss: 0.7884 - sparse_categorical_crossentropy: 0.6417 - accuracy: 0.6879 - val_loss: 0.8651 - val_sparse_categorical_crossentropy: 0.7191 - val_accuracy: 0.6560\n",
      "Epoch 138/1000\n",
      "21/21 [==============================] - 0s 8ms/step - loss: 0.7844 - sparse_categorical_crossentropy: 0.6382 - accuracy: 0.6888 - val_loss: 0.8668 - val_sparse_categorical_crossentropy: 0.7218 - val_accuracy: 0.6594\n",
      "Epoch 139/1000\n",
      "21/21 [==============================] - 0s 9ms/step - loss: 0.7837 - sparse_categorical_crossentropy: 0.6379 - accuracy: 0.6903 - val_loss: 0.8635 - val_sparse_categorical_crossentropy: 0.7177 - val_accuracy: 0.6573\n",
      "Epoch 140/1000\n",
      "21/21 [==============================] - 0s 9ms/step - loss: 0.7824 - sparse_categorical_crossentropy: 0.6361 - accuracy: 0.6909 - val_loss: 0.8666 - val_sparse_categorical_crossentropy: 0.7207 - val_accuracy: 0.6581\n",
      "Epoch 141/1000\n",
      "21/21 [==============================] - 0s 9ms/step - loss: 0.7808 - sparse_categorical_crossentropy: 0.6345 - accuracy: 0.6906 - val_loss: 0.8663 - val_sparse_categorical_crossentropy: 0.7200 - val_accuracy: 0.6517\n",
      "Epoch 142/1000\n",
      "21/21 [==============================] - 0s 9ms/step - loss: 0.7786 - sparse_categorical_crossentropy: 0.6325 - accuracy: 0.6911 - val_loss: 0.8626 - val_sparse_categorical_crossentropy: 0.7171 - val_accuracy: 0.6563\n",
      "Epoch 143/1000\n",
      "21/21 [==============================] - 0s 9ms/step - loss: 0.7815 - sparse_categorical_crossentropy: 0.6356 - accuracy: 0.6905 - val_loss: 0.8641 - val_sparse_categorical_crossentropy: 0.7188 - val_accuracy: 0.6558\n",
      "Epoch 144/1000\n",
      "21/21 [==============================] - 0s 9ms/step - loss: 0.7799 - sparse_categorical_crossentropy: 0.6339 - accuracy: 0.6922 - val_loss: 0.8684 - val_sparse_categorical_crossentropy: 0.7222 - val_accuracy: 0.6497\n",
      "Epoch 145/1000\n",
      "21/21 [==============================] - 0s 9ms/step - loss: 0.7788 - sparse_categorical_crossentropy: 0.6329 - accuracy: 0.6920 - val_loss: 0.8674 - val_sparse_categorical_crossentropy: 0.7218 - val_accuracy: 0.6510\n",
      "Epoch 146/1000\n",
      "21/21 [==============================] - 0s 9ms/step - loss: 0.7802 - sparse_categorical_crossentropy: 0.6347 - accuracy: 0.6903 - val_loss: 0.8707 - val_sparse_categorical_crossentropy: 0.7245 - val_accuracy: 0.6458\n",
      "Epoch 147/1000\n",
      "21/21 [==============================] - 0s 9ms/step - loss: 0.7786 - sparse_categorical_crossentropy: 0.6328 - accuracy: 0.6908 - val_loss: 0.8594 - val_sparse_categorical_crossentropy: 0.7144 - val_accuracy: 0.6563\n",
      "Epoch 148/1000\n",
      "21/21 [==============================] - 0s 9ms/step - loss: 0.7796 - sparse_categorical_crossentropy: 0.6340 - accuracy: 0.6908 - val_loss: 0.8700 - val_sparse_categorical_crossentropy: 0.7236 - val_accuracy: 0.6442\n",
      "Epoch 149/1000\n",
      "21/21 [==============================] - 0s 9ms/step - loss: 0.7777 - sparse_categorical_crossentropy: 0.6322 - accuracy: 0.6929 - val_loss: 0.8642 - val_sparse_categorical_crossentropy: 0.7182 - val_accuracy: 0.6486\n",
      "Epoch 150/1000\n",
      "21/21 [==============================] - 0s 8ms/step - loss: 0.7778 - sparse_categorical_crossentropy: 0.6321 - accuracy: 0.6918 - val_loss: 0.8599 - val_sparse_categorical_crossentropy: 0.7154 - val_accuracy: 0.6594\n",
      "Epoch 151/1000\n",
      "21/21 [==============================] - 0s 8ms/step - loss: 0.7784 - sparse_categorical_crossentropy: 0.6328 - accuracy: 0.6923 - val_loss: 0.8633 - val_sparse_categorical_crossentropy: 0.7186 - val_accuracy: 0.6582\n",
      "Epoch 152/1000\n",
      "21/21 [==============================] - 0s 8ms/step - loss: 0.7787 - sparse_categorical_crossentropy: 0.6333 - accuracy: 0.6921 - val_loss: 0.8700 - val_sparse_categorical_crossentropy: 0.7245 - val_accuracy: 0.6449\n",
      "Epoch 153/1000\n",
      "21/21 [==============================] - 0s 8ms/step - loss: 0.7775 - sparse_categorical_crossentropy: 0.6326 - accuracy: 0.6914 - val_loss: 0.8740 - val_sparse_categorical_crossentropy: 0.7286 - val_accuracy: 0.6413\n",
      "Epoch 154/1000\n",
      "21/21 [==============================] - 0s 8ms/step - loss: 0.7748 - sparse_categorical_crossentropy: 0.6293 - accuracy: 0.6920 - val_loss: 0.8633 - val_sparse_categorical_crossentropy: 0.7183 - val_accuracy: 0.6558\n",
      "Epoch 155/1000\n",
      "21/21 [==============================] - 0s 9ms/step - loss: 0.7741 - sparse_categorical_crossentropy: 0.6286 - accuracy: 0.6935 - val_loss: 0.8656 - val_sparse_categorical_crossentropy: 0.7203 - val_accuracy: 0.6485\n",
      "Epoch 156/1000\n",
      "21/21 [==============================] - 0s 9ms/step - loss: 0.7749 - sparse_categorical_crossentropy: 0.6298 - accuracy: 0.6924 - val_loss: 0.8591 - val_sparse_categorical_crossentropy: 0.7152 - val_accuracy: 0.6558\n",
      "Epoch 157/1000\n",
      "21/21 [==============================] - 0s 9ms/step - loss: 0.7748 - sparse_categorical_crossentropy: 0.6297 - accuracy: 0.6940 - val_loss: 0.8792 - val_sparse_categorical_crossentropy: 0.7326 - val_accuracy: 0.6375\n",
      "Epoch 158/1000\n",
      "21/21 [==============================] - 0s 8ms/step - loss: 0.7753 - sparse_categorical_crossentropy: 0.6298 - accuracy: 0.6907 - val_loss: 0.8626 - val_sparse_categorical_crossentropy: 0.7191 - val_accuracy: 0.6648\n",
      "Epoch 159/1000\n",
      "21/21 [==============================] - 0s 8ms/step - loss: 0.7750 - sparse_categorical_crossentropy: 0.6299 - accuracy: 0.6939 - val_loss: 0.8681 - val_sparse_categorical_crossentropy: 0.7229 - val_accuracy: 0.6492\n",
      "Epoch 160/1000\n",
      "21/21 [==============================] - 0s 8ms/step - loss: 0.7732 - sparse_categorical_crossentropy: 0.6288 - accuracy: 0.6933 - val_loss: 0.8651 - val_sparse_categorical_crossentropy: 0.7215 - val_accuracy: 0.6540\n",
      "Epoch 161/1000\n",
      "21/21 [==============================] - 0s 8ms/step - loss: 0.7710 - sparse_categorical_crossentropy: 0.6265 - accuracy: 0.6957 - val_loss: 0.8679 - val_sparse_categorical_crossentropy: 0.7227 - val_accuracy: 0.6467\n",
      "Epoch 162/1000\n",
      "21/21 [==============================] - 0s 8ms/step - loss: 0.7735 - sparse_categorical_crossentropy: 0.6288 - accuracy: 0.6945 - val_loss: 0.8619 - val_sparse_categorical_crossentropy: 0.7183 - val_accuracy: 0.6537\n",
      "Epoch 163/1000\n",
      "21/21 [==============================] - 0s 8ms/step - loss: 0.7729 - sparse_categorical_crossentropy: 0.6289 - accuracy: 0.6941 - val_loss: 0.8606 - val_sparse_categorical_crossentropy: 0.7173 - val_accuracy: 0.6574\n",
      "Epoch 164/1000\n",
      "21/21 [==============================] - 0s 8ms/step - loss: 0.7712 - sparse_categorical_crossentropy: 0.6272 - accuracy: 0.6949 - val_loss: 0.8720 - val_sparse_categorical_crossentropy: 0.7265 - val_accuracy: 0.6397\n",
      "Epoch 165/1000\n",
      "21/21 [==============================] - 0s 8ms/step - loss: 0.7705 - sparse_categorical_crossentropy: 0.6257 - accuracy: 0.6944 - val_loss: 0.8593 - val_sparse_categorical_crossentropy: 0.7164 - val_accuracy: 0.6609\n",
      "Epoch 166/1000\n",
      "21/21 [==============================] - 0s 9ms/step - loss: 0.7705 - sparse_categorical_crossentropy: 0.6265 - accuracy: 0.6944 - val_loss: 0.8645 - val_sparse_categorical_crossentropy: 0.7205 - val_accuracy: 0.6491\n",
      "Epoch 167/1000\n",
      "21/21 [==============================] - 0s 9ms/step - loss: 0.7701 - sparse_categorical_crossentropy: 0.6259 - accuracy: 0.6945 - val_loss: 0.8737 - val_sparse_categorical_crossentropy: 0.7284 - val_accuracy: 0.6406\n",
      "Epoch 168/1000\n",
      "21/21 [==============================] - 0s 8ms/step - loss: 0.7677 - sparse_categorical_crossentropy: 0.6231 - accuracy: 0.6967 - val_loss: 0.8597 - val_sparse_categorical_crossentropy: 0.7160 - val_accuracy: 0.6579\n",
      "Epoch 169/1000\n",
      "21/21 [==============================] - 0s 9ms/step - loss: 0.7703 - sparse_categorical_crossentropy: 0.6260 - accuracy: 0.6950 - val_loss: 0.8690 - val_sparse_categorical_crossentropy: 0.7252 - val_accuracy: 0.6466\n",
      "Epoch 170/1000\n",
      "21/21 [==============================] - 0s 8ms/step - loss: 0.7689 - sparse_categorical_crossentropy: 0.6254 - accuracy: 0.6969 - val_loss: 0.8640 - val_sparse_categorical_crossentropy: 0.7198 - val_accuracy: 0.6491\n",
      "Epoch 171/1000\n",
      "21/21 [==============================] - 0s 8ms/step - loss: 0.7697 - sparse_categorical_crossentropy: 0.6256 - accuracy: 0.6953 - val_loss: 0.8584 - val_sparse_categorical_crossentropy: 0.7152 - val_accuracy: 0.6582\n",
      "Epoch 172/1000\n",
      "21/21 [==============================] - 0s 8ms/step - loss: 0.7660 - sparse_categorical_crossentropy: 0.6220 - accuracy: 0.6992 - val_loss: 0.8612 - val_sparse_categorical_crossentropy: 0.7170 - val_accuracy: 0.6526\n",
      "Epoch 173/1000\n",
      "21/21 [==============================] - 0s 9ms/step - loss: 0.7657 - sparse_categorical_crossentropy: 0.6217 - accuracy: 0.6985 - val_loss: 0.8601 - val_sparse_categorical_crossentropy: 0.7167 - val_accuracy: 0.6544\n",
      "Epoch 174/1000\n",
      "21/21 [==============================] - 0s 9ms/step - loss: 0.7643 - sparse_categorical_crossentropy: 0.6208 - accuracy: 0.6966 - val_loss: 0.8620 - val_sparse_categorical_crossentropy: 0.7184 - val_accuracy: 0.6526\n",
      "Epoch 175/1000\n",
      "21/21 [==============================] - 0s 9ms/step - loss: 0.7649 - sparse_categorical_crossentropy: 0.6212 - accuracy: 0.6968 - val_loss: 0.8578 - val_sparse_categorical_crossentropy: 0.7147 - val_accuracy: 0.6570\n",
      "Epoch 176/1000\n",
      "21/21 [==============================] - 0s 9ms/step - loss: 0.7673 - sparse_categorical_crossentropy: 0.6237 - accuracy: 0.6951 - val_loss: 0.8579 - val_sparse_categorical_crossentropy: 0.7144 - val_accuracy: 0.6507\n",
      "Epoch 177/1000\n",
      "21/21 [==============================] - 0s 9ms/step - loss: 0.7648 - sparse_categorical_crossentropy: 0.6211 - accuracy: 0.6981 - val_loss: 0.8622 - val_sparse_categorical_crossentropy: 0.7183 - val_accuracy: 0.6483\n",
      "Epoch 178/1000\n",
      "21/21 [==============================] - 0s 9ms/step - loss: 0.7626 - sparse_categorical_crossentropy: 0.6192 - accuracy: 0.6971 - val_loss: 0.8646 - val_sparse_categorical_crossentropy: 0.7212 - val_accuracy: 0.6473\n",
      "Epoch 179/1000\n",
      "21/21 [==============================] - 0s 9ms/step - loss: 0.7638 - sparse_categorical_crossentropy: 0.6204 - accuracy: 0.6990 - val_loss: 0.8727 - val_sparse_categorical_crossentropy: 0.7284 - val_accuracy: 0.6382\n",
      "Epoch 180/1000\n",
      "21/21 [==============================] - 0s 8ms/step - loss: 0.7631 - sparse_categorical_crossentropy: 0.6196 - accuracy: 0.6978 - val_loss: 0.8564 - val_sparse_categorical_crossentropy: 0.7140 - val_accuracy: 0.6613\n",
      "Epoch 181/1000\n",
      "21/21 [==============================] - 0s 8ms/step - loss: 0.7624 - sparse_categorical_crossentropy: 0.6193 - accuracy: 0.6983 - val_loss: 0.8617 - val_sparse_categorical_crossentropy: 0.7185 - val_accuracy: 0.6496\n",
      "Epoch 182/1000\n",
      "21/21 [==============================] - 0s 8ms/step - loss: 0.7635 - sparse_categorical_crossentropy: 0.6205 - accuracy: 0.6974 - val_loss: 0.8572 - val_sparse_categorical_crossentropy: 0.7147 - val_accuracy: 0.6581\n",
      "Epoch 183/1000\n",
      "21/21 [==============================] - 0s 9ms/step - loss: 0.7644 - sparse_categorical_crossentropy: 0.6217 - accuracy: 0.6970 - val_loss: 0.8654 - val_sparse_categorical_crossentropy: 0.7224 - val_accuracy: 0.6487\n",
      "Epoch 184/1000\n",
      "21/21 [==============================] - 0s 9ms/step - loss: 0.7641 - sparse_categorical_crossentropy: 0.6212 - accuracy: 0.6971 - val_loss: 0.8577 - val_sparse_categorical_crossentropy: 0.7160 - val_accuracy: 0.6596\n",
      "Epoch 185/1000\n",
      "21/21 [==============================] - 0s 8ms/step - loss: 0.7631 - sparse_categorical_crossentropy: 0.6208 - accuracy: 0.6976 - val_loss: 0.8690 - val_sparse_categorical_crossentropy: 0.7258 - val_accuracy: 0.6423\n",
      "Epoch 186/1000\n",
      "21/21 [==============================] - 0s 9ms/step - loss: 0.7603 - sparse_categorical_crossentropy: 0.6173 - accuracy: 0.6986 - val_loss: 0.8560 - val_sparse_categorical_crossentropy: 0.7136 - val_accuracy: 0.6568\n",
      "Epoch 187/1000\n",
      "21/21 [==============================] - 0s 9ms/step - loss: 0.7618 - sparse_categorical_crossentropy: 0.6189 - accuracy: 0.6988 - val_loss: 0.8687 - val_sparse_categorical_crossentropy: 0.7246 - val_accuracy: 0.6435\n",
      "Epoch 188/1000\n",
      "21/21 [==============================] - 0s 9ms/step - loss: 0.7646 - sparse_categorical_crossentropy: 0.6214 - accuracy: 0.6965 - val_loss: 0.8532 - val_sparse_categorical_crossentropy: 0.7113 - val_accuracy: 0.6587\n",
      "Epoch 189/1000\n",
      "21/21 [==============================] - 0s 9ms/step - loss: 0.7616 - sparse_categorical_crossentropy: 0.6186 - accuracy: 0.6959 - val_loss: 0.8633 - val_sparse_categorical_crossentropy: 0.7199 - val_accuracy: 0.6478\n",
      "Epoch 190/1000\n",
      "21/21 [==============================] - 0s 9ms/step - loss: 0.7624 - sparse_categorical_crossentropy: 0.6197 - accuracy: 0.6976 - val_loss: 0.8558 - val_sparse_categorical_crossentropy: 0.7132 - val_accuracy: 0.6534\n",
      "Epoch 191/1000\n",
      "21/21 [==============================] - 0s 9ms/step - loss: 0.7628 - sparse_categorical_crossentropy: 0.6202 - accuracy: 0.6980 - val_loss: 0.8536 - val_sparse_categorical_crossentropy: 0.7123 - val_accuracy: 0.6598\n",
      "Epoch 192/1000\n",
      "21/21 [==============================] - 0s 9ms/step - loss: 0.7607 - sparse_categorical_crossentropy: 0.6185 - accuracy: 0.6996 - val_loss: 0.8698 - val_sparse_categorical_crossentropy: 0.7265 - val_accuracy: 0.6373\n",
      "Epoch 193/1000\n",
      "21/21 [==============================] - 0s 8ms/step - loss: 0.7601 - sparse_categorical_crossentropy: 0.6176 - accuracy: 0.6990 - val_loss: 0.8609 - val_sparse_categorical_crossentropy: 0.7181 - val_accuracy: 0.6453\n",
      "Epoch 194/1000\n",
      "21/21 [==============================] - 0s 9ms/step - loss: 0.7613 - sparse_categorical_crossentropy: 0.6194 - accuracy: 0.6967 - val_loss: 0.8639 - val_sparse_categorical_crossentropy: 0.7221 - val_accuracy: 0.6441\n",
      "Epoch 195/1000\n",
      "21/21 [==============================] - 0s 9ms/step - loss: 0.7592 - sparse_categorical_crossentropy: 0.6171 - accuracy: 0.6994 - val_loss: 0.8582 - val_sparse_categorical_crossentropy: 0.7156 - val_accuracy: 0.6525\n",
      "Epoch 196/1000\n",
      "21/21 [==============================] - 0s 9ms/step - loss: 0.7581 - sparse_categorical_crossentropy: 0.6157 - accuracy: 0.6998 - val_loss: 0.8544 - val_sparse_categorical_crossentropy: 0.7128 - val_accuracy: 0.6575\n",
      "Epoch 197/1000\n",
      "21/21 [==============================] - 0s 9ms/step - loss: 0.7543 - sparse_categorical_crossentropy: 0.6120 - accuracy: 0.7019 - val_loss: 0.8586 - val_sparse_categorical_crossentropy: 0.7162 - val_accuracy: 0.6514\n",
      "Epoch 198/1000\n",
      "21/21 [==============================] - 0s 8ms/step - loss: 0.7559 - sparse_categorical_crossentropy: 0.6138 - accuracy: 0.7011 - val_loss: 0.8510 - val_sparse_categorical_crossentropy: 0.7098 - val_accuracy: 0.6633\n",
      "Epoch 199/1000\n",
      "21/21 [==============================] - 0s 9ms/step - loss: 0.7559 - sparse_categorical_crossentropy: 0.6140 - accuracy: 0.7011 - val_loss: 0.8522 - val_sparse_categorical_crossentropy: 0.7110 - val_accuracy: 0.6604\n",
      "Epoch 200/1000\n",
      "21/21 [==============================] - 0s 9ms/step - loss: 0.7562 - sparse_categorical_crossentropy: 0.6145 - accuracy: 0.7001 - val_loss: 0.8618 - val_sparse_categorical_crossentropy: 0.7194 - val_accuracy: 0.6516\n",
      "Epoch 201/1000\n",
      "21/21 [==============================] - 0s 8ms/step - loss: 0.7559 - sparse_categorical_crossentropy: 0.6140 - accuracy: 0.7017 - val_loss: 0.8539 - val_sparse_categorical_crossentropy: 0.7127 - val_accuracy: 0.6585\n",
      "Epoch 202/1000\n",
      "21/21 [==============================] - 0s 9ms/step - loss: 0.7561 - sparse_categorical_crossentropy: 0.6145 - accuracy: 0.7001 - val_loss: 0.8499 - val_sparse_categorical_crossentropy: 0.7093 - val_accuracy: 0.6624\n",
      "Epoch 203/1000\n",
      "21/21 [==============================] - 0s 8ms/step - loss: 0.7542 - sparse_categorical_crossentropy: 0.6125 - accuracy: 0.7025 - val_loss: 0.8562 - val_sparse_categorical_crossentropy: 0.7143 - val_accuracy: 0.6562\n",
      "Epoch 204/1000\n",
      "21/21 [==============================] - 0s 9ms/step - loss: 0.7550 - sparse_categorical_crossentropy: 0.6131 - accuracy: 0.7004 - val_loss: 0.8557 - val_sparse_categorical_crossentropy: 0.7144 - val_accuracy: 0.6555\n",
      "Epoch 205/1000\n",
      "21/21 [==============================] - 0s 9ms/step - loss: 0.7535 - sparse_categorical_crossentropy: 0.6123 - accuracy: 0.7002 - val_loss: 0.8598 - val_sparse_categorical_crossentropy: 0.7185 - val_accuracy: 0.6509\n",
      "Epoch 206/1000\n",
      "21/21 [==============================] - 0s 9ms/step - loss: 0.7553 - sparse_categorical_crossentropy: 0.6141 - accuracy: 0.6998 - val_loss: 0.8523 - val_sparse_categorical_crossentropy: 0.7113 - val_accuracy: 0.6572\n",
      "Epoch 207/1000\n",
      "21/21 [==============================] - 0s 8ms/step - loss: 0.7544 - sparse_categorical_crossentropy: 0.6134 - accuracy: 0.7021 - val_loss: 0.8568 - val_sparse_categorical_crossentropy: 0.7157 - val_accuracy: 0.6512\n",
      "Epoch 208/1000\n",
      "21/21 [==============================] - 0s 8ms/step - loss: 0.7533 - sparse_categorical_crossentropy: 0.6123 - accuracy: 0.6999 - val_loss: 0.8530 - val_sparse_categorical_crossentropy: 0.7126 - val_accuracy: 0.6603\n",
      "Epoch 209/1000\n",
      "21/21 [==============================] - 0s 8ms/step - loss: 0.7528 - sparse_categorical_crossentropy: 0.6121 - accuracy: 0.7033 - val_loss: 0.8495 - val_sparse_categorical_crossentropy: 0.7091 - val_accuracy: 0.6585\n",
      "Epoch 210/1000\n",
      "21/21 [==============================] - 0s 9ms/step - loss: 0.7539 - sparse_categorical_crossentropy: 0.6129 - accuracy: 0.7000 - val_loss: 0.8518 - val_sparse_categorical_crossentropy: 0.7116 - val_accuracy: 0.6619\n",
      "Epoch 211/1000\n",
      "21/21 [==============================] - 0s 8ms/step - loss: 0.7528 - sparse_categorical_crossentropy: 0.6121 - accuracy: 0.7014 - val_loss: 0.8679 - val_sparse_categorical_crossentropy: 0.7261 - val_accuracy: 0.6418\n",
      "Epoch 212/1000\n",
      "21/21 [==============================] - 0s 9ms/step - loss: 0.7520 - sparse_categorical_crossentropy: 0.6109 - accuracy: 0.7006 - val_loss: 0.8589 - val_sparse_categorical_crossentropy: 0.7182 - val_accuracy: 0.6538\n",
      "Epoch 213/1000\n",
      "21/21 [==============================] - 0s 9ms/step - loss: 0.7528 - sparse_categorical_crossentropy: 0.6121 - accuracy: 0.7004 - val_loss: 0.8497 - val_sparse_categorical_crossentropy: 0.7099 - val_accuracy: 0.6624\n",
      "Epoch 214/1000\n",
      "21/21 [==============================] - 0s 9ms/step - loss: 0.7507 - sparse_categorical_crossentropy: 0.6100 - accuracy: 0.7047 - val_loss: 0.8582 - val_sparse_categorical_crossentropy: 0.7172 - val_accuracy: 0.6511\n",
      "Epoch 215/1000\n",
      "21/21 [==============================] - 0s 9ms/step - loss: 0.7523 - sparse_categorical_crossentropy: 0.6116 - accuracy: 0.7006 - val_loss: 0.8479 - val_sparse_categorical_crossentropy: 0.7084 - val_accuracy: 0.6644\n",
      "Epoch 216/1000\n",
      "21/21 [==============================] - 0s 9ms/step - loss: 0.7495 - sparse_categorical_crossentropy: 0.6090 - accuracy: 0.7041 - val_loss: 0.8541 - val_sparse_categorical_crossentropy: 0.7135 - val_accuracy: 0.6567\n",
      "Epoch 217/1000\n",
      "21/21 [==============================] - 0s 8ms/step - loss: 0.7494 - sparse_categorical_crossentropy: 0.6088 - accuracy: 0.7045 - val_loss: 0.8519 - val_sparse_categorical_crossentropy: 0.7119 - val_accuracy: 0.6626\n",
      "Epoch 218/1000\n",
      "21/21 [==============================] - 0s 9ms/step - loss: 0.7527 - sparse_categorical_crossentropy: 0.6119 - accuracy: 0.7025 - val_loss: 0.8598 - val_sparse_categorical_crossentropy: 0.7193 - val_accuracy: 0.6505\n",
      "Epoch 219/1000\n",
      "21/21 [==============================] - 0s 8ms/step - loss: 0.7514 - sparse_categorical_crossentropy: 0.6111 - accuracy: 0.7025 - val_loss: 0.8522 - val_sparse_categorical_crossentropy: 0.7130 - val_accuracy: 0.6642\n",
      "Epoch 220/1000\n",
      "21/21 [==============================] - 0s 9ms/step - loss: 0.7505 - sparse_categorical_crossentropy: 0.6101 - accuracy: 0.7037 - val_loss: 0.8662 - val_sparse_categorical_crossentropy: 0.7246 - val_accuracy: 0.6434\n",
      "Epoch 221/1000\n",
      "21/21 [==============================] - 0s 9ms/step - loss: 0.7496 - sparse_categorical_crossentropy: 0.6088 - accuracy: 0.7028 - val_loss: 0.8525 - val_sparse_categorical_crossentropy: 0.7127 - val_accuracy: 0.6603\n",
      "Epoch 222/1000\n",
      "21/21 [==============================] - 0s 9ms/step - loss: 0.7503 - sparse_categorical_crossentropy: 0.6098 - accuracy: 0.7030 - val_loss: 0.8520 - val_sparse_categorical_crossentropy: 0.7125 - val_accuracy: 0.6585\n",
      "Epoch 223/1000\n",
      "21/21 [==============================] - 0s 8ms/step - loss: 0.7475 - sparse_categorical_crossentropy: 0.6073 - accuracy: 0.7047 - val_loss: 0.8554 - val_sparse_categorical_crossentropy: 0.7151 - val_accuracy: 0.6522\n",
      "Epoch 224/1000\n",
      "21/21 [==============================] - 0s 8ms/step - loss: 0.7462 - sparse_categorical_crossentropy: 0.6059 - accuracy: 0.7056 - val_loss: 0.8637 - val_sparse_categorical_crossentropy: 0.7225 - val_accuracy: 0.6447\n",
      "Epoch 225/1000\n",
      "21/21 [==============================] - 0s 8ms/step - loss: 0.7464 - sparse_categorical_crossentropy: 0.6057 - accuracy: 0.7045 - val_loss: 0.8564 - val_sparse_categorical_crossentropy: 0.7166 - val_accuracy: 0.6546\n",
      "Epoch 226/1000\n",
      "21/21 [==============================] - 0s 9ms/step - loss: 0.7540 - sparse_categorical_crossentropy: 0.6143 - accuracy: 0.7019 - val_loss: 0.8674 - val_sparse_categorical_crossentropy: 0.7269 - val_accuracy: 0.6393\n",
      "Epoch 227/1000\n",
      "21/21 [==============================] - 0s 9ms/step - loss: 0.7530 - sparse_categorical_crossentropy: 0.6126 - accuracy: 0.7026 - val_loss: 0.8528 - val_sparse_categorical_crossentropy: 0.7127 - val_accuracy: 0.6556\n",
      "Epoch 228/1000\n",
      "21/21 [==============================] - 0s 9ms/step - loss: 0.7479 - sparse_categorical_crossentropy: 0.6075 - accuracy: 0.7054 - val_loss: 0.8571 - val_sparse_categorical_crossentropy: 0.7168 - val_accuracy: 0.6533\n",
      "Epoch 229/1000\n",
      "21/21 [==============================] - 0s 9ms/step - loss: 0.7463 - sparse_categorical_crossentropy: 0.6061 - accuracy: 0.7046 - val_loss: 0.8514 - val_sparse_categorical_crossentropy: 0.7117 - val_accuracy: 0.6577\n",
      "Epoch 230/1000\n",
      "21/21 [==============================] - 0s 9ms/step - loss: 0.7477 - sparse_categorical_crossentropy: 0.6076 - accuracy: 0.7031 - val_loss: 0.8546 - val_sparse_categorical_crossentropy: 0.7144 - val_accuracy: 0.6545\n",
      "Epoch 231/1000\n",
      "21/21 [==============================] - 0s 9ms/step - loss: 0.7495 - sparse_categorical_crossentropy: 0.6097 - accuracy: 0.7022 - val_loss: 0.8526 - val_sparse_categorical_crossentropy: 0.7136 - val_accuracy: 0.6533\n",
      "Epoch 232/1000\n",
      "21/21 [==============================] - 0s 9ms/step - loss: 0.7434 - sparse_categorical_crossentropy: 0.6035 - accuracy: 0.7053 - val_loss: 0.8619 - val_sparse_categorical_crossentropy: 0.7214 - val_accuracy: 0.6485\n",
      "Epoch 233/1000\n",
      "21/21 [==============================] - 0s 9ms/step - loss: 0.7444 - sparse_categorical_crossentropy: 0.6042 - accuracy: 0.7057 - val_loss: 0.8528 - val_sparse_categorical_crossentropy: 0.7132 - val_accuracy: 0.6554\n",
      "Epoch 234/1000\n",
      "21/21 [==============================] - 0s 9ms/step - loss: 0.7450 - sparse_categorical_crossentropy: 0.6052 - accuracy: 0.7067 - val_loss: 0.8549 - val_sparse_categorical_crossentropy: 0.7156 - val_accuracy: 0.6534\n",
      "Epoch 235/1000\n",
      "21/21 [==============================] - 0s 9ms/step - loss: 0.7465 - sparse_categorical_crossentropy: 0.6071 - accuracy: 0.7044 - val_loss: 0.8527 - val_sparse_categorical_crossentropy: 0.7140 - val_accuracy: 0.6594\n",
      "Epoch 236/1000\n",
      "21/21 [==============================] - 0s 9ms/step - loss: 0.7487 - sparse_categorical_crossentropy: 0.6089 - accuracy: 0.7036 - val_loss: 0.8816 - val_sparse_categorical_crossentropy: 0.7409 - val_accuracy: 0.6316\n",
      "Epoch 237/1000\n",
      "21/21 [==============================] - 0s 9ms/step - loss: 0.7477 - sparse_categorical_crossentropy: 0.6078 - accuracy: 0.7043 - val_loss: 0.8522 - val_sparse_categorical_crossentropy: 0.7133 - val_accuracy: 0.6596\n",
      "Epoch 238/1000\n",
      "21/21 [==============================] - 0s 9ms/step - loss: 0.7458 - sparse_categorical_crossentropy: 0.6065 - accuracy: 0.7040 - val_loss: 0.8654 - val_sparse_categorical_crossentropy: 0.7256 - val_accuracy: 0.6443\n",
      "Epoch 239/1000\n",
      "21/21 [==============================] - 0s 9ms/step - loss: 0.7439 - sparse_categorical_crossentropy: 0.6044 - accuracy: 0.7054 - val_loss: 0.8559 - val_sparse_categorical_crossentropy: 0.7164 - val_accuracy: 0.6537\n",
      "Epoch 240/1000\n",
      "21/21 [==============================] - 0s 9ms/step - loss: 0.7444 - sparse_categorical_crossentropy: 0.6050 - accuracy: 0.7066 - val_loss: 0.8488 - val_sparse_categorical_crossentropy: 0.7098 - val_accuracy: 0.6592\n",
      "Epoch 241/1000\n",
      "21/21 [==============================] - 0s 9ms/step - loss: 0.7448 - sparse_categorical_crossentropy: 0.6055 - accuracy: 0.7043 - val_loss: 0.8506 - val_sparse_categorical_crossentropy: 0.7118 - val_accuracy: 0.6565\n",
      "Epoch 242/1000\n",
      "21/21 [==============================] - 0s 10ms/step - loss: 0.7441 - sparse_categorical_crossentropy: 0.6048 - accuracy: 0.7052 - val_loss: 0.8531 - val_sparse_categorical_crossentropy: 0.7142 - val_accuracy: 0.6561\n",
      "Epoch 243/1000\n",
      "21/21 [==============================] - 0s 9ms/step - loss: 0.7428 - sparse_categorical_crossentropy: 0.6039 - accuracy: 0.7061 - val_loss: 0.8580 - val_sparse_categorical_crossentropy: 0.7190 - val_accuracy: 0.6528\n",
      "Epoch 244/1000\n",
      "21/21 [==============================] - 0s 9ms/step - loss: 0.7442 - sparse_categorical_crossentropy: 0.6053 - accuracy: 0.7051 - val_loss: 0.8561 - val_sparse_categorical_crossentropy: 0.7179 - val_accuracy: 0.6538\n",
      "Epoch 245/1000\n",
      "21/21 [==============================] - 0s 8ms/step - loss: 0.7417 - sparse_categorical_crossentropy: 0.6028 - accuracy: 0.7083 - val_loss: 0.8608 - val_sparse_categorical_crossentropy: 0.7220 - val_accuracy: 0.6493\n",
      "Epoch 246/1000\n",
      "21/21 [==============================] - 0s 9ms/step - loss: 0.7457 - sparse_categorical_crossentropy: 0.6068 - accuracy: 0.7044 - val_loss: 0.8516 - val_sparse_categorical_crossentropy: 0.7135 - val_accuracy: 0.6596\n",
      "Epoch 247/1000\n",
      "21/21 [==============================] - 0s 9ms/step - loss: 0.7443 - sparse_categorical_crossentropy: 0.6055 - accuracy: 0.7070 - val_loss: 0.8616 - val_sparse_categorical_crossentropy: 0.7221 - val_accuracy: 0.6417\n",
      "Epoch 248/1000\n",
      "21/21 [==============================] - 0s 9ms/step - loss: 0.7423 - sparse_categorical_crossentropy: 0.6034 - accuracy: 0.7056 - val_loss: 0.8481 - val_sparse_categorical_crossentropy: 0.7093 - val_accuracy: 0.6546\n",
      "Epoch 249/1000\n",
      "21/21 [==============================] - 0s 9ms/step - loss: 0.7420 - sparse_categorical_crossentropy: 0.6029 - accuracy: 0.7074 - val_loss: 0.8858 - val_sparse_categorical_crossentropy: 0.7455 - val_accuracy: 0.6253\n",
      "Epoch 250/1000\n",
      "21/21 [==============================] - 0s 9ms/step - loss: 0.7429 - sparse_categorical_crossentropy: 0.6040 - accuracy: 0.7074 - val_loss: 0.8706 - val_sparse_categorical_crossentropy: 0.7310 - val_accuracy: 0.6393\n",
      "Epoch 251/1000\n",
      "21/21 [==============================] - 0s 9ms/step - loss: 0.7430 - sparse_categorical_crossentropy: 0.6041 - accuracy: 0.7064 - val_loss: 0.8489 - val_sparse_categorical_crossentropy: 0.7111 - val_accuracy: 0.6616\n",
      "Epoch 252/1000\n",
      "21/21 [==============================] - 0s 9ms/step - loss: 0.7419 - sparse_categorical_crossentropy: 0.6031 - accuracy: 0.7063 - val_loss: 0.8626 - val_sparse_categorical_crossentropy: 0.7233 - val_accuracy: 0.6432\n",
      "Epoch 253/1000\n",
      "21/21 [==============================] - 0s 9ms/step - loss: 0.7429 - sparse_categorical_crossentropy: 0.6041 - accuracy: 0.7059 - val_loss: 0.8632 - val_sparse_categorical_crossentropy: 0.7245 - val_accuracy: 0.6419\n",
      "Epoch 254/1000\n",
      "21/21 [==============================] - 0s 9ms/step - loss: 0.7418 - sparse_categorical_crossentropy: 0.6032 - accuracy: 0.7064 - val_loss: 0.8482 - val_sparse_categorical_crossentropy: 0.7110 - val_accuracy: 0.6650\n",
      "Epoch 255/1000\n",
      "21/21 [==============================] - 0s 9ms/step - loss: 0.7423 - sparse_categorical_crossentropy: 0.6033 - accuracy: 0.7052 - val_loss: 0.8707 - val_sparse_categorical_crossentropy: 0.7312 - val_accuracy: 0.6339\n",
      "Epoch 256/1000\n",
      "21/21 [==============================] - 0s 9ms/step - loss: 0.7431 - sparse_categorical_crossentropy: 0.6044 - accuracy: 0.7078 - val_loss: 0.8497 - val_sparse_categorical_crossentropy: 0.7113 - val_accuracy: 0.6594\n",
      "Epoch 257/1000\n",
      "21/21 [==============================] - 0s 9ms/step - loss: 0.7401 - sparse_categorical_crossentropy: 0.6009 - accuracy: 0.7070 - val_loss: 0.8709 - val_sparse_categorical_crossentropy: 0.7307 - val_accuracy: 0.6364\n",
      "Epoch 258/1000\n",
      "21/21 [==============================] - 0s 9ms/step - loss: 0.7438 - sparse_categorical_crossentropy: 0.6047 - accuracy: 0.7053 - val_loss: 0.8511 - val_sparse_categorical_crossentropy: 0.7133 - val_accuracy: 0.6638\n",
      "Epoch 259/1000\n",
      "21/21 [==============================] - 0s 10ms/step - loss: 0.7420 - sparse_categorical_crossentropy: 0.6032 - accuracy: 0.7059 - val_loss: 0.8664 - val_sparse_categorical_crossentropy: 0.7276 - val_accuracy: 0.6417\n",
      "Epoch 260/1000\n",
      "21/21 [==============================] - 0s 9ms/step - loss: 0.7425 - sparse_categorical_crossentropy: 0.6038 - accuracy: 0.7056 - val_loss: 0.8473 - val_sparse_categorical_crossentropy: 0.7096 - val_accuracy: 0.6594\n",
      "Epoch 261/1000\n",
      "21/21 [==============================] - 0s 9ms/step - loss: 0.7419 - sparse_categorical_crossentropy: 0.6029 - accuracy: 0.7071 - val_loss: 0.8632 - val_sparse_categorical_crossentropy: 0.7236 - val_accuracy: 0.6433\n",
      "Epoch 262/1000\n",
      "21/21 [==============================] - 0s 9ms/step - loss: 0.7391 - sparse_categorical_crossentropy: 0.6001 - accuracy: 0.7076 - val_loss: 0.8508 - val_sparse_categorical_crossentropy: 0.7129 - val_accuracy: 0.6565\n",
      "Epoch 263/1000\n",
      "21/21 [==============================] - 0s 8ms/step - loss: 0.7388 - sparse_categorical_crossentropy: 0.6004 - accuracy: 0.7086 - val_loss: 0.8476 - val_sparse_categorical_crossentropy: 0.7098 - val_accuracy: 0.6572\n",
      "Epoch 264/1000\n",
      "21/21 [==============================] - 0s 9ms/step - loss: 0.7392 - sparse_categorical_crossentropy: 0.6007 - accuracy: 0.7059 - val_loss: 0.8604 - val_sparse_categorical_crossentropy: 0.7220 - val_accuracy: 0.6455\n",
      "Epoch 265/1000\n",
      "21/21 [==============================] - 0s 9ms/step - loss: 0.7370 - sparse_categorical_crossentropy: 0.5985 - accuracy: 0.7083 - val_loss: 0.8549 - val_sparse_categorical_crossentropy: 0.7163 - val_accuracy: 0.6491\n"
     ]
    },
    {
     "data": {
      "text/html": [
       "Waiting for W&B process to finish... <strong style=\"color:green\">(success).</strong>"
      ],
      "text/plain": [
       "<IPython.core.display.HTML object>"
      ]
     },
     "metadata": {},
     "output_type": "display_data"
    },
    {
     "data": {
      "application/vnd.jupyter.widget-view+json": {
       "model_id": "898ef05caba7440ca58a1ce0e485a684",
       "version_major": 2,
       "version_minor": 0
      },
      "text/plain": [
       "VBox(children=(Label(value='2.804 MB of 2.804 MB uploaded (0.000 MB deduped)\\r'), FloatProgress(value=1.0, max…"
      ]
     },
     "metadata": {},
     "output_type": "display_data"
    },
    {
     "data": {
      "text/html": [
       "<style>\n",
       "    table.wandb td:nth-child(1) { padding: 0 10px; text-align: left ; width: auto;} td:nth-child(2) {text-align: left ; width: 100%}\n",
       "    .wandb-row { display: flex; flex-direction: row; flex-wrap: wrap; justify-content: flex-start; width: 100% }\n",
       "    .wandb-col { display: flex; flex-direction: column; flex-basis: 100%; flex: 1; padding: 10px; }\n",
       "    </style>\n",
       "<div class=\"wandb-row\"><div class=\"wandb-col\"><h3>Run history:</h3><br/><table class=\"wandb\"><tr><td>accuracy</td><td>▁▁▄▅▅▅▆▆▆▆▇▇▇▇▇▇▇▇▇▇▇▇▇▇████████████████</td></tr><tr><td>epoch</td><td>▁▁▁▂▂▂▂▂▂▃▃▃▃▃▃▄▄▄▄▄▅▅▅▅▅▅▆▆▆▆▆▆▇▇▇▇▇███</td></tr><tr><td>loss</td><td>█▅▄▃▃▃▃▃▂▂▂▂▂▂▂▂▂▂▂▂▂▁▁▁▁▁▁▁▁▁▁▁▁▁▁▁▁▁▁▁</td></tr><tr><td>sparse_categorical_crossentropy</td><td>█▇▅▄▄▃▃▃▃▂▂▂▂▂▂▂▂▂▂▂▂▂▂▁▁▁▁▁▁▁▁▁▁▁▁▁▁▁▁▁</td></tr><tr><td>val_accuracy</td><td>▄▁▅▆▆▇▇▆██▇▇█▇▇▇▇██▇█▇▇█▇█▇██████▇▇▆███▇</td></tr><tr><td>val_loss</td><td>█▆▄▃▃▃▂▂▂▂▂▂▂▂▂▂▂▁▁▁▁▁▁▁▁▁▁▁▁▁▁▁▁▁▁▂▁▁▁▁</td></tr><tr><td>val_sparse_categorical_crossentropy</td><td>█▇▄▃▃▂▂▂▂▂▂▂▁▁▂▁▁▁▁▁▁▁▁▁▁▁▁▁▁▁▁▁▁▁▁▂▁▁▁▁</td></tr></table><br/></div><div class=\"wandb-col\"><h3>Run summary:</h3><br/><table class=\"wandb\"><tr><td>GFLOPS</td><td>0.00024</td></tr><tr><td>accuracy</td><td>0.70833</td></tr><tr><td>best_epoch</td><td>214</td></tr><tr><td>best_val_sparse_categorical_crossentropy</td><td>0.70844</td></tr><tr><td>epoch</td><td>264</td></tr><tr><td>loss</td><td>0.73695</td></tr><tr><td>sparse_categorical_crossentropy</td><td>0.59847</td></tr><tr><td>val_accuracy</td><td>0.6491</td></tr><tr><td>val_loss</td><td>0.85487</td></tr><tr><td>val_sparse_categorical_crossentropy</td><td>0.71627</td></tr></table><br/></div></div>"
      ],
      "text/plain": [
       "<IPython.core.display.HTML object>"
      ]
     },
     "metadata": {},
     "output_type": "display_data"
    },
    {
     "data": {
      "text/html": [
       "Synced <strong style=\"color:#cdcd00\">gentle-terrain-41</strong>: <a href=\"https://wandb.ai/eltoncn/SygilDetector/runs/35qxb58i\" target=\"_blank\">https://wandb.ai/eltoncn/SygilDetector/runs/35qxb58i</a><br/>Synced 5 W&B file(s), 1 media file(s), 0 artifact file(s) and 1 other file(s)"
      ],
      "text/plain": [
       "<IPython.core.display.HTML object>"
      ]
     },
     "metadata": {},
     "output_type": "display_data"
    },
    {
     "data": {
      "text/html": [
       "Find logs at: <code>.\\wandb\\run-20221016_211010-35qxb58i\\logs</code>"
      ],
      "text/plain": [
       "<IPython.core.display.HTML object>"
      ]
     },
     "metadata": {},
     "output_type": "display_data"
    },
    {
     "data": {
      "text/plain": [
       "<keras.callbacks.History at 0x2c2f3404310>"
      ]
     },
     "execution_count": 46,
     "metadata": {},
     "output_type": "execute_result"
    }
   ],
   "source": [
    "units = [400, 400]\n",
    "regularizer = [0.0075, 0.0075]\n",
    "\n",
    "model = keras.Sequential([keras.layers.Input(shape=(n_features), name=\"input\"),\n",
    "                    keras.layers.Dense(units[0], activation=\"relu\", kernel_regularizer=l2(regularizer[0])),\n",
    "                    keras.layers.Dropout(0.5),\n",
    "                    keras.layers.Dense(units[1], activation=\"relu\", kernel_regularizer=l2(regularizer[1])),\n",
    "                    keras.layers.Dropout(0.5),\n",
    "                    keras.layers.Dense(3, activation=\"softmax\")])\n",
    "\n",
    "optimizer = keras.optimizers.Adam(learning_rate=0.001)#(learning_rate=0.0005)\n",
    "#optimizer = keras.optimizers.SGD(learning_rate=0.02)\n",
    "\n",
    "compile_fit(model, 1000, optimizer, 10000//2, 50, units, regularizer, \"dropout[0.5, 0.5]\")\n"
   ]
  },
  {
   "cell_type": "code",
   "execution_count": 55,
   "metadata": {},
   "outputs": [],
   "source": [
    "points_sq = sample_points_fromlist(all_points_sq, 100)\n",
    "points_tr = sample_points_fromlist(all_points_tr, 100)\n",
    "\n",
    "points_sq = center_points(points_sq)\n",
    "points_tr = center_points(points_tr)\n",
    "\n",
    "points_sq = scale_unit(points_sq)\n",
    "points_tr = scale_unit(points_tr)\n",
    "\n",
    "result = model(np.array([points_sq.flatten(), points_tr.flatten()]))\n"
   ]
  },
  {
   "cell_type": "code",
   "execution_count": 56,
   "metadata": {},
   "outputs": [
    {
     "data": {
      "text/plain": [
       "array([0, 1], dtype=int64)"
      ]
     },
     "execution_count": 56,
     "metadata": {},
     "output_type": "execute_result"
    }
   ],
   "source": [
    "np.argmax(result.numpy(), axis=1)"
   ]
  },
  {
   "cell_type": "code",
   "execution_count": 83,
   "metadata": {},
   "outputs": [],
   "source": [
    "import tf2onnx\n",
    "\n",
    "onnx_model = tf2onnx.convert.from_keras(model)"
   ]
  },
  {
   "cell_type": "code",
   "execution_count": null,
   "metadata": {},
   "outputs": [],
   "source": [
    "tf2onnx.utils.save_onnx_model(\".\", \"sygil_detector.onnx\")"
   ]
  },
  {
   "cell_type": "code",
   "execution_count": 85,
   "metadata": {},
   "outputs": [],
   "source": [
    "with open(os.path.join(\"sygil_detector.onnx\"), \"wb\") as f:\n",
    "    f.write(onnx_model[0].SerializeToString())"
   ]
  },
  {
   "cell_type": "code",
   "execution_count": 86,
   "metadata": {},
   "outputs": [
    {
     "name": "stdout",
     "output_type": "stream",
     "text": [
      "INFO:tensorflow:Assets written to: models\\assets\n"
     ]
    }
   ],
   "source": [
    "model.save(\"models\")"
   ]
  },
  {
   "cell_type": "code",
   "execution_count": 22,
   "metadata": {},
   "outputs": [],
   "source": [
    "model = keras.models.load_model(\"models\")"
   ]
  },
  {
   "cell_type": "markdown",
   "metadata": {},
   "source": [
    "## Unity test"
   ]
  },
  {
   "cell_type": "code",
   "execution_count": 46,
   "metadata": {},
   "outputs": [],
   "source": [
    "df_triangle = pd.read_csv(\"Points_Triangle2.csv\", sep=\";\", decimal=\",\", names=[\"x\", \"y\"])\n",
    "all_points_tr = df_triangle.to_numpy()\n",
    "\n"
   ]
  },
  {
   "cell_type": "code",
   "execution_count": 47,
   "metadata": {},
   "outputs": [],
   "source": [
    "points = sample_points_fromlist(all_points_tr, 100)\n",
    "points = center_points(points)\n",
    "points = scale_unit(points)"
   ]
  },
  {
   "cell_type": "code",
   "execution_count": 50,
   "metadata": {},
   "outputs": [
    {
     "data": {
      "text/plain": [
       "<tf.Tensor: shape=(1, 3), dtype=float32, numpy=array([[0.01719803, 0.8988198 , 0.08398208]], dtype=float32)>"
      ]
     },
     "execution_count": 50,
     "metadata": {},
     "output_type": "execute_result"
    }
   ],
   "source": [
    "model(np.array([points.flatten()]))"
   ]
  },
  {
   "cell_type": "code",
   "execution_count": 30,
   "metadata": {},
   "outputs": [],
   "source": [
    "points = sample_points_fromlist(all_points_sq, 100)\n",
    "points = center_points(points)\n",
    "points = scale_unit(points)"
   ]
  },
  {
   "cell_type": "code",
   "execution_count": 32,
   "metadata": {},
   "outputs": [
    {
     "data": {
      "text/plain": [
       "array([[9.5850545e-01, 3.9079445e-08, 4.1494541e-02]], dtype=float32)"
      ]
     },
     "execution_count": 32,
     "metadata": {},
     "output_type": "execute_result"
    }
   ],
   "source": [
    "model(np.array([points.flatten()])).numpy()"
   ]
  },
  {
   "cell_type": "code",
   "execution_count": 58,
   "metadata": {},
   "outputs": [
    {
     "data": {
      "image/png": "[encoded data removed]",
      "text/plain": [
       "<Figure size 432x288 with 1 Axes>"
      ]
     },
     "metadata": {
      "needs_background": "light"
     },
     "output_type": "display_data"
    },
    {
     "data": {
      "image/png": "[encoded data removed]",
      "text/plain": [
       "<Figure size 432x288 with 1 Axes>"
      ]
     },
     "metadata": {
      "needs_background": "light"
     },
     "output_type": "display_data"
    },
    {
     "data": {
      "text/plain": [
       "array([[7.3972428e-01, 2.5870226e-04, 2.6001698e-01]], dtype=float32)"
      ]
     },
     "execution_count": 58,
     "metadata": {},
     "output_type": "execute_result"
    }
   ],
   "source": [
    "df = pd.read_csv(\"input.csv\", sep=\";\", decimal=\",\", names=[\"x\", \"y\"])\n",
    "points = df.to_numpy()[100:]\n",
    "\n",
    "plt.plot(points[:,0], points[:,1], \"o\")\n",
    "plt.show()\n",
    "\n",
    "points = center_points(points)\n",
    "points = scale_unit(points)\n",
    "\n",
    "plt.plot(points[:,0], points[:,1], \"o\")\n",
    "plt.show()\n",
    "\n",
    "\n",
    "model(np.array([points.flatten()])).numpy()"
   ]
  },
  {
   "cell_type": "code",
   "execution_count": 60,
   "metadata": {},
   "outputs": [
    {
     "data": {
      "text/plain": [
       "array([[0.00111005, 0.99008113, 0.00880879]], dtype=float32)"
      ]
     },
     "execution_count": 60,
     "metadata": {},
     "output_type": "execute_result"
    }
   ],
   "source": [
    "model(np.array([points.flatten()/2])).numpy()"
   ]
  },
  {
   "cell_type": "code",
   "execution_count": 59,
   "metadata": {},
   "outputs": [
    {
     "data": {
      "image/png": "[encoded data removed]",
      "text/plain": [
       "<Figure size 432x288 with 1 Axes>"
      ]
     },
     "metadata": {
      "needs_background": "light"
     },
     "output_type": "display_data"
    }
   ],
   "source": [
    "plt.plot(points[:,0]/2, points[:,1]/2, \"o\")\n",
    "plt.show()"
   ]
  },
  {
   "cell_type": "code",
   "execution_count": 61,
   "metadata": {},
   "outputs": [],
   "source": [
    "def sample_points_fromlist_sequential(points:np.ndarray, n_point:int) -> np.ndarray:\n",
    "    indexs = np.random.choice(points.shape[0], size=n_point, replace=False)\n",
    "\n",
    "    indexs = np.sort(indexs)\n",
    "    \n",
    "    return points[indexs]"
   ]
  },
  {
   "cell_type": "code",
   "execution_count": 64,
   "metadata": {},
   "outputs": [
    {
     "data": {
      "text/plain": [
       "array([[0.00282414, 0.9776854 , 0.01949057]], dtype=float32)"
      ]
     },
     "execution_count": 64,
     "metadata": {},
     "output_type": "execute_result"
    }
   ],
   "source": [
    "points = sample_points_fromlist_sequential(all_points_tr, 100)\n",
    "points = center_points(points)\n",
    "points = scale_unit(points)\n",
    "\n",
    "model(np.array([points.flatten()])).numpy()"
   ]
  },
  {
   "cell_type": "markdown",
   "metadata": {},
   "source": [
    "# EP"
   ]
  },
  {
   "cell_type": "code",
   "execution_count": 6,
   "metadata": {},
   "outputs": [],
   "source": [
    "import evolvepy as ep\n",
    "\n",
    "\n",
    "def create_generator(model):\n",
    "    first = ep.generator.Layer()\n",
    "    combine = ep.generator.CombineLayer(ep.generator.selection.tournament, ep.generator.crossover.one_point)\n",
    "    mutation = ep.generator.mutation.NumericMutationLayer(ep.generator.mutation.sum_mutation, 1.0, 0.5, (-0.5, 0.5))\n",
    "    filter0 = ep.generator.FilterFirsts(143)\n",
    "    sort = ep.generator.Sort()\n",
    "    filter1 = ep.generator.FilterFirsts(7)\n",
    "    concat = ep.generator.Concatenate()\n",
    "\n",
    "    first.next = combine\n",
    "    combine.next = mutation\n",
    "    combine.next = filter0\n",
    "    filter0.next = concat\n",
    "\n",
    "    first.next = sort\n",
    "    sort.next = filter1\n",
    "    filter1.next = concat\n",
    "\n",
    "    #Creates the generator using the descriptor.\n",
    "    generator = ep.generator.Generator(first_layer=first, last_layer=concat, descriptor=model.descriptor)\n",
    "\n",
    "    return generator, mutation.name"
   ]
  },
  {
   "cell_type": "code",
   "execution_count": 315,
   "metadata": {},
   "outputs": [
    {
     "data": {
      "text/plain": [
       "<module 'evolvepy' from 'D:\\\\Github\\\\evolvepy\\\\src\\\\evolvepy\\\\__init__.py'>"
      ]
     },
     "execution_count": 315,
     "metadata": {},
     "output_type": "execute_result"
    }
   ],
   "source": [
    "import importlib\n",
    "importlib.reload(ep)"
   ]
  },
  {
   "cell_type": "code",
   "execution_count": 12,
   "metadata": {},
   "outputs": [],
   "source": [
    "def compile_fit_ep(model, epochs, generator, batch_size, patience, units, regularizer, others=\"\"):\n",
    "    \n",
    "    config = {}\n",
    "    config[\"epochs\"] = epochs\n",
    "    config[\"batch_size\"] = batch_size\n",
    "    config[\"optimizer\"] = \"evolutionary\"\n",
    "    config[\"others\"] = others\n",
    "\n",
    "    config[\"layer0_units\"] = units[0]\n",
    "    config[\"layer0_l2\"] = regularizer[0]\n",
    "\n",
    "    if len(units) > 1:\n",
    "        config[\"layer1_units\"] = units[1]\n",
    "        config[\"layer1_l2\"] = regularizer[1]\n",
    "    else:\n",
    "        config[\"layer1_units\"] = 0\n",
    "        config[\"layer1_l2\"] = 0\n",
    "\n",
    "    run = wandb.init(project=\"SygilDetector\", config = config)\n",
    "\n",
    "    callbacks = []\n",
    "    #callbacks.append(keras.callbacks.EarlyStopping(monitor=\"val_sparse_categorical_crossentropy\", patience=patience))\n",
    "    callbacks.append(WandbCallback(\"val_sparse_categorical_crossentropy\"))\n",
    "\n",
    "    model.compile(generator, loss=\"sparse_categorical_crossentropy\", metrics=[\"sparse_categorical_crossentropy\", \"accuracy\"])\n",
    "\n",
    "    hist = model.fit(train_features, train_targets, validation_data=(val_features, val_targets), epochs=epochs, batch_size=batch_size,\n",
    "                callbacks=callbacks)\n",
    "\n",
    "    wandb.finish()\n",
    "    \n",
    "    return hist"
   ]
  },
  {
   "cell_type": "code",
   "execution_count": 13,
   "metadata": {},
   "outputs": [
    {
     "data": {
      "text/html": [
       "wandb version 0.13.4 is available!  To upgrade, please run:\n",
       " $ pip install wandb --upgrade"
      ],
      "text/plain": [
       "<IPython.core.display.HTML object>"
      ]
     },
     "metadata": {},
     "output_type": "display_data"
    },
    {
     "data": {
      "text/html": [
       "Tracking run with wandb version 0.12.21"
      ],
      "text/plain": [
       "<IPython.core.display.HTML object>"
      ]
     },
     "metadata": {},
     "output_type": "display_data"
    },
    {
     "data": {
      "text/html": [
       "Run data is saved locally in <code>d:\\Github\\JogosTeP\\Dev\\wandb\\run-20221016_202310-233p0mdm</code>"
      ],
      "text/plain": [
       "<IPython.core.display.HTML object>"
      ]
     },
     "metadata": {},
     "output_type": "display_data"
    },
    {
     "data": {
      "text/html": [
       "Syncing run <strong><a href=\"https://wandb.ai/eltoncn/SygilDetector/runs/233p0mdm\" target=\"_blank\">spring-darkness-40</a></strong> to <a href=\"https://wandb.ai/eltoncn/SygilDetector\" target=\"_blank\">Weights & Biases</a> (<a href=\"https://wandb.me/run\" target=\"_blank\">docs</a>)<br/>"
      ],
      "text/plain": [
       "<IPython.core.display.HTML object>"
      ]
     },
     "metadata": {},
     "output_type": "display_data"
    },
    {
     "name": "stderr",
     "output_type": "stream",
     "text": [
      "\u001b[34m\u001b[1mwandb\u001b[0m: \u001b[33mWARNING\u001b[0m The save_model argument by default saves the model in the HDF5 format that cannot save custom objects like subclassed models and custom layers. This behavior will be deprecated in a future release in favor of the SavedModel format. Meanwhile, the HDF5 model is saved as W&B files and the SavedModel as W&B Artifacts.\n"
     ]
    },
    {
     "name": "stdout",
     "output_type": "stream",
     "text": [
      "WARNING:tensorflow:From c:\\Python38\\lib\\site-packages\\tensorflow\\python\\ops\\math_ops.py:3777: tensor_shape_from_node_def_name (from tensorflow.python.framework.graph_util_impl) is deprecated and will be removed in a future version.\n",
      "Instructions for updating:\n",
      "Use `tf.compat.v1.graph_util.tensor_shape_from_node_def_name`\n",
      "Epoch 1/400\n",
      "3/3 [==============================] - 8s 3s/step - loss: 78.6250 - sparse_categorical_crossentropy: 79.9023 - accuracy: 0.3450 - val_loss: 81.3198 - val_sparse_categorical_crossentropy: 81.3198 - val_accuracy: 0.3320\n",
      "Epoch 2/400\n",
      "3/3 [==============================] - 5s 1s/step - loss: 78.8996 - sparse_categorical_crossentropy: 79.9023 - accuracy: 0.3450 - val_loss: 81.3198 - val_sparse_categorical_crossentropy: 81.3198 - val_accuracy: 0.3320\n",
      "Epoch 3/400\n",
      "3/3 [==============================] - 5s 1s/step - loss: 81.8312 - sparse_categorical_crossentropy: 79.9023 - accuracy: 0.3450 - val_loss: 81.3198 - val_sparse_categorical_crossentropy: 81.3198 - val_accuracy: 0.3320\n",
      "Epoch 4/400\n",
      "3/3 [==============================] - 4s 1s/step - loss: 82.0725 - sparse_categorical_crossentropy: 79.9023 - accuracy: 0.3450 - val_loss: 81.3198 - val_sparse_categorical_crossentropy: 81.3198 - val_accuracy: 0.3320\n",
      "Epoch 5/400\n",
      "3/3 [==============================] - 4s 1s/step - loss: 77.7772 - sparse_categorical_crossentropy: 79.6259 - accuracy: 0.3453 - val_loss: 83.3643 - val_sparse_categorical_crossentropy: 83.3643 - val_accuracy: 0.3415\n",
      "Epoch 6/400\n",
      "3/3 [==============================] - 4s 1s/step - loss: 78.7980 - sparse_categorical_crossentropy: 79.6295 - accuracy: 0.3472 - val_loss: 83.0815 - val_sparse_categorical_crossentropy: 83.0815 - val_accuracy: 0.3468\n",
      "Epoch 7/400\n",
      "3/3 [==============================] - 4s 1s/step - loss: 81.0465 - sparse_categorical_crossentropy: 81.1259 - accuracy: 0.3409 - val_loss: 82.1942 - val_sparse_categorical_crossentropy: 82.1942 - val_accuracy: 0.3297\n",
      "Epoch 8/400\n",
      "3/3 [==============================] - 4s 1s/step - loss: 78.6992 - sparse_categorical_crossentropy: 79.4977 - accuracy: 0.3433 - val_loss: 81.5319 - val_sparse_categorical_crossentropy: 81.5319 - val_accuracy: 0.3408\n",
      "Epoch 9/400\n",
      "3/3 [==============================] - 4s 1s/step - loss: 77.2100 - sparse_categorical_crossentropy: 78.8257 - accuracy: 0.3421 - val_loss: 79.6080 - val_sparse_categorical_crossentropy: 79.6080 - val_accuracy: 0.3393\n",
      "Epoch 10/400\n",
      "3/3 [==============================] - 4s 1s/step - loss: 76.3440 - sparse_categorical_crossentropy: 78.4588 - accuracy: 0.3371 - val_loss: 78.6012 - val_sparse_categorical_crossentropy: 78.6012 - val_accuracy: 0.3378\n",
      "Epoch 11/400\n",
      "3/3 [==============================] - 4s 1s/step - loss: 76.5983 - sparse_categorical_crossentropy: 78.3684 - accuracy: 0.3404 - val_loss: 79.1356 - val_sparse_categorical_crossentropy: 79.1356 - val_accuracy: 0.3433\n",
      "Epoch 12/400\n",
      "3/3 [==============================] - 4s 1s/step - loss: 73.4164 - sparse_categorical_crossentropy: 76.0352 - accuracy: 0.3382 - val_loss: 76.5126 - val_sparse_categorical_crossentropy: 76.5126 - val_accuracy: 0.3407\n",
      "Epoch 13/400\n",
      "3/3 [==============================] - 4s 1s/step - loss: 69.8323 - sparse_categorical_crossentropy: 73.2014 - accuracy: 0.3480 - val_loss: 73.7187 - val_sparse_categorical_crossentropy: 73.7187 - val_accuracy: 0.3340\n",
      "Epoch 14/400\n",
      "3/3 [==============================] - 4s 1s/step - loss: 69.6252 - sparse_categorical_crossentropy: 71.8943 - accuracy: 0.3460 - val_loss: 71.9556 - val_sparse_categorical_crossentropy: 71.9556 - val_accuracy: 0.3350\n",
      "Epoch 15/400\n",
      "3/3 [==============================] - 4s 1s/step - loss: 69.0580 - sparse_categorical_crossentropy: 69.8641 - accuracy: 0.3392 - val_loss: 73.6221 - val_sparse_categorical_crossentropy: 73.6221 - val_accuracy: 0.3282\n",
      "Epoch 16/400\n",
      "3/3 [==============================] - 4s 1s/step - loss: 67.3056 - sparse_categorical_crossentropy: 69.8584 - accuracy: 0.3394 - val_loss: 72.5147 - val_sparse_categorical_crossentropy: 72.5147 - val_accuracy: 0.3295\n",
      "Epoch 17/400\n",
      "3/3 [==============================] - 4s 1s/step - loss: 62.1024 - sparse_categorical_crossentropy: 68.9684 - accuracy: 0.3390 - val_loss: 69.9754 - val_sparse_categorical_crossentropy: 69.9754 - val_accuracy: 0.3442\n",
      "Epoch 18/400\n",
      "3/3 [==============================] - 4s 1s/step - loss: 67.7088 - sparse_categorical_crossentropy: 69.0567 - accuracy: 0.3456 - val_loss: 69.3902 - val_sparse_categorical_crossentropy: 69.3902 - val_accuracy: 0.3377\n",
      "Epoch 19/400\n",
      "3/3 [==============================] - 4s 1s/step - loss: 64.1017 - sparse_categorical_crossentropy: 67.4050 - accuracy: 0.3470 - val_loss: 71.5089 - val_sparse_categorical_crossentropy: 71.5089 - val_accuracy: 0.3355\n",
      "Epoch 20/400\n",
      "3/3 [==============================] - 4s 1s/step - loss: 62.4892 - sparse_categorical_crossentropy: 65.7488 - accuracy: 0.3405 - val_loss: 70.3746 - val_sparse_categorical_crossentropy: 70.3746 - val_accuracy: 0.3387\n",
      "Epoch 21/400\n",
      "3/3 [==============================] - 4s 1s/step - loss: 63.9254 - sparse_categorical_crossentropy: 65.4433 - accuracy: 0.3500 - val_loss: 66.7580 - val_sparse_categorical_crossentropy: 66.7580 - val_accuracy: 0.3350\n",
      "Epoch 22/400\n",
      "3/3 [==============================] - 4s 1s/step - loss: 61.7056 - sparse_categorical_crossentropy: 65.0026 - accuracy: 0.3384 - val_loss: 67.7991 - val_sparse_categorical_crossentropy: 67.7991 - val_accuracy: 0.3322\n",
      "Epoch 23/400\n",
      "3/3 [==============================] - 4s 1s/step - loss: 60.7776 - sparse_categorical_crossentropy: 63.4901 - accuracy: 0.3431 - val_loss: 66.3631 - val_sparse_categorical_crossentropy: 66.3631 - val_accuracy: 0.3513\n",
      "Epoch 24/400\n",
      "3/3 [==============================] - 4s 1s/step - loss: 59.7072 - sparse_categorical_crossentropy: 62.9959 - accuracy: 0.3486 - val_loss: 66.5251 - val_sparse_categorical_crossentropy: 66.5251 - val_accuracy: 0.3407\n",
      "Epoch 25/400\n",
      "3/3 [==============================] - 4s 1s/step - loss: 60.3862 - sparse_categorical_crossentropy: 61.8934 - accuracy: 0.3451 - val_loss: 63.7316 - val_sparse_categorical_crossentropy: 63.7316 - val_accuracy: 0.3322\n",
      "Epoch 26/400\n",
      "3/3 [==============================] - 4s 1s/step - loss: 58.0261 - sparse_categorical_crossentropy: 60.8048 - accuracy: 0.3501 - val_loss: 63.7248 - val_sparse_categorical_crossentropy: 63.7248 - val_accuracy: 0.3468\n",
      "Epoch 27/400\n",
      "3/3 [==============================] - 4s 1s/step - loss: 58.5935 - sparse_categorical_crossentropy: 60.2618 - accuracy: 0.3446 - val_loss: 61.9301 - val_sparse_categorical_crossentropy: 61.9301 - val_accuracy: 0.3335\n",
      "Epoch 28/400\n",
      "3/3 [==============================] - 4s 1s/step - loss: 56.8074 - sparse_categorical_crossentropy: 59.4428 - accuracy: 0.3495 - val_loss: 62.1162 - val_sparse_categorical_crossentropy: 62.1162 - val_accuracy: 0.3443\n",
      "Epoch 29/400\n",
      "3/3 [==============================] - 4s 1s/step - loss: 58.5989 - sparse_categorical_crossentropy: 59.4487 - accuracy: 0.3496 - val_loss: 59.3608 - val_sparse_categorical_crossentropy: 59.3608 - val_accuracy: 0.3468\n",
      "Epoch 30/400\n",
      "3/3 [==============================] - 4s 1s/step - loss: 57.5988 - sparse_categorical_crossentropy: 58.4016 - accuracy: 0.3503 - val_loss: 59.9371 - val_sparse_categorical_crossentropy: 59.9371 - val_accuracy: 0.3357\n",
      "Epoch 31/400\n",
      "3/3 [==============================] - 4s 1s/step - loss: 56.9833 - sparse_categorical_crossentropy: 57.9318 - accuracy: 0.3581 - val_loss: 62.0237 - val_sparse_categorical_crossentropy: 62.0237 - val_accuracy: 0.3287\n",
      "Epoch 32/400\n",
      "3/3 [==============================] - 4s 1s/step - loss: 57.8622 - sparse_categorical_crossentropy: 57.9071 - accuracy: 0.3490 - val_loss: 58.1778 - val_sparse_categorical_crossentropy: 58.1778 - val_accuracy: 0.3443\n",
      "Epoch 33/400\n",
      "3/3 [==============================] - 4s 1s/step - loss: 51.8087 - sparse_categorical_crossentropy: 57.6046 - accuracy: 0.3533 - val_loss: 59.1959 - val_sparse_categorical_crossentropy: 59.1959 - val_accuracy: 0.3410\n",
      "Epoch 34/400\n",
      "3/3 [==============================] - 4s 1s/step - loss: 54.1601 - sparse_categorical_crossentropy: 57.3644 - accuracy: 0.3500 - val_loss: 59.6244 - val_sparse_categorical_crossentropy: 59.6244 - val_accuracy: 0.3463\n",
      "Epoch 35/400\n",
      "3/3 [==============================] - 4s 1s/step - loss: 52.6254 - sparse_categorical_crossentropy: 56.9010 - accuracy: 0.3519 - val_loss: 57.2709 - val_sparse_categorical_crossentropy: 57.2709 - val_accuracy: 0.3433\n",
      "Epoch 36/400\n",
      "3/3 [==============================] - 4s 1s/step - loss: 54.6546 - sparse_categorical_crossentropy: 56.4533 - accuracy: 0.3527 - val_loss: 59.4641 - val_sparse_categorical_crossentropy: 59.4641 - val_accuracy: 0.3325\n",
      "Epoch 37/400\n",
      "3/3 [==============================] - 4s 1s/step - loss: 52.0552 - sparse_categorical_crossentropy: 56.2977 - accuracy: 0.3502 - val_loss: 58.5124 - val_sparse_categorical_crossentropy: 58.5124 - val_accuracy: 0.3435\n",
      "Epoch 38/400\n",
      "3/3 [==============================] - 4s 1s/step - loss: 57.0532 - sparse_categorical_crossentropy: 56.0680 - accuracy: 0.3517 - val_loss: 57.5131 - val_sparse_categorical_crossentropy: 57.5131 - val_accuracy: 0.3435\n",
      "Epoch 39/400\n",
      "3/3 [==============================] - 4s 1s/step - loss: 55.4819 - sparse_categorical_crossentropy: 55.6748 - accuracy: 0.3506 - val_loss: 57.5881 - val_sparse_categorical_crossentropy: 57.5881 - val_accuracy: 0.3345\n",
      "Epoch 40/400\n",
      "3/3 [==============================] - 4s 1s/step - loss: 52.4827 - sparse_categorical_crossentropy: 55.3395 - accuracy: 0.3547 - val_loss: 58.4317 - val_sparse_categorical_crossentropy: 58.4317 - val_accuracy: 0.3420\n",
      "Epoch 41/400\n",
      "3/3 [==============================] - 4s 1s/step - loss: 55.2346 - sparse_categorical_crossentropy: 55.0295 - accuracy: 0.3532 - val_loss: 56.7493 - val_sparse_categorical_crossentropy: 56.7493 - val_accuracy: 0.3408\n",
      "Epoch 42/400\n",
      "3/3 [==============================] - 4s 1s/step - loss: 55.4081 - sparse_categorical_crossentropy: 54.9585 - accuracy: 0.3521 - val_loss: 58.2193 - val_sparse_categorical_crossentropy: 58.2193 - val_accuracy: 0.3388\n",
      "Epoch 43/400\n",
      "3/3 [==============================] - 4s 1s/step - loss: 53.5770 - sparse_categorical_crossentropy: 54.8012 - accuracy: 0.3536 - val_loss: 57.3529 - val_sparse_categorical_crossentropy: 57.3529 - val_accuracy: 0.3345\n",
      "Epoch 44/400\n",
      "3/3 [==============================] - 4s 1s/step - loss: 52.2193 - sparse_categorical_crossentropy: 54.5562 - accuracy: 0.3549 - val_loss: 56.8460 - val_sparse_categorical_crossentropy: 56.8460 - val_accuracy: 0.3347\n",
      "Epoch 45/400\n",
      "3/3 [==============================] - 4s 1s/step - loss: 52.1417 - sparse_categorical_crossentropy: 54.4004 - accuracy: 0.3549 - val_loss: 56.9884 - val_sparse_categorical_crossentropy: 56.9884 - val_accuracy: 0.3352\n",
      "Epoch 46/400\n",
      "3/3 [==============================] - 4s 1s/step - loss: 57.5445 - sparse_categorical_crossentropy: 54.3989 - accuracy: 0.3531 - val_loss: 56.9541 - val_sparse_categorical_crossentropy: 56.9541 - val_accuracy: 0.3390\n",
      "Epoch 47/400\n",
      "3/3 [==============================] - 4s 1s/step - loss: 53.8589 - sparse_categorical_crossentropy: 54.2839 - accuracy: 0.3537 - val_loss: 56.7298 - val_sparse_categorical_crossentropy: 56.7298 - val_accuracy: 0.3360\n",
      "Epoch 48/400\n",
      "3/3 [==============================] - 4s 1s/step - loss: 54.6992 - sparse_categorical_crossentropy: 54.2399 - accuracy: 0.3555 - val_loss: 56.9344 - val_sparse_categorical_crossentropy: 56.9344 - val_accuracy: 0.3385\n",
      "Epoch 49/400\n",
      "3/3 [==============================] - 4s 1s/step - loss: 52.3529 - sparse_categorical_crossentropy: 54.2101 - accuracy: 0.3539 - val_loss: 56.8088 - val_sparse_categorical_crossentropy: 56.8088 - val_accuracy: 0.3348\n",
      "Epoch 50/400\n",
      "3/3 [==============================] - 4s 1s/step - loss: 53.3048 - sparse_categorical_crossentropy: 54.2005 - accuracy: 0.3548 - val_loss: 56.7384 - val_sparse_categorical_crossentropy: 56.7384 - val_accuracy: 0.3323\n",
      "Epoch 51/400\n",
      "3/3 [==============================] - 4s 1s/step - loss: 55.2895 - sparse_categorical_crossentropy: 54.1590 - accuracy: 0.3539 - val_loss: 56.6828 - val_sparse_categorical_crossentropy: 56.6828 - val_accuracy: 0.3347\n",
      "Epoch 52/400\n",
      "3/3 [==============================] - 4s 1s/step - loss: 53.4970 - sparse_categorical_crossentropy: 54.1907 - accuracy: 0.3550 - val_loss: 56.6910 - val_sparse_categorical_crossentropy: 56.6910 - val_accuracy: 0.3370\n",
      "Epoch 53/400\n",
      "3/3 [==============================] - 4s 1s/step - loss: 57.8006 - sparse_categorical_crossentropy: 54.1637 - accuracy: 0.3542 - val_loss: 56.8580 - val_sparse_categorical_crossentropy: 56.8580 - val_accuracy: 0.3348\n",
      "Epoch 54/400\n",
      "3/3 [==============================] - 4s 1s/step - loss: 56.3394 - sparse_categorical_crossentropy: 54.1644 - accuracy: 0.3535 - val_loss: 56.7250 - val_sparse_categorical_crossentropy: 56.7250 - val_accuracy: 0.3373\n",
      "Epoch 55/400\n",
      "3/3 [==============================] - 4s 1s/step - loss: 52.9797 - sparse_categorical_crossentropy: 54.1492 - accuracy: 0.3545 - val_loss: 56.7789 - val_sparse_categorical_crossentropy: 56.7789 - val_accuracy: 0.3382\n",
      "Epoch 56/400\n",
      "3/3 [==============================] - 5s 1s/step - loss: 56.1487 - sparse_categorical_crossentropy: 54.1536 - accuracy: 0.3545 - val_loss: 56.6706 - val_sparse_categorical_crossentropy: 56.6706 - val_accuracy: 0.3353\n",
      "Epoch 57/400\n",
      "3/3 [==============================] - 5s 2s/step - loss: 51.3778 - sparse_categorical_crossentropy: 54.1466 - accuracy: 0.3546 - val_loss: 56.7487 - val_sparse_categorical_crossentropy: 56.7487 - val_accuracy: 0.3360\n",
      "Epoch 58/400\n",
      "3/3 [==============================] - 4s 1s/step - loss: 55.0764 - sparse_categorical_crossentropy: 54.1434 - accuracy: 0.3536 - val_loss: 56.7394 - val_sparse_categorical_crossentropy: 56.7394 - val_accuracy: 0.3377\n",
      "Epoch 59/400\n",
      "3/3 [==============================] - 4s 1s/step - loss: 51.6160 - sparse_categorical_crossentropy: 54.1390 - accuracy: 0.3539 - val_loss: 56.7446 - val_sparse_categorical_crossentropy: 56.7446 - val_accuracy: 0.3363\n",
      "Epoch 60/400\n",
      "3/3 [==============================] - 4s 1s/step - loss: 55.0036 - sparse_categorical_crossentropy: 54.1379 - accuracy: 0.3543 - val_loss: 56.7405 - val_sparse_categorical_crossentropy: 56.7405 - val_accuracy: 0.3365\n",
      "Epoch 61/400\n",
      "3/3 [==============================] - 4s 1s/step - loss: 52.4327 - sparse_categorical_crossentropy: 54.1400 - accuracy: 0.3542 - val_loss: 56.7309 - val_sparse_categorical_crossentropy: 56.7309 - val_accuracy: 0.3367\n",
      "Epoch 62/400\n",
      "3/3 [==============================] - 4s 1s/step - loss: 56.9221 - sparse_categorical_crossentropy: 54.1396 - accuracy: 0.3544 - val_loss: 56.7309 - val_sparse_categorical_crossentropy: 56.7309 - val_accuracy: 0.3367\n",
      "Epoch 63/400\n",
      "3/3 [==============================] - 4s 1s/step - loss: 53.4229 - sparse_categorical_crossentropy: 54.1399 - accuracy: 0.3544 - val_loss: 56.7282 - val_sparse_categorical_crossentropy: 56.7282 - val_accuracy: 0.3365\n",
      "Epoch 64/400\n",
      "3/3 [==============================] - 4s 1s/step - loss: 54.8988 - sparse_categorical_crossentropy: 54.1397 - accuracy: 0.3544 - val_loss: 56.7293 - val_sparse_categorical_crossentropy: 56.7293 - val_accuracy: 0.3363\n",
      "Epoch 65/400\n",
      "3/3 [==============================] - 4s 1s/step - loss: 54.7618 - sparse_categorical_crossentropy: 54.1400 - accuracy: 0.3544 - val_loss: 56.7288 - val_sparse_categorical_crossentropy: 56.7288 - val_accuracy: 0.3365\n",
      "Epoch 66/400\n",
      "3/3 [==============================] - 4s 1s/step - loss: 54.5588 - sparse_categorical_crossentropy: 54.1402 - accuracy: 0.3544 - val_loss: 56.7288 - val_sparse_categorical_crossentropy: 56.7288 - val_accuracy: 0.3365\n",
      "Epoch 67/400\n",
      "3/3 [==============================] - 4s 1s/step - loss: 51.2501 - sparse_categorical_crossentropy: 54.1402 - accuracy: 0.3544 - val_loss: 56.7288 - val_sparse_categorical_crossentropy: 56.7288 - val_accuracy: 0.3365\n",
      "Epoch 68/400\n",
      "3/3 [==============================] - 4s 1s/step - loss: 52.0972 - sparse_categorical_crossentropy: 54.1402 - accuracy: 0.3544 - val_loss: 56.7288 - val_sparse_categorical_crossentropy: 56.7288 - val_accuracy: 0.3365\n",
      "Epoch 69/400\n",
      "3/3 [==============================] - 4s 1s/step - loss: 54.5517 - sparse_categorical_crossentropy: 54.1402 - accuracy: 0.3544 - val_loss: 56.7288 - val_sparse_categorical_crossentropy: 56.7288 - val_accuracy: 0.3365\n",
      "Epoch 70/400\n",
      "3/3 [==============================] - 4s 1s/step - loss: 55.2963 - sparse_categorical_crossentropy: 54.1402 - accuracy: 0.3544 - val_loss: 56.7288 - val_sparse_categorical_crossentropy: 56.7288 - val_accuracy: 0.3365\n",
      "Epoch 71/400\n",
      "3/3 [==============================] - 4s 1s/step - loss: 52.2727 - sparse_categorical_crossentropy: 54.1402 - accuracy: 0.3544 - val_loss: 56.7288 - val_sparse_categorical_crossentropy: 56.7288 - val_accuracy: 0.3365\n",
      "Epoch 72/400\n",
      "3/3 [==============================] - 4s 1s/step - loss: 55.5483 - sparse_categorical_crossentropy: 54.1402 - accuracy: 0.3544 - val_loss: 56.7288 - val_sparse_categorical_crossentropy: 56.7288 - val_accuracy: 0.3365\n",
      "Epoch 73/400\n",
      "3/3 [==============================] - 4s 1s/step - loss: 52.7500 - sparse_categorical_crossentropy: 54.1402 - accuracy: 0.3544 - val_loss: 56.7288 - val_sparse_categorical_crossentropy: 56.7288 - val_accuracy: 0.3365\n",
      "Epoch 74/400\n",
      "3/3 [==============================] - 4s 1s/step - loss: 53.1833 - sparse_categorical_crossentropy: 54.1402 - accuracy: 0.3544 - val_loss: 56.7288 - val_sparse_categorical_crossentropy: 56.7288 - val_accuracy: 0.3365\n",
      "Epoch 75/400\n",
      "3/3 [==============================] - 4s 1s/step - loss: 52.5122 - sparse_categorical_crossentropy: 54.1402 - accuracy: 0.3544 - val_loss: 56.7288 - val_sparse_categorical_crossentropy: 56.7288 - val_accuracy: 0.3365\n",
      "Epoch 76/400\n",
      "3/3 [==============================] - 4s 1s/step - loss: 55.1625 - sparse_categorical_crossentropy: 54.1402 - accuracy: 0.3544 - val_loss: 56.7288 - val_sparse_categorical_crossentropy: 56.7288 - val_accuracy: 0.3365\n",
      "Epoch 77/400\n",
      "3/3 [==============================] - 4s 1s/step - loss: 55.3668 - sparse_categorical_crossentropy: 54.1402 - accuracy: 0.3544 - val_loss: 56.7288 - val_sparse_categorical_crossentropy: 56.7288 - val_accuracy: 0.3365\n",
      "Epoch 78/400\n",
      "3/3 [==============================] - 4s 1s/step - loss: 56.5516 - sparse_categorical_crossentropy: 54.1402 - accuracy: 0.3544 - val_loss: 56.7288 - val_sparse_categorical_crossentropy: 56.7288 - val_accuracy: 0.3365\n",
      "Epoch 79/400\n",
      "3/3 [==============================] - 4s 1s/step - loss: 53.1500 - sparse_categorical_crossentropy: 54.1402 - accuracy: 0.3544 - val_loss: 56.7288 - val_sparse_categorical_crossentropy: 56.7288 - val_accuracy: 0.3365\n",
      "Epoch 80/400\n",
      "3/3 [==============================] - 4s 1s/step - loss: 52.7270 - sparse_categorical_crossentropy: 54.1402 - accuracy: 0.3544 - val_loss: 56.7288 - val_sparse_categorical_crossentropy: 56.7288 - val_accuracy: 0.3365\n",
      "Epoch 81/400\n",
      "3/3 [==============================] - 4s 1s/step - loss: 51.0461 - sparse_categorical_crossentropy: 54.1402 - accuracy: 0.3544 - val_loss: 56.7288 - val_sparse_categorical_crossentropy: 56.7288 - val_accuracy: 0.3365\n",
      "Epoch 82/400\n",
      "3/3 [==============================] - 4s 1s/step - loss: 55.6029 - sparse_categorical_crossentropy: 54.1402 - accuracy: 0.3544 - val_loss: 56.7288 - val_sparse_categorical_crossentropy: 56.7288 - val_accuracy: 0.3365\n",
      "Epoch 83/400\n",
      "3/3 [==============================] - 4s 1s/step - loss: 55.4261 - sparse_categorical_crossentropy: 54.1402 - accuracy: 0.3544 - val_loss: 56.7288 - val_sparse_categorical_crossentropy: 56.7288 - val_accuracy: 0.3365\n",
      "Epoch 84/400\n",
      "3/3 [==============================] - 4s 1s/step - loss: 54.8811 - sparse_categorical_crossentropy: 54.1402 - accuracy: 0.3544 - val_loss: 56.7288 - val_sparse_categorical_crossentropy: 56.7288 - val_accuracy: 0.3365\n",
      "Epoch 85/400\n",
      "3/3 [==============================] - 4s 1s/step - loss: 53.6681 - sparse_categorical_crossentropy: 54.1402 - accuracy: 0.3544 - val_loss: 56.7288 - val_sparse_categorical_crossentropy: 56.7288 - val_accuracy: 0.3365\n",
      "Epoch 86/400\n",
      "3/3 [==============================] - 4s 1s/step - loss: 52.8186 - sparse_categorical_crossentropy: 54.1402 - accuracy: 0.3544 - val_loss: 56.7288 - val_sparse_categorical_crossentropy: 56.7288 - val_accuracy: 0.3365\n",
      "Epoch 87/400\n",
      "3/3 [==============================] - 4s 1s/step - loss: 53.3402 - sparse_categorical_crossentropy: 54.1402 - accuracy: 0.3544 - val_loss: 56.7288 - val_sparse_categorical_crossentropy: 56.7288 - val_accuracy: 0.3365\n",
      "Epoch 88/400\n",
      "3/3 [==============================] - 4s 1s/step - loss: 53.2908 - sparse_categorical_crossentropy: 54.1402 - accuracy: 0.3544 - val_loss: 56.7288 - val_sparse_categorical_crossentropy: 56.7288 - val_accuracy: 0.3365\n",
      "Epoch 89/400\n",
      "3/3 [==============================] - 4s 1s/step - loss: 55.2247 - sparse_categorical_crossentropy: 54.1402 - accuracy: 0.3544 - val_loss: 56.7288 - val_sparse_categorical_crossentropy: 56.7288 - val_accuracy: 0.3365\n",
      "Epoch 90/400\n",
      "3/3 [==============================] - 4s 1s/step - loss: 55.6941 - sparse_categorical_crossentropy: 54.1402 - accuracy: 0.3544 - val_loss: 56.7288 - val_sparse_categorical_crossentropy: 56.7288 - val_accuracy: 0.3365\n",
      "Epoch 91/400\n",
      "3/3 [==============================] - 4s 1s/step - loss: 53.0575 - sparse_categorical_crossentropy: 54.1402 - accuracy: 0.3544 - val_loss: 56.7288 - val_sparse_categorical_crossentropy: 56.7288 - val_accuracy: 0.3365\n",
      "Epoch 92/400\n",
      "3/3 [==============================] - 4s 1s/step - loss: 54.9118 - sparse_categorical_crossentropy: 54.1402 - accuracy: 0.3544 - val_loss: 56.7288 - val_sparse_categorical_crossentropy: 56.7288 - val_accuracy: 0.3365\n",
      "Epoch 93/400\n",
      "3/3 [==============================] - 4s 1s/step - loss: 56.9996 - sparse_categorical_crossentropy: 54.1402 - accuracy: 0.3544 - val_loss: 56.7288 - val_sparse_categorical_crossentropy: 56.7288 - val_accuracy: 0.3365\n",
      "Epoch 94/400\n",
      "3/3 [==============================] - 4s 1s/step - loss: 53.6031 - sparse_categorical_crossentropy: 54.1402 - accuracy: 0.3544 - val_loss: 56.7288 - val_sparse_categorical_crossentropy: 56.7288 - val_accuracy: 0.3365\n",
      "Epoch 95/400\n",
      "3/3 [==============================] - 4s 1s/step - loss: 54.2347 - sparse_categorical_crossentropy: 54.1402 - accuracy: 0.3544 - val_loss: 56.7288 - val_sparse_categorical_crossentropy: 56.7288 - val_accuracy: 0.3365\n",
      "Epoch 96/400\n",
      "3/3 [==============================] - 4s 1s/step - loss: 54.0126 - sparse_categorical_crossentropy: 54.1402 - accuracy: 0.3544 - val_loss: 56.7288 - val_sparse_categorical_crossentropy: 56.7288 - val_accuracy: 0.3365\n",
      "Epoch 97/400\n",
      "3/3 [==============================] - 4s 1s/step - loss: 55.3601 - sparse_categorical_crossentropy: 54.1402 - accuracy: 0.3544 - val_loss: 56.7288 - val_sparse_categorical_crossentropy: 56.7288 - val_accuracy: 0.3365\n",
      "Epoch 98/400\n",
      "3/3 [==============================] - 4s 1s/step - loss: 53.3686 - sparse_categorical_crossentropy: 54.1402 - accuracy: 0.3544 - val_loss: 56.7288 - val_sparse_categorical_crossentropy: 56.7288 - val_accuracy: 0.3365\n",
      "Epoch 99/400\n",
      "3/3 [==============================] - 4s 1s/step - loss: 54.2782 - sparse_categorical_crossentropy: 54.1402 - accuracy: 0.3544 - val_loss: 56.7288 - val_sparse_categorical_crossentropy: 56.7288 - val_accuracy: 0.3365\n",
      "Epoch 100/400\n",
      "3/3 [==============================] - 4s 1s/step - loss: 56.0300 - sparse_categorical_crossentropy: 54.1402 - accuracy: 0.3544 - val_loss: 56.7288 - val_sparse_categorical_crossentropy: 56.7288 - val_accuracy: 0.3365\n",
      "Epoch 101/400\n",
      "3/3 [==============================] - 4s 1s/step - loss: 55.0654 - sparse_categorical_crossentropy: 54.1402 - accuracy: 0.3544 - val_loss: 56.7288 - val_sparse_categorical_crossentropy: 56.7288 - val_accuracy: 0.3365\n",
      "Epoch 102/400\n",
      "3/3 [==============================] - 4s 1s/step - loss: 54.8239 - sparse_categorical_crossentropy: 54.1402 - accuracy: 0.3544 - val_loss: 56.7288 - val_sparse_categorical_crossentropy: 56.7288 - val_accuracy: 0.3365\n",
      "Epoch 103/400\n",
      "3/3 [==============================] - 4s 1s/step - loss: 56.8599 - sparse_categorical_crossentropy: 54.1402 - accuracy: 0.3544 - val_loss: 56.7288 - val_sparse_categorical_crossentropy: 56.7288 - val_accuracy: 0.3365\n",
      "Epoch 104/400\n",
      "3/3 [==============================] - 4s 1s/step - loss: 51.3026 - sparse_categorical_crossentropy: 54.1402 - accuracy: 0.3544 - val_loss: 56.7288 - val_sparse_categorical_crossentropy: 56.7288 - val_accuracy: 0.3365\n",
      "Epoch 105/400\n",
      "3/3 [==============================] - 4s 1s/step - loss: 55.1670 - sparse_categorical_crossentropy: 54.1402 - accuracy: 0.3544 - val_loss: 56.7288 - val_sparse_categorical_crossentropy: 56.7288 - val_accuracy: 0.3365\n",
      "Epoch 106/400\n",
      "3/3 [==============================] - 4s 1s/step - loss: 52.6048 - sparse_categorical_crossentropy: 54.1402 - accuracy: 0.3544 - val_loss: 56.7288 - val_sparse_categorical_crossentropy: 56.7288 - val_accuracy: 0.3365\n",
      "Epoch 107/400\n",
      "3/3 [==============================] - 4s 1s/step - loss: 53.8059 - sparse_categorical_crossentropy: 54.1402 - accuracy: 0.3544 - val_loss: 56.7288 - val_sparse_categorical_crossentropy: 56.7288 - val_accuracy: 0.3365\n",
      "Epoch 108/400\n",
      "3/3 [==============================] - 4s 1s/step - loss: 58.9939 - sparse_categorical_crossentropy: 54.1402 - accuracy: 0.3544 - val_loss: 56.7288 - val_sparse_categorical_crossentropy: 56.7288 - val_accuracy: 0.3365\n",
      "Epoch 109/400\n",
      "3/3 [==============================] - 4s 1s/step - loss: 54.9574 - sparse_categorical_crossentropy: 54.1402 - accuracy: 0.3544 - val_loss: 56.7288 - val_sparse_categorical_crossentropy: 56.7288 - val_accuracy: 0.3365\n",
      "Epoch 110/400\n",
      "3/3 [==============================] - 4s 1s/step - loss: 55.8622 - sparse_categorical_crossentropy: 54.1402 - accuracy: 0.3544 - val_loss: 56.7288 - val_sparse_categorical_crossentropy: 56.7288 - val_accuracy: 0.3365\n",
      "Epoch 111/400\n",
      "3/3 [==============================] - 4s 1s/step - loss: 54.1545 - sparse_categorical_crossentropy: 54.1402 - accuracy: 0.3544 - val_loss: 56.7288 - val_sparse_categorical_crossentropy: 56.7288 - val_accuracy: 0.3365\n",
      "Epoch 112/400\n",
      "3/3 [==============================] - 4s 1s/step - loss: 53.5640 - sparse_categorical_crossentropy: 54.1402 - accuracy: 0.3544 - val_loss: 56.7288 - val_sparse_categorical_crossentropy: 56.7288 - val_accuracy: 0.3365\n",
      "Epoch 113/400\n",
      "3/3 [==============================] - 4s 1s/step - loss: 54.5533 - sparse_categorical_crossentropy: 54.1402 - accuracy: 0.3544 - val_loss: 56.7288 - val_sparse_categorical_crossentropy: 56.7288 - val_accuracy: 0.3365\n",
      "Epoch 114/400\n",
      "3/3 [==============================] - 4s 1s/step - loss: 56.1553 - sparse_categorical_crossentropy: 54.1402 - accuracy: 0.3544 - val_loss: 56.7288 - val_sparse_categorical_crossentropy: 56.7288 - val_accuracy: 0.3365\n",
      "Epoch 115/400\n",
      "3/3 [==============================] - 4s 1s/step - loss: 53.7909 - sparse_categorical_crossentropy: 54.1402 - accuracy: 0.3544 - val_loss: 56.7288 - val_sparse_categorical_crossentropy: 56.7288 - val_accuracy: 0.3365\n",
      "Epoch 116/400\n",
      "3/3 [==============================] - 4s 1s/step - loss: 51.9416 - sparse_categorical_crossentropy: 54.1402 - accuracy: 0.3544 - val_loss: 56.7288 - val_sparse_categorical_crossentropy: 56.7288 - val_accuracy: 0.3365\n",
      "Epoch 117/400\n",
      "3/3 [==============================] - 4s 1s/step - loss: 55.3513 - sparse_categorical_crossentropy: 54.1402 - accuracy: 0.3544 - val_loss: 56.7288 - val_sparse_categorical_crossentropy: 56.7288 - val_accuracy: 0.3365\n",
      "Epoch 118/400\n",
      "3/3 [==============================] - 4s 1s/step - loss: 54.0671 - sparse_categorical_crossentropy: 54.1402 - accuracy: 0.3544 - val_loss: 56.7288 - val_sparse_categorical_crossentropy: 56.7288 - val_accuracy: 0.3365\n",
      "Epoch 119/400\n",
      "3/3 [==============================] - 4s 1s/step - loss: 54.9484 - sparse_categorical_crossentropy: 54.1402 - accuracy: 0.3544 - val_loss: 56.7288 - val_sparse_categorical_crossentropy: 56.7288 - val_accuracy: 0.3365\n",
      "Epoch 120/400\n",
      "3/3 [==============================] - 4s 1s/step - loss: 54.9507 - sparse_categorical_crossentropy: 54.1402 - accuracy: 0.3544 - val_loss: 56.7288 - val_sparse_categorical_crossentropy: 56.7288 - val_accuracy: 0.3365\n",
      "Epoch 121/400\n",
      "3/3 [==============================] - 4s 1s/step - loss: 53.9558 - sparse_categorical_crossentropy: 54.1402 - accuracy: 0.3544 - val_loss: 56.7288 - val_sparse_categorical_crossentropy: 56.7288 - val_accuracy: 0.3365\n",
      "Epoch 122/400\n",
      "3/3 [==============================] - 4s 1s/step - loss: 53.1958 - sparse_categorical_crossentropy: 54.1402 - accuracy: 0.3544 - val_loss: 56.7288 - val_sparse_categorical_crossentropy: 56.7288 - val_accuracy: 0.3365\n",
      "Epoch 123/400\n",
      "3/3 [==============================] - 4s 1s/step - loss: 55.7670 - sparse_categorical_crossentropy: 54.1402 - accuracy: 0.3544 - val_loss: 56.7288 - val_sparse_categorical_crossentropy: 56.7288 - val_accuracy: 0.3365\n",
      "Epoch 124/400\n",
      "3/3 [==============================] - 4s 1s/step - loss: 51.0342 - sparse_categorical_crossentropy: 54.1402 - accuracy: 0.3544 - val_loss: 56.7288 - val_sparse_categorical_crossentropy: 56.7288 - val_accuracy: 0.3365\n",
      "Epoch 125/400\n",
      "3/3 [==============================] - 4s 1s/step - loss: 53.4446 - sparse_categorical_crossentropy: 54.1402 - accuracy: 0.3544 - val_loss: 56.7288 - val_sparse_categorical_crossentropy: 56.7288 - val_accuracy: 0.3365\n",
      "Epoch 126/400\n",
      "3/3 [==============================] - 4s 1s/step - loss: 56.5656 - sparse_categorical_crossentropy: 54.1402 - accuracy: 0.3544 - val_loss: 56.7288 - val_sparse_categorical_crossentropy: 56.7288 - val_accuracy: 0.3365\n",
      "Epoch 127/400\n",
      "3/3 [==============================] - 4s 1s/step - loss: 54.3201 - sparse_categorical_crossentropy: 54.1402 - accuracy: 0.3544 - val_loss: 56.7288 - val_sparse_categorical_crossentropy: 56.7288 - val_accuracy: 0.3365\n",
      "Epoch 128/400\n",
      "3/3 [==============================] - 4s 1s/step - loss: 50.3356 - sparse_categorical_crossentropy: 54.1402 - accuracy: 0.3544 - val_loss: 56.7288 - val_sparse_categorical_crossentropy: 56.7288 - val_accuracy: 0.3365\n",
      "Epoch 129/400\n",
      "3/3 [==============================] - 4s 1s/step - loss: 58.2951 - sparse_categorical_crossentropy: 54.1402 - accuracy: 0.3544 - val_loss: 56.7288 - val_sparse_categorical_crossentropy: 56.7288 - val_accuracy: 0.3365\n",
      "Epoch 130/400\n",
      "3/3 [==============================] - 4s 1s/step - loss: 53.9054 - sparse_categorical_crossentropy: 54.1402 - accuracy: 0.3544 - val_loss: 56.7288 - val_sparse_categorical_crossentropy: 56.7288 - val_accuracy: 0.3365\n",
      "Epoch 131/400\n",
      "3/3 [==============================] - 4s 1s/step - loss: 53.7264 - sparse_categorical_crossentropy: 54.1402 - accuracy: 0.3544 - val_loss: 56.7288 - val_sparse_categorical_crossentropy: 56.7288 - val_accuracy: 0.3365\n",
      "Epoch 132/400\n",
      "3/3 [==============================] - 4s 1s/step - loss: 48.7790 - sparse_categorical_crossentropy: 54.1402 - accuracy: 0.3544 - val_loss: 56.7288 - val_sparse_categorical_crossentropy: 56.7288 - val_accuracy: 0.3365\n",
      "Epoch 133/400\n",
      "3/3 [==============================] - 4s 1s/step - loss: 54.0646 - sparse_categorical_crossentropy: 54.1402 - accuracy: 0.3544 - val_loss: 56.7288 - val_sparse_categorical_crossentropy: 56.7288 - val_accuracy: 0.3365\n",
      "Epoch 134/400\n",
      "3/3 [==============================] - 4s 1s/step - loss: 56.3353 - sparse_categorical_crossentropy: 54.1402 - accuracy: 0.3544 - val_loss: 56.7288 - val_sparse_categorical_crossentropy: 56.7288 - val_accuracy: 0.3365\n",
      "Epoch 135/400\n",
      "3/3 [==============================] - 4s 1s/step - loss: 54.9380 - sparse_categorical_crossentropy: 54.1402 - accuracy: 0.3544 - val_loss: 56.7288 - val_sparse_categorical_crossentropy: 56.7288 - val_accuracy: 0.3365\n",
      "Epoch 136/400\n",
      "3/3 [==============================] - 4s 1s/step - loss: 57.8842 - sparse_categorical_crossentropy: 54.1402 - accuracy: 0.3544 - val_loss: 56.7288 - val_sparse_categorical_crossentropy: 56.7288 - val_accuracy: 0.3365\n",
      "Epoch 137/400\n",
      "3/3 [==============================] - 4s 1s/step - loss: 52.4683 - sparse_categorical_crossentropy: 54.1402 - accuracy: 0.3544 - val_loss: 56.7288 - val_sparse_categorical_crossentropy: 56.7288 - val_accuracy: 0.3365\n",
      "Epoch 138/400\n",
      "3/3 [==============================] - 4s 1s/step - loss: 52.0643 - sparse_categorical_crossentropy: 54.1402 - accuracy: 0.3544 - val_loss: 56.7288 - val_sparse_categorical_crossentropy: 56.7288 - val_accuracy: 0.3365\n",
      "Epoch 139/400\n",
      "3/3 [==============================] - 4s 1s/step - loss: 52.7821 - sparse_categorical_crossentropy: 54.1402 - accuracy: 0.3544 - val_loss: 56.7288 - val_sparse_categorical_crossentropy: 56.7288 - val_accuracy: 0.3365\n",
      "Epoch 140/400\n",
      "3/3 [==============================] - 4s 1s/step - loss: 59.5333 - sparse_categorical_crossentropy: 54.1402 - accuracy: 0.3544 - val_loss: 56.7288 - val_sparse_categorical_crossentropy: 56.7288 - val_accuracy: 0.3365\n",
      "Epoch 141/400\n",
      "3/3 [==============================] - 4s 1s/step - loss: 53.8365 - sparse_categorical_crossentropy: 54.1402 - accuracy: 0.3544 - val_loss: 56.7288 - val_sparse_categorical_crossentropy: 56.7288 - val_accuracy: 0.3365\n",
      "Epoch 142/400\n",
      "3/3 [==============================] - 4s 1s/step - loss: 56.4950 - sparse_categorical_crossentropy: 54.1402 - accuracy: 0.3544 - val_loss: 56.7288 - val_sparse_categorical_crossentropy: 56.7288 - val_accuracy: 0.3365\n",
      "Epoch 143/400\n",
      "3/3 [==============================] - 4s 1s/step - loss: 58.4445 - sparse_categorical_crossentropy: 54.1402 - accuracy: 0.3544 - val_loss: 56.7288 - val_sparse_categorical_crossentropy: 56.7288 - val_accuracy: 0.3365\n",
      "Epoch 144/400\n",
      "3/3 [==============================] - 4s 1s/step - loss: 56.1036 - sparse_categorical_crossentropy: 54.1402 - accuracy: 0.3544 - val_loss: 56.7288 - val_sparse_categorical_crossentropy: 56.7288 - val_accuracy: 0.3365\n",
      "Epoch 145/400\n",
      "3/3 [==============================] - 4s 1s/step - loss: 53.6288 - sparse_categorical_crossentropy: 54.1402 - accuracy: 0.3544 - val_loss: 56.7288 - val_sparse_categorical_crossentropy: 56.7288 - val_accuracy: 0.3365\n",
      "Epoch 146/400\n",
      "3/3 [==============================] - 4s 1s/step - loss: 53.9936 - sparse_categorical_crossentropy: 54.1402 - accuracy: 0.3544 - val_loss: 56.7288 - val_sparse_categorical_crossentropy: 56.7288 - val_accuracy: 0.3365\n",
      "Epoch 147/400\n",
      "3/3 [==============================] - 4s 1s/step - loss: 55.4799 - sparse_categorical_crossentropy: 54.1402 - accuracy: 0.3544 - val_loss: 56.7288 - val_sparse_categorical_crossentropy: 56.7288 - val_accuracy: 0.3365\n",
      "Epoch 148/400\n",
      "3/3 [==============================] - 4s 1s/step - loss: 54.8525 - sparse_categorical_crossentropy: 54.1402 - accuracy: 0.3544 - val_loss: 56.7288 - val_sparse_categorical_crossentropy: 56.7288 - val_accuracy: 0.3365\n",
      "Epoch 149/400\n",
      "3/3 [==============================] - 4s 1s/step - loss: 53.6510 - sparse_categorical_crossentropy: 54.1402 - accuracy: 0.3544 - val_loss: 56.7288 - val_sparse_categorical_crossentropy: 56.7288 - val_accuracy: 0.3365\n",
      "Epoch 150/400\n",
      "3/3 [==============================] - 4s 1s/step - loss: 54.7819 - sparse_categorical_crossentropy: 54.1402 - accuracy: 0.3544 - val_loss: 56.7288 - val_sparse_categorical_crossentropy: 56.7288 - val_accuracy: 0.3365\n",
      "Epoch 151/400\n",
      "3/3 [==============================] - 4s 1s/step - loss: 54.4142 - sparse_categorical_crossentropy: 54.1402 - accuracy: 0.3544 - val_loss: 56.7288 - val_sparse_categorical_crossentropy: 56.7288 - val_accuracy: 0.3365\n",
      "Epoch 152/400\n",
      "3/3 [==============================] - 4s 1s/step - loss: 54.8158 - sparse_categorical_crossentropy: 54.1402 - accuracy: 0.3544 - val_loss: 56.7288 - val_sparse_categorical_crossentropy: 56.7288 - val_accuracy: 0.3365\n",
      "Epoch 153/400\n",
      "3/3 [==============================] - 4s 1s/step - loss: 58.0512 - sparse_categorical_crossentropy: 54.1402 - accuracy: 0.3544 - val_loss: 56.7288 - val_sparse_categorical_crossentropy: 56.7288 - val_accuracy: 0.3365\n",
      "Epoch 154/400\n",
      "3/3 [==============================] - 4s 1s/step - loss: 55.0982 - sparse_categorical_crossentropy: 54.1402 - accuracy: 0.3544 - val_loss: 56.7288 - val_sparse_categorical_crossentropy: 56.7288 - val_accuracy: 0.3365\n",
      "Epoch 155/400\n",
      "3/3 [==============================] - 4s 1s/step - loss: 55.2488 - sparse_categorical_crossentropy: 54.1402 - accuracy: 0.3544 - val_loss: 56.7288 - val_sparse_categorical_crossentropy: 56.7288 - val_accuracy: 0.3365\n",
      "Epoch 156/400\n",
      "3/3 [==============================] - 4s 1s/step - loss: 53.0751 - sparse_categorical_crossentropy: 54.1402 - accuracy: 0.3544 - val_loss: 56.7288 - val_sparse_categorical_crossentropy: 56.7288 - val_accuracy: 0.3365\n",
      "Epoch 157/400\n",
      "3/3 [==============================] - 4s 1s/step - loss: 52.7779 - sparse_categorical_crossentropy: 54.1402 - accuracy: 0.3544 - val_loss: 56.7288 - val_sparse_categorical_crossentropy: 56.7288 - val_accuracy: 0.3365\n",
      "Epoch 158/400\n",
      "3/3 [==============================] - 4s 1s/step - loss: 50.7381 - sparse_categorical_crossentropy: 54.1402 - accuracy: 0.3544 - val_loss: 56.7288 - val_sparse_categorical_crossentropy: 56.7288 - val_accuracy: 0.3365\n",
      "Epoch 159/400\n",
      "3/3 [==============================] - 4s 1s/step - loss: 53.6959 - sparse_categorical_crossentropy: 54.1402 - accuracy: 0.3544 - val_loss: 56.7288 - val_sparse_categorical_crossentropy: 56.7288 - val_accuracy: 0.3365\n",
      "Epoch 160/400\n",
      "3/3 [==============================] - 4s 1s/step - loss: 54.4269 - sparse_categorical_crossentropy: 54.1402 - accuracy: 0.3544 - val_loss: 56.7288 - val_sparse_categorical_crossentropy: 56.7288 - val_accuracy: 0.3365\n",
      "Epoch 161/400\n",
      "3/3 [==============================] - 4s 1s/step - loss: 55.7036 - sparse_categorical_crossentropy: 54.1402 - accuracy: 0.3544 - val_loss: 56.7288 - val_sparse_categorical_crossentropy: 56.7288 - val_accuracy: 0.3365\n",
      "Epoch 162/400\n",
      "3/3 [==============================] - 4s 1s/step - loss: 53.8644 - sparse_categorical_crossentropy: 54.1402 - accuracy: 0.3544 - val_loss: 56.7288 - val_sparse_categorical_crossentropy: 56.7288 - val_accuracy: 0.3365\n",
      "Epoch 163/400\n",
      "3/3 [==============================] - 4s 1s/step - loss: 58.7301 - sparse_categorical_crossentropy: 54.1402 - accuracy: 0.3544 - val_loss: 56.7288 - val_sparse_categorical_crossentropy: 56.7288 - val_accuracy: 0.3365\n",
      "Epoch 164/400\n",
      "3/3 [==============================] - 4s 1s/step - loss: 56.4779 - sparse_categorical_crossentropy: 54.1402 - accuracy: 0.3544 - val_loss: 56.7288 - val_sparse_categorical_crossentropy: 56.7288 - val_accuracy: 0.3365\n",
      "Epoch 165/400\n",
      "3/3 [==============================] - 4s 1s/step - loss: 51.8991 - sparse_categorical_crossentropy: 54.1402 - accuracy: 0.3544 - val_loss: 56.7288 - val_sparse_categorical_crossentropy: 56.7288 - val_accuracy: 0.3365\n",
      "Epoch 166/400\n",
      "3/3 [==============================] - 4s 1s/step - loss: 51.8562 - sparse_categorical_crossentropy: 54.1402 - accuracy: 0.3544 - val_loss: 56.7288 - val_sparse_categorical_crossentropy: 56.7288 - val_accuracy: 0.3365\n",
      "Epoch 167/400\n",
      "3/3 [==============================] - 4s 1s/step - loss: 53.6398 - sparse_categorical_crossentropy: 54.1402 - accuracy: 0.3544 - val_loss: 56.7288 - val_sparse_categorical_crossentropy: 56.7288 - val_accuracy: 0.3365\n",
      "Epoch 168/400\n",
      "3/3 [==============================] - 4s 1s/step - loss: 59.5000 - sparse_categorical_crossentropy: 54.1402 - accuracy: 0.3544 - val_loss: 56.7288 - val_sparse_categorical_crossentropy: 56.7288 - val_accuracy: 0.3365\n",
      "Epoch 169/400\n",
      "3/3 [==============================] - 4s 1s/step - loss: 56.2000 - sparse_categorical_crossentropy: 54.1402 - accuracy: 0.3544 - val_loss: 56.7288 - val_sparse_categorical_crossentropy: 56.7288 - val_accuracy: 0.3365\n",
      "Epoch 170/400\n",
      "3/3 [==============================] - 4s 1s/step - loss: 53.3807 - sparse_categorical_crossentropy: 54.1402 - accuracy: 0.3544 - val_loss: 56.7288 - val_sparse_categorical_crossentropy: 56.7288 - val_accuracy: 0.3365\n",
      "Epoch 171/400\n",
      "3/3 [==============================] - 4s 1s/step - loss: 56.0336 - sparse_categorical_crossentropy: 54.1402 - accuracy: 0.3544 - val_loss: 56.7288 - val_sparse_categorical_crossentropy: 56.7288 - val_accuracy: 0.3365\n",
      "Epoch 172/400\n",
      "3/3 [==============================] - 4s 1s/step - loss: 51.9291 - sparse_categorical_crossentropy: 54.1402 - accuracy: 0.3544 - val_loss: 56.7288 - val_sparse_categorical_crossentropy: 56.7288 - val_accuracy: 0.3365\n",
      "Epoch 173/400\n",
      "3/3 [==============================] - 4s 1s/step - loss: 52.0659 - sparse_categorical_crossentropy: 54.1402 - accuracy: 0.3544 - val_loss: 56.7288 - val_sparse_categorical_crossentropy: 56.7288 - val_accuracy: 0.3365\n",
      "Epoch 174/400\n",
      "3/3 [==============================] - 4s 1s/step - loss: 50.9859 - sparse_categorical_crossentropy: 54.1402 - accuracy: 0.3544 - val_loss: 56.7288 - val_sparse_categorical_crossentropy: 56.7288 - val_accuracy: 0.3365\n",
      "Epoch 175/400\n",
      "3/3 [==============================] - 4s 1s/step - loss: 51.7337 - sparse_categorical_crossentropy: 54.1402 - accuracy: 0.3544 - val_loss: 56.7288 - val_sparse_categorical_crossentropy: 56.7288 - val_accuracy: 0.3365\n",
      "Epoch 176/400\n",
      "3/3 [==============================] - 4s 1s/step - loss: 55.4263 - sparse_categorical_crossentropy: 54.1402 - accuracy: 0.3544 - val_loss: 56.7288 - val_sparse_categorical_crossentropy: 56.7288 - val_accuracy: 0.3365\n",
      "Epoch 177/400\n",
      "3/3 [==============================] - 4s 1s/step - loss: 57.4412 - sparse_categorical_crossentropy: 54.1402 - accuracy: 0.3544 - val_loss: 56.7288 - val_sparse_categorical_crossentropy: 56.7288 - val_accuracy: 0.3365\n",
      "Epoch 178/400\n",
      "3/3 [==============================] - 4s 1s/step - loss: 50.6800 - sparse_categorical_crossentropy: 54.1402 - accuracy: 0.3544 - val_loss: 56.7288 - val_sparse_categorical_crossentropy: 56.7288 - val_accuracy: 0.3365\n",
      "Epoch 179/400\n",
      "3/3 [==============================] - 4s 1s/step - loss: 56.2451 - sparse_categorical_crossentropy: 54.1402 - accuracy: 0.3544 - val_loss: 56.7288 - val_sparse_categorical_crossentropy: 56.7288 - val_accuracy: 0.3365\n",
      "Epoch 180/400\n",
      "3/3 [==============================] - 4s 1s/step - loss: 55.5898 - sparse_categorical_crossentropy: 54.1402 - accuracy: 0.3544 - val_loss: 56.7288 - val_sparse_categorical_crossentropy: 56.7288 - val_accuracy: 0.3365\n",
      "Epoch 181/400\n",
      "3/3 [==============================] - 4s 1s/step - loss: 53.4832 - sparse_categorical_crossentropy: 54.1402 - accuracy: 0.3544 - val_loss: 56.7288 - val_sparse_categorical_crossentropy: 56.7288 - val_accuracy: 0.3365\n",
      "Epoch 182/400\n",
      "3/3 [==============================] - 4s 1s/step - loss: 53.6175 - sparse_categorical_crossentropy: 54.1402 - accuracy: 0.3544 - val_loss: 56.7288 - val_sparse_categorical_crossentropy: 56.7288 - val_accuracy: 0.3365\n",
      "Epoch 183/400\n",
      "3/3 [==============================] - 4s 1s/step - loss: 54.2830 - sparse_categorical_crossentropy: 54.1402 - accuracy: 0.3544 - val_loss: 56.7288 - val_sparse_categorical_crossentropy: 56.7288 - val_accuracy: 0.3365\n",
      "Epoch 184/400\n",
      "3/3 [==============================] - 4s 1s/step - loss: 55.0435 - sparse_categorical_crossentropy: 54.1402 - accuracy: 0.3544 - val_loss: 56.7288 - val_sparse_categorical_crossentropy: 56.7288 - val_accuracy: 0.3365\n",
      "Epoch 185/400\n",
      "3/3 [==============================] - 4s 1s/step - loss: 56.0840 - sparse_categorical_crossentropy: 54.1402 - accuracy: 0.3544 - val_loss: 56.7288 - val_sparse_categorical_crossentropy: 56.7288 - val_accuracy: 0.3365\n",
      "Epoch 186/400\n",
      "3/3 [==============================] - 4s 1s/step - loss: 52.5773 - sparse_categorical_crossentropy: 54.1402 - accuracy: 0.3544 - val_loss: 56.7288 - val_sparse_categorical_crossentropy: 56.7288 - val_accuracy: 0.3365\n",
      "Epoch 187/400\n",
      "3/3 [==============================] - 4s 1s/step - loss: 56.1309 - sparse_categorical_crossentropy: 54.1402 - accuracy: 0.3544 - val_loss: 56.7288 - val_sparse_categorical_crossentropy: 56.7288 - val_accuracy: 0.3365\n",
      "Epoch 188/400\n",
      "3/3 [==============================] - 4s 1s/step - loss: 55.3595 - sparse_categorical_crossentropy: 54.1402 - accuracy: 0.3544 - val_loss: 56.7288 - val_sparse_categorical_crossentropy: 56.7288 - val_accuracy: 0.3365\n",
      "Epoch 189/400\n",
      "3/3 [==============================] - 4s 1s/step - loss: 55.2444 - sparse_categorical_crossentropy: 54.1402 - accuracy: 0.3544 - val_loss: 56.7288 - val_sparse_categorical_crossentropy: 56.7288 - val_accuracy: 0.3365\n",
      "Epoch 190/400\n",
      "3/3 [==============================] - 4s 1s/step - loss: 53.6580 - sparse_categorical_crossentropy: 54.1402 - accuracy: 0.3544 - val_loss: 56.7288 - val_sparse_categorical_crossentropy: 56.7288 - val_accuracy: 0.3365\n",
      "Epoch 191/400\n",
      "3/3 [==============================] - 4s 1s/step - loss: 52.5008 - sparse_categorical_crossentropy: 54.1402 - accuracy: 0.3544 - val_loss: 56.7288 - val_sparse_categorical_crossentropy: 56.7288 - val_accuracy: 0.3365\n",
      "Epoch 192/400\n",
      "3/3 [==============================] - 4s 1s/step - loss: 55.2376 - sparse_categorical_crossentropy: 54.1402 - accuracy: 0.3544 - val_loss: 56.7288 - val_sparse_categorical_crossentropy: 56.7288 - val_accuracy: 0.3365\n",
      "Epoch 193/400\n",
      "3/3 [==============================] - 4s 1s/step - loss: 52.4827 - sparse_categorical_crossentropy: 54.1402 - accuracy: 0.3544 - val_loss: 56.7288 - val_sparse_categorical_crossentropy: 56.7288 - val_accuracy: 0.3365\n",
      "Epoch 194/400\n",
      "3/3 [==============================] - 4s 1s/step - loss: 53.2802 - sparse_categorical_crossentropy: 54.1402 - accuracy: 0.3544 - val_loss: 56.7288 - val_sparse_categorical_crossentropy: 56.7288 - val_accuracy: 0.3365\n",
      "Epoch 195/400\n",
      "3/3 [==============================] - 4s 1s/step - loss: 51.1943 - sparse_categorical_crossentropy: 54.1402 - accuracy: 0.3544 - val_loss: 56.7288 - val_sparse_categorical_crossentropy: 56.7288 - val_accuracy: 0.3365\n",
      "Epoch 196/400\n",
      "3/3 [==============================] - 4s 1s/step - loss: 54.9119 - sparse_categorical_crossentropy: 54.1402 - accuracy: 0.3544 - val_loss: 56.7288 - val_sparse_categorical_crossentropy: 56.7288 - val_accuracy: 0.3365\n",
      "Epoch 197/400\n",
      "3/3 [==============================] - 4s 1s/step - loss: 53.2339 - sparse_categorical_crossentropy: 54.1402 - accuracy: 0.3544 - val_loss: 56.7288 - val_sparse_categorical_crossentropy: 56.7288 - val_accuracy: 0.3365\n",
      "Epoch 198/400\n",
      "3/3 [==============================] - 4s 1s/step - loss: 51.7420 - sparse_categorical_crossentropy: 54.1402 - accuracy: 0.3544 - val_loss: 56.7288 - val_sparse_categorical_crossentropy: 56.7288 - val_accuracy: 0.3365\n",
      "Epoch 199/400\n",
      "3/3 [==============================] - 4s 1s/step - loss: 50.0868 - sparse_categorical_crossentropy: 54.1402 - accuracy: 0.3544 - val_loss: 56.7288 - val_sparse_categorical_crossentropy: 56.7288 - val_accuracy: 0.3365\n",
      "Epoch 200/400\n",
      "3/3 [==============================] - 4s 1s/step - loss: 53.7376 - sparse_categorical_crossentropy: 54.1402 - accuracy: 0.3544 - val_loss: 56.7288 - val_sparse_categorical_crossentropy: 56.7288 - val_accuracy: 0.3365\n",
      "Epoch 201/400\n",
      "3/3 [==============================] - 4s 1s/step - loss: 53.3442 - sparse_categorical_crossentropy: 54.1402 - accuracy: 0.3544 - val_loss: 56.7288 - val_sparse_categorical_crossentropy: 56.7288 - val_accuracy: 0.3365\n",
      "Epoch 202/400\n",
      "3/3 [==============================] - 4s 1s/step - loss: 52.6317 - sparse_categorical_crossentropy: 54.1402 - accuracy: 0.3544 - val_loss: 56.7288 - val_sparse_categorical_crossentropy: 56.7288 - val_accuracy: 0.3365\n",
      "Epoch 203/400\n",
      "3/3 [==============================] - 4s 1s/step - loss: 53.3737 - sparse_categorical_crossentropy: 54.1402 - accuracy: 0.3544 - val_loss: 56.7288 - val_sparse_categorical_crossentropy: 56.7288 - val_accuracy: 0.3365\n",
      "Epoch 204/400\n",
      "3/3 [==============================] - 4s 1s/step - loss: 52.2403 - sparse_categorical_crossentropy: 54.1402 - accuracy: 0.3544 - val_loss: 56.7288 - val_sparse_categorical_crossentropy: 56.7288 - val_accuracy: 0.3365\n",
      "Epoch 205/400\n",
      "3/3 [==============================] - 4s 1s/step - loss: 53.9978 - sparse_categorical_crossentropy: 54.1402 - accuracy: 0.3544 - val_loss: 56.7288 - val_sparse_categorical_crossentropy: 56.7288 - val_accuracy: 0.3365\n",
      "Epoch 206/400\n",
      "3/3 [==============================] - 4s 1s/step - loss: 54.1561 - sparse_categorical_crossentropy: 54.1402 - accuracy: 0.3544 - val_loss: 56.7288 - val_sparse_categorical_crossentropy: 56.7288 - val_accuracy: 0.3365\n",
      "Epoch 207/400\n",
      "3/3 [==============================] - 4s 1s/step - loss: 55.7728 - sparse_categorical_crossentropy: 54.1402 - accuracy: 0.3544 - val_loss: 56.7288 - val_sparse_categorical_crossentropy: 56.7288 - val_accuracy: 0.3365\n",
      "Epoch 208/400\n",
      "3/3 [==============================] - 4s 1s/step - loss: 52.6468 - sparse_categorical_crossentropy: 54.1402 - accuracy: 0.3544 - val_loss: 56.7288 - val_sparse_categorical_crossentropy: 56.7288 - val_accuracy: 0.3365\n",
      "Epoch 209/400\n",
      "3/3 [==============================] - 4s 1s/step - loss: 59.2723 - sparse_categorical_crossentropy: 54.1402 - accuracy: 0.3544 - val_loss: 56.7288 - val_sparse_categorical_crossentropy: 56.7288 - val_accuracy: 0.3365\n",
      "Epoch 210/400\n",
      "3/3 [==============================] - 4s 1s/step - loss: 55.1388 - sparse_categorical_crossentropy: 54.1402 - accuracy: 0.3544 - val_loss: 56.7288 - val_sparse_categorical_crossentropy: 56.7288 - val_accuracy: 0.3365\n",
      "Epoch 211/400\n",
      "3/3 [==============================] - 4s 1s/step - loss: 54.4628 - sparse_categorical_crossentropy: 54.1402 - accuracy: 0.3544 - val_loss: 56.7288 - val_sparse_categorical_crossentropy: 56.7288 - val_accuracy: 0.3365\n",
      "Epoch 212/400\n",
      "3/3 [==============================] - 4s 1s/step - loss: 53.4769 - sparse_categorical_crossentropy: 54.1402 - accuracy: 0.3544 - val_loss: 56.7288 - val_sparse_categorical_crossentropy: 56.7288 - val_accuracy: 0.3365\n",
      "Epoch 213/400\n",
      "3/3 [==============================] - 4s 1s/step - loss: 52.5827 - sparse_categorical_crossentropy: 54.1402 - accuracy: 0.3544 - val_loss: 56.7288 - val_sparse_categorical_crossentropy: 56.7288 - val_accuracy: 0.3365\n",
      "Epoch 214/400\n",
      "3/3 [==============================] - 4s 1s/step - loss: 54.8288 - sparse_categorical_crossentropy: 54.1402 - accuracy: 0.3544 - val_loss: 56.7288 - val_sparse_categorical_crossentropy: 56.7288 - val_accuracy: 0.3365\n",
      "Epoch 215/400\n",
      "3/3 [==============================] - 4s 1s/step - loss: 53.2581 - sparse_categorical_crossentropy: 54.1402 - accuracy: 0.3544 - val_loss: 56.7288 - val_sparse_categorical_crossentropy: 56.7288 - val_accuracy: 0.3365\n",
      "Epoch 216/400\n",
      "3/3 [==============================] - 4s 1s/step - loss: 55.5591 - sparse_categorical_crossentropy: 54.1402 - accuracy: 0.3544 - val_loss: 56.7288 - val_sparse_categorical_crossentropy: 56.7288 - val_accuracy: 0.3365\n",
      "Epoch 217/400\n",
      "3/3 [==============================] - 4s 1s/step - loss: 59.2802 - sparse_categorical_crossentropy: 54.1402 - accuracy: 0.3544 - val_loss: 56.7288 - val_sparse_categorical_crossentropy: 56.7288 - val_accuracy: 0.3365\n",
      "Epoch 218/400\n",
      "3/3 [==============================] - 4s 1s/step - loss: 57.0927 - sparse_categorical_crossentropy: 54.1402 - accuracy: 0.3544 - val_loss: 56.7288 - val_sparse_categorical_crossentropy: 56.7288 - val_accuracy: 0.3365\n",
      "Epoch 219/400\n",
      "3/3 [==============================] - 4s 1s/step - loss: 55.1544 - sparse_categorical_crossentropy: 54.1402 - accuracy: 0.3544 - val_loss: 56.7288 - val_sparse_categorical_crossentropy: 56.7288 - val_accuracy: 0.3365\n",
      "Epoch 220/400\n",
      "3/3 [==============================] - 4s 1s/step - loss: 52.6287 - sparse_categorical_crossentropy: 54.1402 - accuracy: 0.3544 - val_loss: 56.7288 - val_sparse_categorical_crossentropy: 56.7288 - val_accuracy: 0.3365\n",
      "Epoch 221/400\n",
      "3/3 [==============================] - 4s 1s/step - loss: 55.0146 - sparse_categorical_crossentropy: 54.1402 - accuracy: 0.3544 - val_loss: 56.7288 - val_sparse_categorical_crossentropy: 56.7288 - val_accuracy: 0.3365\n",
      "Epoch 222/400\n",
      "3/3 [==============================] - 4s 1s/step - loss: 55.5640 - sparse_categorical_crossentropy: 54.1402 - accuracy: 0.3544 - val_loss: 56.7288 - val_sparse_categorical_crossentropy: 56.7288 - val_accuracy: 0.3365\n",
      "Epoch 223/400\n",
      "3/3 [==============================] - 4s 1s/step - loss: 53.9511 - sparse_categorical_crossentropy: 54.1402 - accuracy: 0.3544 - val_loss: 56.7288 - val_sparse_categorical_crossentropy: 56.7288 - val_accuracy: 0.3365\n",
      "Epoch 224/400\n",
      "3/3 [==============================] - 4s 1s/step - loss: 55.0015 - sparse_categorical_crossentropy: 54.1402 - accuracy: 0.3544 - val_loss: 56.7288 - val_sparse_categorical_crossentropy: 56.7288 - val_accuracy: 0.3365\n",
      "Epoch 225/400\n",
      "3/3 [==============================] - 4s 1s/step - loss: 53.7697 - sparse_categorical_crossentropy: 54.1402 - accuracy: 0.3544 - val_loss: 56.7288 - val_sparse_categorical_crossentropy: 56.7288 - val_accuracy: 0.3365\n",
      "Epoch 226/400\n",
      "3/3 [==============================] - 4s 1s/step - loss: 51.7516 - sparse_categorical_crossentropy: 54.1402 - accuracy: 0.3544 - val_loss: 56.7288 - val_sparse_categorical_crossentropy: 56.7288 - val_accuracy: 0.3365\n",
      "Epoch 227/400\n",
      "3/3 [==============================] - 4s 1s/step - loss: 54.5903 - sparse_categorical_crossentropy: 54.1402 - accuracy: 0.3544 - val_loss: 56.7288 - val_sparse_categorical_crossentropy: 56.7288 - val_accuracy: 0.3365\n",
      "Epoch 228/400\n",
      "3/3 [==============================] - 4s 1s/step - loss: 52.7728 - sparse_categorical_crossentropy: 54.1402 - accuracy: 0.3544 - val_loss: 56.7288 - val_sparse_categorical_crossentropy: 56.7288 - val_accuracy: 0.3365\n",
      "Epoch 229/400\n",
      "3/3 [==============================] - 4s 1s/step - loss: 55.0518 - sparse_categorical_crossentropy: 54.1402 - accuracy: 0.3544 - val_loss: 56.7288 - val_sparse_categorical_crossentropy: 56.7288 - val_accuracy: 0.3365\n",
      "Epoch 230/400\n",
      "3/3 [==============================] - 4s 1s/step - loss: 56.5506 - sparse_categorical_crossentropy: 54.1402 - accuracy: 0.3544 - val_loss: 56.7288 - val_sparse_categorical_crossentropy: 56.7288 - val_accuracy: 0.3365\n",
      "Epoch 231/400\n",
      "3/3 [==============================] - 4s 1s/step - loss: 52.7092 - sparse_categorical_crossentropy: 54.1402 - accuracy: 0.3544 - val_loss: 56.7288 - val_sparse_categorical_crossentropy: 56.7288 - val_accuracy: 0.3365\n",
      "Epoch 232/400\n",
      "3/3 [==============================] - 4s 1s/step - loss: 53.9994 - sparse_categorical_crossentropy: 54.1402 - accuracy: 0.3544 - val_loss: 56.7288 - val_sparse_categorical_crossentropy: 56.7288 - val_accuracy: 0.3365\n",
      "Epoch 233/400\n",
      "3/3 [==============================] - 4s 1s/step - loss: 54.4503 - sparse_categorical_crossentropy: 54.1402 - accuracy: 0.3544 - val_loss: 56.7288 - val_sparse_categorical_crossentropy: 56.7288 - val_accuracy: 0.3365\n",
      "Epoch 234/400\n",
      "3/3 [==============================] - 4s 1s/step - loss: 55.0363 - sparse_categorical_crossentropy: 54.1402 - accuracy: 0.3544 - val_loss: 56.7288 - val_sparse_categorical_crossentropy: 56.7288 - val_accuracy: 0.3365\n",
      "Epoch 235/400\n",
      "3/3 [==============================] - 4s 1s/step - loss: 52.8375 - sparse_categorical_crossentropy: 54.1402 - accuracy: 0.3544 - val_loss: 56.7288 - val_sparse_categorical_crossentropy: 56.7288 - val_accuracy: 0.3365\n",
      "Epoch 236/400\n",
      "3/3 [==============================] - 4s 1s/step - loss: 54.3722 - sparse_categorical_crossentropy: 54.1402 - accuracy: 0.3544 - val_loss: 56.7288 - val_sparse_categorical_crossentropy: 56.7288 - val_accuracy: 0.3365\n",
      "Epoch 237/400\n",
      "3/3 [==============================] - 4s 1s/step - loss: 57.9749 - sparse_categorical_crossentropy: 54.1402 - accuracy: 0.3544 - val_loss: 56.7288 - val_sparse_categorical_crossentropy: 56.7288 - val_accuracy: 0.3365\n",
      "Epoch 238/400\n",
      "3/3 [==============================] - 4s 1s/step - loss: 58.1519 - sparse_categorical_crossentropy: 54.1402 - accuracy: 0.3544 - val_loss: 56.7288 - val_sparse_categorical_crossentropy: 56.7288 - val_accuracy: 0.3365\n",
      "Epoch 239/400\n",
      "3/3 [==============================] - 4s 1s/step - loss: 56.1105 - sparse_categorical_crossentropy: 54.1402 - accuracy: 0.3544 - val_loss: 56.7288 - val_sparse_categorical_crossentropy: 56.7288 - val_accuracy: 0.3365\n",
      "Epoch 240/400\n",
      "3/3 [==============================] - 4s 1s/step - loss: 57.0749 - sparse_categorical_crossentropy: 54.1402 - accuracy: 0.3544 - val_loss: 56.7288 - val_sparse_categorical_crossentropy: 56.7288 - val_accuracy: 0.3365\n",
      "Epoch 241/400\n",
      "3/3 [==============================] - 4s 1s/step - loss: 55.1139 - sparse_categorical_crossentropy: 54.1402 - accuracy: 0.3544 - val_loss: 56.7288 - val_sparse_categorical_crossentropy: 56.7288 - val_accuracy: 0.3365\n",
      "Epoch 242/400\n",
      "3/3 [==============================] - 4s 1s/step - loss: 52.7764 - sparse_categorical_crossentropy: 54.1402 - accuracy: 0.3544 - val_loss: 56.7288 - val_sparse_categorical_crossentropy: 56.7288 - val_accuracy: 0.3365\n",
      "Epoch 243/400\n",
      "3/3 [==============================] - 4s 1s/step - loss: 52.5914 - sparse_categorical_crossentropy: 54.1402 - accuracy: 0.3544 - val_loss: 56.7288 - val_sparse_categorical_crossentropy: 56.7288 - val_accuracy: 0.3365\n",
      "Epoch 244/400\n",
      "3/3 [==============================] - 4s 1s/step - loss: 53.6892 - sparse_categorical_crossentropy: 54.1402 - accuracy: 0.3544 - val_loss: 56.7288 - val_sparse_categorical_crossentropy: 56.7288 - val_accuracy: 0.3365\n",
      "Epoch 245/400\n",
      "3/3 [==============================] - 4s 1s/step - loss: 56.7691 - sparse_categorical_crossentropy: 54.1402 - accuracy: 0.3544 - val_loss: 56.7288 - val_sparse_categorical_crossentropy: 56.7288 - val_accuracy: 0.3365\n",
      "Epoch 246/400\n",
      "3/3 [==============================] - 4s 1s/step - loss: 55.1180 - sparse_categorical_crossentropy: 54.1402 - accuracy: 0.3544 - val_loss: 56.7288 - val_sparse_categorical_crossentropy: 56.7288 - val_accuracy: 0.3365\n",
      "Epoch 247/400\n",
      "3/3 [==============================] - 4s 1s/step - loss: 52.7110 - sparse_categorical_crossentropy: 54.1402 - accuracy: 0.3544 - val_loss: 56.7288 - val_sparse_categorical_crossentropy: 56.7288 - val_accuracy: 0.3365\n",
      "Epoch 248/400\n",
      "3/3 [==============================] - 4s 1s/step - loss: 53.2786 - sparse_categorical_crossentropy: 54.1402 - accuracy: 0.3544 - val_loss: 56.7288 - val_sparse_categorical_crossentropy: 56.7288 - val_accuracy: 0.3365\n",
      "Epoch 249/400\n",
      "3/3 [==============================] - 4s 1s/step - loss: 57.7198 - sparse_categorical_crossentropy: 54.1402 - accuracy: 0.3544 - val_loss: 56.7288 - val_sparse_categorical_crossentropy: 56.7288 - val_accuracy: 0.3365\n",
      "Epoch 250/400\n",
      "3/3 [==============================] - 4s 1s/step - loss: 54.7252 - sparse_categorical_crossentropy: 54.1402 - accuracy: 0.3544 - val_loss: 56.7288 - val_sparse_categorical_crossentropy: 56.7288 - val_accuracy: 0.3365\n",
      "Epoch 251/400\n",
      "3/3 [==============================] - 4s 1s/step - loss: 53.9146 - sparse_categorical_crossentropy: 54.1402 - accuracy: 0.3544 - val_loss: 56.7288 - val_sparse_categorical_crossentropy: 56.7288 - val_accuracy: 0.3365\n",
      "Epoch 252/400\n",
      "3/3 [==============================] - 4s 1s/step - loss: 53.6255 - sparse_categorical_crossentropy: 54.1402 - accuracy: 0.3544 - val_loss: 56.7288 - val_sparse_categorical_crossentropy: 56.7288 - val_accuracy: 0.3365\n",
      "Epoch 253/400\n",
      "3/3 [==============================] - 4s 1s/step - loss: 52.4659 - sparse_categorical_crossentropy: 54.1402 - accuracy: 0.3544 - val_loss: 56.7288 - val_sparse_categorical_crossentropy: 56.7288 - val_accuracy: 0.3365\n",
      "Epoch 254/400\n",
      "3/3 [==============================] - 4s 1s/step - loss: 58.1507 - sparse_categorical_crossentropy: 54.1402 - accuracy: 0.3544 - val_loss: 56.7288 - val_sparse_categorical_crossentropy: 56.7288 - val_accuracy: 0.3365\n",
      "Epoch 255/400\n",
      "3/3 [==============================] - 4s 1s/step - loss: 57.5198 - sparse_categorical_crossentropy: 54.1402 - accuracy: 0.3544 - val_loss: 56.7288 - val_sparse_categorical_crossentropy: 56.7288 - val_accuracy: 0.3365\n",
      "Epoch 256/400\n",
      "3/3 [==============================] - 4s 1s/step - loss: 51.1481 - sparse_categorical_crossentropy: 54.1402 - accuracy: 0.3544 - val_loss: 56.7288 - val_sparse_categorical_crossentropy: 56.7288 - val_accuracy: 0.3365\n",
      "Epoch 257/400\n",
      "3/3 [==============================] - 4s 1s/step - loss: 50.9728 - sparse_categorical_crossentropy: 54.1402 - accuracy: 0.3544 - val_loss: 56.7288 - val_sparse_categorical_crossentropy: 56.7288 - val_accuracy: 0.3365\n",
      "Epoch 258/400\n",
      "3/3 [==============================] - 4s 1s/step - loss: 53.1445 - sparse_categorical_crossentropy: 54.1402 - accuracy: 0.3544 - val_loss: 56.7288 - val_sparse_categorical_crossentropy: 56.7288 - val_accuracy: 0.3365\n",
      "Epoch 259/400\n",
      "3/3 [==============================] - 4s 1s/step - loss: 52.7456 - sparse_categorical_crossentropy: 54.1402 - accuracy: 0.3544 - val_loss: 56.7288 - val_sparse_categorical_crossentropy: 56.7288 - val_accuracy: 0.3365\n",
      "Epoch 260/400\n",
      "3/3 [==============================] - 4s 1s/step - loss: 54.4193 - sparse_categorical_crossentropy: 54.1402 - accuracy: 0.3544 - val_loss: 56.7288 - val_sparse_categorical_crossentropy: 56.7288 - val_accuracy: 0.3365\n",
      "Epoch 261/400\n",
      "3/3 [==============================] - 4s 1s/step - loss: 54.1427 - sparse_categorical_crossentropy: 54.1402 - accuracy: 0.3544 - val_loss: 56.7288 - val_sparse_categorical_crossentropy: 56.7288 - val_accuracy: 0.3365\n",
      "Epoch 262/400\n",
      "3/3 [==============================] - 4s 1s/step - loss: 51.6258 - sparse_categorical_crossentropy: 54.1402 - accuracy: 0.3544 - val_loss: 56.7288 - val_sparse_categorical_crossentropy: 56.7288 - val_accuracy: 0.3365\n",
      "Epoch 263/400\n",
      "3/3 [==============================] - 4s 1s/step - loss: 50.2779 - sparse_categorical_crossentropy: 54.1402 - accuracy: 0.3544 - val_loss: 56.7288 - val_sparse_categorical_crossentropy: 56.7288 - val_accuracy: 0.3365\n",
      "Epoch 264/400\n",
      "3/3 [==============================] - 4s 1s/step - loss: 53.2045 - sparse_categorical_crossentropy: 54.1402 - accuracy: 0.3544 - val_loss: 56.7288 - val_sparse_categorical_crossentropy: 56.7288 - val_accuracy: 0.3365\n",
      "Epoch 265/400\n",
      "3/3 [==============================] - 4s 1s/step - loss: 54.8555 - sparse_categorical_crossentropy: 54.1402 - accuracy: 0.3544 - val_loss: 56.7288 - val_sparse_categorical_crossentropy: 56.7288 - val_accuracy: 0.3365\n",
      "Epoch 266/400\n",
      "3/3 [==============================] - 4s 1s/step - loss: 54.1414 - sparse_categorical_crossentropy: 54.1402 - accuracy: 0.3544 - val_loss: 56.7288 - val_sparse_categorical_crossentropy: 56.7288 - val_accuracy: 0.3365\n",
      "Epoch 267/400\n",
      "3/3 [==============================] - 4s 1s/step - loss: 52.6368 - sparse_categorical_crossentropy: 54.1402 - accuracy: 0.3544 - val_loss: 56.7288 - val_sparse_categorical_crossentropy: 56.7288 - val_accuracy: 0.3365\n",
      "Epoch 268/400\n",
      "3/3 [==============================] - 4s 1s/step - loss: 54.5150 - sparse_categorical_crossentropy: 54.1402 - accuracy: 0.3544 - val_loss: 56.7288 - val_sparse_categorical_crossentropy: 56.7288 - val_accuracy: 0.3365\n",
      "Epoch 269/400\n",
      "3/3 [==============================] - 4s 1s/step - loss: 53.7237 - sparse_categorical_crossentropy: 54.1402 - accuracy: 0.3544 - val_loss: 56.7288 - val_sparse_categorical_crossentropy: 56.7288 - val_accuracy: 0.3365\n",
      "Epoch 270/400\n",
      "3/3 [==============================] - 4s 1s/step - loss: 56.5279 - sparse_categorical_crossentropy: 54.1402 - accuracy: 0.3544 - val_loss: 56.7288 - val_sparse_categorical_crossentropy: 56.7288 - val_accuracy: 0.3365\n",
      "Epoch 271/400\n",
      "3/3 [==============================] - 4s 1s/step - loss: 54.3936 - sparse_categorical_crossentropy: 54.1402 - accuracy: 0.3544 - val_loss: 56.7288 - val_sparse_categorical_crossentropy: 56.7288 - val_accuracy: 0.3365\n",
      "Epoch 272/400\n",
      "3/3 [==============================] - 4s 1s/step - loss: 54.4103 - sparse_categorical_crossentropy: 54.1402 - accuracy: 0.3544 - val_loss: 56.7288 - val_sparse_categorical_crossentropy: 56.7288 - val_accuracy: 0.3365\n",
      "Epoch 273/400\n",
      "3/3 [==============================] - 4s 1s/step - loss: 51.6628 - sparse_categorical_crossentropy: 54.1402 - accuracy: 0.3544 - val_loss: 56.7288 - val_sparse_categorical_crossentropy: 56.7288 - val_accuracy: 0.3365\n",
      "Epoch 274/400\n",
      "3/3 [==============================] - 4s 1s/step - loss: 56.8820 - sparse_categorical_crossentropy: 54.1402 - accuracy: 0.3544 - val_loss: 56.7288 - val_sparse_categorical_crossentropy: 56.7288 - val_accuracy: 0.3365\n",
      "Epoch 275/400\n",
      "3/3 [==============================] - 4s 1s/step - loss: 58.4965 - sparse_categorical_crossentropy: 54.1402 - accuracy: 0.3544 - val_loss: 56.7288 - val_sparse_categorical_crossentropy: 56.7288 - val_accuracy: 0.3365\n",
      "Epoch 276/400\n",
      "3/3 [==============================] - 4s 1s/step - loss: 52.5496 - sparse_categorical_crossentropy: 54.1402 - accuracy: 0.3544 - val_loss: 56.7288 - val_sparse_categorical_crossentropy: 56.7288 - val_accuracy: 0.3365\n",
      "Epoch 277/400\n",
      "3/3 [==============================] - 4s 1s/step - loss: 53.8403 - sparse_categorical_crossentropy: 54.1402 - accuracy: 0.3544 - val_loss: 56.7288 - val_sparse_categorical_crossentropy: 56.7288 - val_accuracy: 0.3365\n",
      "Epoch 278/400\n",
      "3/3 [==============================] - 4s 1s/step - loss: 56.3307 - sparse_categorical_crossentropy: 54.1402 - accuracy: 0.3544 - val_loss: 56.7288 - val_sparse_categorical_crossentropy: 56.7288 - val_accuracy: 0.3365\n",
      "Epoch 279/400\n",
      "3/3 [==============================] - 4s 1s/step - loss: 53.8417 - sparse_categorical_crossentropy: 54.1402 - accuracy: 0.3544 - val_loss: 56.7288 - val_sparse_categorical_crossentropy: 56.7288 - val_accuracy: 0.3365\n",
      "Epoch 280/400\n",
      "3/3 [==============================] - 4s 1s/step - loss: 54.5277 - sparse_categorical_crossentropy: 54.1402 - accuracy: 0.3544 - val_loss: 56.7288 - val_sparse_categorical_crossentropy: 56.7288 - val_accuracy: 0.3365\n",
      "Epoch 281/400\n",
      "3/3 [==============================] - 4s 1s/step - loss: 55.2380 - sparse_categorical_crossentropy: 54.1402 - accuracy: 0.3544 - val_loss: 56.7288 - val_sparse_categorical_crossentropy: 56.7288 - val_accuracy: 0.3365\n",
      "Epoch 282/400\n",
      "3/3 [==============================] - 4s 1s/step - loss: 50.5062 - sparse_categorical_crossentropy: 54.1402 - accuracy: 0.3544 - val_loss: 56.7288 - val_sparse_categorical_crossentropy: 56.7288 - val_accuracy: 0.3365\n",
      "Epoch 283/400\n",
      "3/3 [==============================] - 4s 1s/step - loss: 50.2106 - sparse_categorical_crossentropy: 54.1402 - accuracy: 0.3544 - val_loss: 56.7288 - val_sparse_categorical_crossentropy: 56.7288 - val_accuracy: 0.3365\n",
      "Epoch 284/400\n",
      "3/3 [==============================] - 4s 1s/step - loss: 55.4202 - sparse_categorical_crossentropy: 54.1402 - accuracy: 0.3544 - val_loss: 56.7288 - val_sparse_categorical_crossentropy: 56.7288 - val_accuracy: 0.3365\n",
      "Epoch 285/400\n",
      "3/3 [==============================] - 4s 1s/step - loss: 52.2257 - sparse_categorical_crossentropy: 54.1402 - accuracy: 0.3544 - val_loss: 56.7288 - val_sparse_categorical_crossentropy: 56.7288 - val_accuracy: 0.3365\n",
      "Epoch 286/400\n",
      "3/3 [==============================] - 4s 1s/step - loss: 50.2278 - sparse_categorical_crossentropy: 54.1402 - accuracy: 0.3544 - val_loss: 56.7288 - val_sparse_categorical_crossentropy: 56.7288 - val_accuracy: 0.3365\n",
      "Epoch 287/400\n",
      "3/3 [==============================] - 4s 1s/step - loss: 50.7671 - sparse_categorical_crossentropy: 54.1402 - accuracy: 0.3544 - val_loss: 56.7288 - val_sparse_categorical_crossentropy: 56.7288 - val_accuracy: 0.3365\n",
      "Epoch 288/400\n",
      "3/3 [==============================] - 4s 1s/step - loss: 53.7434 - sparse_categorical_crossentropy: 54.1402 - accuracy: 0.3544 - val_loss: 56.7288 - val_sparse_categorical_crossentropy: 56.7288 - val_accuracy: 0.3365\n",
      "Epoch 289/400\n",
      "3/3 [==============================] - 4s 1s/step - loss: 52.0221 - sparse_categorical_crossentropy: 54.1402 - accuracy: 0.3544 - val_loss: 56.7288 - val_sparse_categorical_crossentropy: 56.7288 - val_accuracy: 0.3365\n",
      "Epoch 290/400\n",
      "3/3 [==============================] - 4s 1s/step - loss: 53.6641 - sparse_categorical_crossentropy: 54.1402 - accuracy: 0.3544 - val_loss: 56.7288 - val_sparse_categorical_crossentropy: 56.7288 - val_accuracy: 0.3365\n",
      "Epoch 291/400\n",
      "3/3 [==============================] - 4s 1s/step - loss: 51.0442 - sparse_categorical_crossentropy: 54.1402 - accuracy: 0.3544 - val_loss: 56.7288 - val_sparse_categorical_crossentropy: 56.7288 - val_accuracy: 0.3365\n",
      "Epoch 292/400\n",
      "3/3 [==============================] - 4s 1s/step - loss: 53.3872 - sparse_categorical_crossentropy: 54.1402 - accuracy: 0.3544 - val_loss: 56.7288 - val_sparse_categorical_crossentropy: 56.7288 - val_accuracy: 0.3365\n",
      "Epoch 293/400\n",
      "3/3 [==============================] - 4s 1s/step - loss: 53.4116 - sparse_categorical_crossentropy: 54.1402 - accuracy: 0.3544 - val_loss: 56.7288 - val_sparse_categorical_crossentropy: 56.7288 - val_accuracy: 0.3365\n",
      "Epoch 294/400\n",
      "3/3 [==============================] - 4s 1s/step - loss: 51.8186 - sparse_categorical_crossentropy: 54.1402 - accuracy: 0.3544 - val_loss: 56.7288 - val_sparse_categorical_crossentropy: 56.7288 - val_accuracy: 0.3365\n",
      "Epoch 295/400\n",
      "3/3 [==============================] - 4s 1s/step - loss: 54.7724 - sparse_categorical_crossentropy: 54.1402 - accuracy: 0.3544 - val_loss: 56.7288 - val_sparse_categorical_crossentropy: 56.7288 - val_accuracy: 0.3365\n",
      "Epoch 296/400\n",
      "3/3 [==============================] - 4s 1s/step - loss: 53.6339 - sparse_categorical_crossentropy: 54.1402 - accuracy: 0.3544 - val_loss: 56.7288 - val_sparse_categorical_crossentropy: 56.7288 - val_accuracy: 0.3365\n",
      "Epoch 297/400\n",
      "3/3 [==============================] - 4s 1s/step - loss: 52.8913 - sparse_categorical_crossentropy: 54.1402 - accuracy: 0.3544 - val_loss: 56.7288 - val_sparse_categorical_crossentropy: 56.7288 - val_accuracy: 0.3365\n",
      "Epoch 298/400\n",
      "3/3 [==============================] - 4s 1s/step - loss: 56.0078 - sparse_categorical_crossentropy: 54.1402 - accuracy: 0.3544 - val_loss: 56.7288 - val_sparse_categorical_crossentropy: 56.7288 - val_accuracy: 0.3365\n",
      "Epoch 299/400\n",
      "3/3 [==============================] - 4s 1s/step - loss: 53.0342 - sparse_categorical_crossentropy: 54.1402 - accuracy: 0.3544 - val_loss: 56.7288 - val_sparse_categorical_crossentropy: 56.7288 - val_accuracy: 0.3365\n",
      "Epoch 300/400\n",
      "3/3 [==============================] - 4s 1s/step - loss: 55.2222 - sparse_categorical_crossentropy: 54.1402 - accuracy: 0.3544 - val_loss: 56.7288 - val_sparse_categorical_crossentropy: 56.7288 - val_accuracy: 0.3365\n",
      "Epoch 301/400\n",
      "3/3 [==============================] - 4s 1s/step - loss: 52.7939 - sparse_categorical_crossentropy: 54.1402 - accuracy: 0.3544 - val_loss: 56.7288 - val_sparse_categorical_crossentropy: 56.7288 - val_accuracy: 0.3365\n",
      "Epoch 302/400\n",
      "3/3 [==============================] - 4s 1s/step - loss: 54.9120 - sparse_categorical_crossentropy: 54.1402 - accuracy: 0.3544 - val_loss: 56.7288 - val_sparse_categorical_crossentropy: 56.7288 - val_accuracy: 0.3365\n",
      "Epoch 303/400\n",
      "3/3 [==============================] - 4s 1s/step - loss: 54.2769 - sparse_categorical_crossentropy: 54.1402 - accuracy: 0.3544 - val_loss: 56.7288 - val_sparse_categorical_crossentropy: 56.7288 - val_accuracy: 0.3365\n",
      "Epoch 304/400\n",
      "3/3 [==============================] - 4s 1s/step - loss: 51.5865 - sparse_categorical_crossentropy: 54.1402 - accuracy: 0.3544 - val_loss: 56.7288 - val_sparse_categorical_crossentropy: 56.7288 - val_accuracy: 0.3365\n",
      "Epoch 305/400\n",
      "3/3 [==============================] - 4s 1s/step - loss: 54.1880 - sparse_categorical_crossentropy: 54.1402 - accuracy: 0.3544 - val_loss: 56.7288 - val_sparse_categorical_crossentropy: 56.7288 - val_accuracy: 0.3365\n",
      "Epoch 306/400\n",
      "3/3 [==============================] - 4s 1s/step - loss: 57.7888 - sparse_categorical_crossentropy: 54.1402 - accuracy: 0.3544 - val_loss: 56.7288 - val_sparse_categorical_crossentropy: 56.7288 - val_accuracy: 0.3365\n",
      "Epoch 307/400\n",
      "3/3 [==============================] - 4s 1s/step - loss: 55.7696 - sparse_categorical_crossentropy: 54.1402 - accuracy: 0.3544 - val_loss: 56.7288 - val_sparse_categorical_crossentropy: 56.7288 - val_accuracy: 0.3365\n",
      "Epoch 308/400\n",
      "3/3 [==============================] - 4s 1s/step - loss: 58.5030 - sparse_categorical_crossentropy: 54.1402 - accuracy: 0.3544 - val_loss: 56.7288 - val_sparse_categorical_crossentropy: 56.7288 - val_accuracy: 0.3365\n",
      "Epoch 309/400\n",
      "3/3 [==============================] - 4s 1s/step - loss: 53.8342 - sparse_categorical_crossentropy: 54.1402 - accuracy: 0.3544 - val_loss: 56.7288 - val_sparse_categorical_crossentropy: 56.7288 - val_accuracy: 0.3365\n",
      "Epoch 310/400\n",
      "3/3 [==============================] - 4s 1s/step - loss: 57.3884 - sparse_categorical_crossentropy: 54.1402 - accuracy: 0.3544 - val_loss: 56.7288 - val_sparse_categorical_crossentropy: 56.7288 - val_accuracy: 0.3365\n",
      "Epoch 311/400\n",
      "3/3 [==============================] - 4s 1s/step - loss: 54.8049 - sparse_categorical_crossentropy: 54.1402 - accuracy: 0.3544 - val_loss: 56.7288 - val_sparse_categorical_crossentropy: 56.7288 - val_accuracy: 0.3365\n",
      "Epoch 312/400\n",
      "3/3 [==============================] - 4s 1s/step - loss: 52.8981 - sparse_categorical_crossentropy: 54.1402 - accuracy: 0.3544 - val_loss: 56.7288 - val_sparse_categorical_crossentropy: 56.7288 - val_accuracy: 0.3365\n",
      "Epoch 313/400\n",
      "3/3 [==============================] - 4s 1s/step - loss: 53.2742 - sparse_categorical_crossentropy: 54.1402 - accuracy: 0.3544 - val_loss: 56.7288 - val_sparse_categorical_crossentropy: 56.7288 - val_accuracy: 0.3365\n",
      "Epoch 314/400\n",
      "3/3 [==============================] - 4s 1s/step - loss: 48.8831 - sparse_categorical_crossentropy: 54.1402 - accuracy: 0.3544 - val_loss: 56.7288 - val_sparse_categorical_crossentropy: 56.7288 - val_accuracy: 0.3365\n",
      "Epoch 315/400\n",
      "3/3 [==============================] - 4s 1s/step - loss: 54.7687 - sparse_categorical_crossentropy: 54.1402 - accuracy: 0.3544 - val_loss: 56.7288 - val_sparse_categorical_crossentropy: 56.7288 - val_accuracy: 0.3365\n",
      "Epoch 316/400\n",
      "3/3 [==============================] - 4s 1s/step - loss: 53.2177 - sparse_categorical_crossentropy: 54.1402 - accuracy: 0.3544 - val_loss: 56.7288 - val_sparse_categorical_crossentropy: 56.7288 - val_accuracy: 0.3365\n",
      "Epoch 317/400\n",
      "3/3 [==============================] - 4s 1s/step - loss: 53.6164 - sparse_categorical_crossentropy: 54.1402 - accuracy: 0.3544 - val_loss: 56.7288 - val_sparse_categorical_crossentropy: 56.7288 - val_accuracy: 0.3365\n",
      "Epoch 318/400\n",
      "3/3 [==============================] - 4s 1s/step - loss: 54.2866 - sparse_categorical_crossentropy: 54.1402 - accuracy: 0.3544 - val_loss: 56.7288 - val_sparse_categorical_crossentropy: 56.7288 - val_accuracy: 0.3365\n",
      "Epoch 319/400\n",
      "3/3 [==============================] - 4s 1s/step - loss: 56.9668 - sparse_categorical_crossentropy: 54.1402 - accuracy: 0.3544 - val_loss: 56.7288 - val_sparse_categorical_crossentropy: 56.7288 - val_accuracy: 0.3365\n",
      "Epoch 320/400\n",
      "3/3 [==============================] - 4s 1s/step - loss: 53.8079 - sparse_categorical_crossentropy: 54.1402 - accuracy: 0.3544 - val_loss: 56.7288 - val_sparse_categorical_crossentropy: 56.7288 - val_accuracy: 0.3365\n",
      "Epoch 321/400\n",
      "3/3 [==============================] - 4s 1s/step - loss: 53.5982 - sparse_categorical_crossentropy: 54.1402 - accuracy: 0.3544 - val_loss: 56.7288 - val_sparse_categorical_crossentropy: 56.7288 - val_accuracy: 0.3365\n",
      "Epoch 322/400\n",
      "3/3 [==============================] - 4s 1s/step - loss: 52.0325 - sparse_categorical_crossentropy: 54.1402 - accuracy: 0.3544 - val_loss: 56.7288 - val_sparse_categorical_crossentropy: 56.7288 - val_accuracy: 0.3365\n",
      "Epoch 323/400\n",
      "3/3 [==============================] - 4s 1s/step - loss: 56.7127 - sparse_categorical_crossentropy: 54.1402 - accuracy: 0.3544 - val_loss: 56.7288 - val_sparse_categorical_crossentropy: 56.7288 - val_accuracy: 0.3365\n",
      "Epoch 324/400\n",
      "3/3 [==============================] - 4s 1s/step - loss: 50.8239 - sparse_categorical_crossentropy: 54.1402 - accuracy: 0.3544 - val_loss: 56.7288 - val_sparse_categorical_crossentropy: 56.7288 - val_accuracy: 0.3365\n",
      "Epoch 325/400\n",
      "3/3 [==============================] - 4s 1s/step - loss: 52.5755 - sparse_categorical_crossentropy: 54.1402 - accuracy: 0.3544 - val_loss: 56.7288 - val_sparse_categorical_crossentropy: 56.7288 - val_accuracy: 0.3365\n",
      "Epoch 326/400\n",
      "3/3 [==============================] - 4s 1s/step - loss: 49.5102 - sparse_categorical_crossentropy: 54.1402 - accuracy: 0.3544 - val_loss: 56.7288 - val_sparse_categorical_crossentropy: 56.7288 - val_accuracy: 0.3365\n",
      "Epoch 327/400\n",
      "3/3 [==============================] - 4s 1s/step - loss: 53.8962 - sparse_categorical_crossentropy: 54.1402 - accuracy: 0.3544 - val_loss: 56.7288 - val_sparse_categorical_crossentropy: 56.7288 - val_accuracy: 0.3365\n",
      "Epoch 328/400\n",
      "3/3 [==============================] - 4s 1s/step - loss: 52.9985 - sparse_categorical_crossentropy: 54.1402 - accuracy: 0.3544 - val_loss: 56.7288 - val_sparse_categorical_crossentropy: 56.7288 - val_accuracy: 0.3365\n",
      "Epoch 329/400\n",
      "3/3 [==============================] - 4s 1s/step - loss: 55.2286 - sparse_categorical_crossentropy: 54.1402 - accuracy: 0.3544 - val_loss: 56.7288 - val_sparse_categorical_crossentropy: 56.7288 - val_accuracy: 0.3365\n",
      "Epoch 330/400\n",
      "3/3 [==============================] - 4s 1s/step - loss: 53.5851 - sparse_categorical_crossentropy: 54.1402 - accuracy: 0.3544 - val_loss: 56.7288 - val_sparse_categorical_crossentropy: 56.7288 - val_accuracy: 0.3365\n",
      "Epoch 331/400\n",
      "3/3 [==============================] - 4s 1s/step - loss: 51.7358 - sparse_categorical_crossentropy: 54.1402 - accuracy: 0.3544 - val_loss: 56.7288 - val_sparse_categorical_crossentropy: 56.7288 - val_accuracy: 0.3365\n",
      "Epoch 332/400\n",
      "3/3 [==============================] - 4s 1s/step - loss: 50.3682 - sparse_categorical_crossentropy: 54.1402 - accuracy: 0.3544 - val_loss: 56.7288 - val_sparse_categorical_crossentropy: 56.7288 - val_accuracy: 0.3365\n",
      "Epoch 333/400\n",
      "3/3 [==============================] - 4s 1s/step - loss: 54.4469 - sparse_categorical_crossentropy: 54.1402 - accuracy: 0.3544 - val_loss: 56.7288 - val_sparse_categorical_crossentropy: 56.7288 - val_accuracy: 0.3365\n",
      "Epoch 334/400\n",
      "3/3 [==============================] - 4s 1s/step - loss: 52.7033 - sparse_categorical_crossentropy: 54.1402 - accuracy: 0.3544 - val_loss: 56.7288 - val_sparse_categorical_crossentropy: 56.7288 - val_accuracy: 0.3365\n",
      "Epoch 335/400\n",
      "3/3 [==============================] - 4s 1s/step - loss: 58.5986 - sparse_categorical_crossentropy: 54.1402 - accuracy: 0.3544 - val_loss: 56.7288 - val_sparse_categorical_crossentropy: 56.7288 - val_accuracy: 0.3365\n",
      "Epoch 336/400\n",
      "3/3 [==============================] - 4s 1s/step - loss: 57.6334 - sparse_categorical_crossentropy: 54.1402 - accuracy: 0.3544 - val_loss: 56.7288 - val_sparse_categorical_crossentropy: 56.7288 - val_accuracy: 0.3365\n",
      "Epoch 337/400\n",
      "3/3 [==============================] - 4s 1s/step - loss: 50.4417 - sparse_categorical_crossentropy: 54.1402 - accuracy: 0.3544 - val_loss: 56.7288 - val_sparse_categorical_crossentropy: 56.7288 - val_accuracy: 0.3365\n",
      "Epoch 338/400\n",
      "3/3 [==============================] - 4s 1s/step - loss: 53.8001 - sparse_categorical_crossentropy: 54.1402 - accuracy: 0.3544 - val_loss: 56.7288 - val_sparse_categorical_crossentropy: 56.7288 - val_accuracy: 0.3365\n",
      "Epoch 339/400\n",
      "3/3 [==============================] - 4s 1s/step - loss: 51.9066 - sparse_categorical_crossentropy: 54.1402 - accuracy: 0.3544 - val_loss: 56.7288 - val_sparse_categorical_crossentropy: 56.7288 - val_accuracy: 0.3365\n",
      "Epoch 340/400\n",
      "3/3 [==============================] - 4s 1s/step - loss: 56.0911 - sparse_categorical_crossentropy: 54.1402 - accuracy: 0.3544 - val_loss: 56.7288 - val_sparse_categorical_crossentropy: 56.7288 - val_accuracy: 0.3365\n",
      "Epoch 341/400\n",
      "3/3 [==============================] - 4s 1s/step - loss: 51.5948 - sparse_categorical_crossentropy: 54.1402 - accuracy: 0.3544 - val_loss: 56.7288 - val_sparse_categorical_crossentropy: 56.7288 - val_accuracy: 0.3365\n",
      "Epoch 342/400\n",
      "3/3 [==============================] - 4s 1s/step - loss: 51.4524 - sparse_categorical_crossentropy: 54.1402 - accuracy: 0.3544 - val_loss: 56.7288 - val_sparse_categorical_crossentropy: 56.7288 - val_accuracy: 0.3365\n",
      "Epoch 343/400\n",
      "3/3 [==============================] - 4s 1s/step - loss: 53.4655 - sparse_categorical_crossentropy: 54.1402 - accuracy: 0.3544 - val_loss: 56.7288 - val_sparse_categorical_crossentropy: 56.7288 - val_accuracy: 0.3365\n",
      "Epoch 344/400\n",
      "3/3 [==============================] - 4s 1s/step - loss: 52.1376 - sparse_categorical_crossentropy: 54.1402 - accuracy: 0.3544 - val_loss: 56.7288 - val_sparse_categorical_crossentropy: 56.7288 - val_accuracy: 0.3365\n",
      "Epoch 345/400\n",
      "3/3 [==============================] - 4s 1s/step - loss: 56.1262 - sparse_categorical_crossentropy: 54.1402 - accuracy: 0.3544 - val_loss: 56.7288 - val_sparse_categorical_crossentropy: 56.7288 - val_accuracy: 0.3365\n",
      "Epoch 346/400\n",
      "3/3 [==============================] - 4s 1s/step - loss: 54.0932 - sparse_categorical_crossentropy: 54.1402 - accuracy: 0.3544 - val_loss: 56.7288 - val_sparse_categorical_crossentropy: 56.7288 - val_accuracy: 0.3365\n",
      "Epoch 347/400\n",
      "3/3 [==============================] - 4s 1s/step - loss: 54.2357 - sparse_categorical_crossentropy: 54.1402 - accuracy: 0.3544 - val_loss: 56.7288 - val_sparse_categorical_crossentropy: 56.7288 - val_accuracy: 0.3365\n",
      "Epoch 348/400\n",
      "3/3 [==============================] - 4s 1s/step - loss: 55.3045 - sparse_categorical_crossentropy: 54.1402 - accuracy: 0.3544 - val_loss: 56.7288 - val_sparse_categorical_crossentropy: 56.7288 - val_accuracy: 0.3365\n",
      "Epoch 349/400\n",
      "3/3 [==============================] - 4s 1s/step - loss: 54.0661 - sparse_categorical_crossentropy: 54.1402 - accuracy: 0.3544 - val_loss: 56.7288 - val_sparse_categorical_crossentropy: 56.7288 - val_accuracy: 0.3365\n",
      "Epoch 350/400\n",
      "3/3 [==============================] - 4s 1s/step - loss: 54.0846 - sparse_categorical_crossentropy: 54.1402 - accuracy: 0.3544 - val_loss: 56.7288 - val_sparse_categorical_crossentropy: 56.7288 - val_accuracy: 0.3365\n",
      "Epoch 351/400\n",
      "3/3 [==============================] - 4s 1s/step - loss: 54.1283 - sparse_categorical_crossentropy: 54.1402 - accuracy: 0.3544 - val_loss: 56.7288 - val_sparse_categorical_crossentropy: 56.7288 - val_accuracy: 0.3365\n",
      "Epoch 352/400\n",
      "3/3 [==============================] - 4s 1s/step - loss: 53.8281 - sparse_categorical_crossentropy: 54.1402 - accuracy: 0.3544 - val_loss: 56.7288 - val_sparse_categorical_crossentropy: 56.7288 - val_accuracy: 0.3365\n",
      "Epoch 353/400\n",
      "3/3 [==============================] - 4s 1s/step - loss: 55.9364 - sparse_categorical_crossentropy: 54.1402 - accuracy: 0.3544 - val_loss: 56.7288 - val_sparse_categorical_crossentropy: 56.7288 - val_accuracy: 0.3365\n",
      "Epoch 354/400\n",
      "3/3 [==============================] - 4s 1s/step - loss: 52.4833 - sparse_categorical_crossentropy: 54.1402 - accuracy: 0.3544 - val_loss: 56.7288 - val_sparse_categorical_crossentropy: 56.7288 - val_accuracy: 0.3365\n",
      "Epoch 355/400\n",
      "3/3 [==============================] - 4s 1s/step - loss: 56.4077 - sparse_categorical_crossentropy: 54.1402 - accuracy: 0.3544 - val_loss: 56.7288 - val_sparse_categorical_crossentropy: 56.7288 - val_accuracy: 0.3365\n",
      "Epoch 356/400\n",
      "3/3 [==============================] - 4s 1s/step - loss: 53.7617 - sparse_categorical_crossentropy: 54.1402 - accuracy: 0.3544 - val_loss: 56.7288 - val_sparse_categorical_crossentropy: 56.7288 - val_accuracy: 0.3365\n",
      "Epoch 357/400\n",
      "3/3 [==============================] - 4s 1s/step - loss: 55.4158 - sparse_categorical_crossentropy: 54.1402 - accuracy: 0.3544 - val_loss: 56.7288 - val_sparse_categorical_crossentropy: 56.7288 - val_accuracy: 0.3365\n",
      "Epoch 358/400\n",
      "3/3 [==============================] - 4s 1s/step - loss: 54.6691 - sparse_categorical_crossentropy: 54.1402 - accuracy: 0.3544 - val_loss: 56.7288 - val_sparse_categorical_crossentropy: 56.7288 - val_accuracy: 0.3365\n",
      "Epoch 359/400\n",
      "3/3 [==============================] - 4s 1s/step - loss: 51.9257 - sparse_categorical_crossentropy: 54.1402 - accuracy: 0.3544 - val_loss: 56.7288 - val_sparse_categorical_crossentropy: 56.7288 - val_accuracy: 0.3365\n",
      "Epoch 360/400\n",
      "3/3 [==============================] - 4s 1s/step - loss: 53.3471 - sparse_categorical_crossentropy: 54.1402 - accuracy: 0.3544 - val_loss: 56.7288 - val_sparse_categorical_crossentropy: 56.7288 - val_accuracy: 0.3365\n",
      "Epoch 361/400\n",
      "3/3 [==============================] - 4s 1s/step - loss: 55.9821 - sparse_categorical_crossentropy: 54.1402 - accuracy: 0.3544 - val_loss: 56.7288 - val_sparse_categorical_crossentropy: 56.7288 - val_accuracy: 0.3365\n",
      "Epoch 362/400\n",
      "3/3 [==============================] - 4s 1s/step - loss: 54.0115 - sparse_categorical_crossentropy: 54.1402 - accuracy: 0.3544 - val_loss: 56.7288 - val_sparse_categorical_crossentropy: 56.7288 - val_accuracy: 0.3365\n",
      "Epoch 363/400\n",
      "3/3 [==============================] - 4s 1s/step - loss: 55.2039 - sparse_categorical_crossentropy: 54.1402 - accuracy: 0.3544 - val_loss: 56.7288 - val_sparse_categorical_crossentropy: 56.7288 - val_accuracy: 0.3365\n",
      "Epoch 364/400\n",
      "3/3 [==============================] - 4s 1s/step - loss: 52.7258 - sparse_categorical_crossentropy: 54.1402 - accuracy: 0.3544 - val_loss: 56.7288 - val_sparse_categorical_crossentropy: 56.7288 - val_accuracy: 0.3365\n",
      "Epoch 365/400\n",
      "3/3 [==============================] - 4s 1s/step - loss: 53.3722 - sparse_categorical_crossentropy: 54.1402 - accuracy: 0.3544 - val_loss: 56.7288 - val_sparse_categorical_crossentropy: 56.7288 - val_accuracy: 0.3365\n",
      "Epoch 366/400\n",
      "3/3 [==============================] - 4s 1s/step - loss: 56.2266 - sparse_categorical_crossentropy: 54.1402 - accuracy: 0.3544 - val_loss: 56.7288 - val_sparse_categorical_crossentropy: 56.7288 - val_accuracy: 0.3365\n",
      "Epoch 367/400\n",
      "3/3 [==============================] - 4s 1s/step - loss: 53.9051 - sparse_categorical_crossentropy: 54.1402 - accuracy: 0.3544 - val_loss: 56.7288 - val_sparse_categorical_crossentropy: 56.7288 - val_accuracy: 0.3365\n",
      "Epoch 368/400\n",
      "3/3 [==============================] - 4s 1s/step - loss: 54.9096 - sparse_categorical_crossentropy: 54.1402 - accuracy: 0.3544 - val_loss: 56.7288 - val_sparse_categorical_crossentropy: 56.7288 - val_accuracy: 0.3365\n",
      "Epoch 369/400\n",
      "3/3 [==============================] - 4s 1s/step - loss: 55.6489 - sparse_categorical_crossentropy: 54.1402 - accuracy: 0.3544 - val_loss: 56.7288 - val_sparse_categorical_crossentropy: 56.7288 - val_accuracy: 0.3365\n",
      "Epoch 370/400\n",
      "3/3 [==============================] - 4s 1s/step - loss: 51.8830 - sparse_categorical_crossentropy: 54.1402 - accuracy: 0.3544 - val_loss: 56.7288 - val_sparse_categorical_crossentropy: 56.7288 - val_accuracy: 0.3365\n",
      "Epoch 371/400\n",
      "3/3 [==============================] - 4s 1s/step - loss: 55.3749 - sparse_categorical_crossentropy: 54.1402 - accuracy: 0.3544 - val_loss: 56.7288 - val_sparse_categorical_crossentropy: 56.7288 - val_accuracy: 0.3365\n",
      "Epoch 372/400\n",
      "3/3 [==============================] - 4s 1s/step - loss: 57.0751 - sparse_categorical_crossentropy: 54.1402 - accuracy: 0.3544 - val_loss: 56.7288 - val_sparse_categorical_crossentropy: 56.7288 - val_accuracy: 0.3365\n",
      "Epoch 373/400\n",
      "3/3 [==============================] - 4s 1s/step - loss: 52.2828 - sparse_categorical_crossentropy: 54.1402 - accuracy: 0.3544 - val_loss: 56.7288 - val_sparse_categorical_crossentropy: 56.7288 - val_accuracy: 0.3365\n",
      "Epoch 374/400\n",
      "3/3 [==============================] - 4s 1s/step - loss: 54.2439 - sparse_categorical_crossentropy: 54.1402 - accuracy: 0.3544 - val_loss: 56.7288 - val_sparse_categorical_crossentropy: 56.7288 - val_accuracy: 0.3365\n",
      "Epoch 375/400\n",
      "3/3 [==============================] - 4s 1s/step - loss: 54.2283 - sparse_categorical_crossentropy: 54.1402 - accuracy: 0.3544 - val_loss: 56.7288 - val_sparse_categorical_crossentropy: 56.7288 - val_accuracy: 0.3365\n",
      "Epoch 376/400\n",
      "3/3 [==============================] - 4s 1s/step - loss: 57.9785 - sparse_categorical_crossentropy: 54.1402 - accuracy: 0.3544 - val_loss: 56.7288 - val_sparse_categorical_crossentropy: 56.7288 - val_accuracy: 0.3365\n",
      "Epoch 377/400\n",
      "3/3 [==============================] - 4s 1s/step - loss: 55.9632 - sparse_categorical_crossentropy: 54.1402 - accuracy: 0.3544 - val_loss: 56.7288 - val_sparse_categorical_crossentropy: 56.7288 - val_accuracy: 0.3365\n",
      "Epoch 378/400\n",
      "3/3 [==============================] - 4s 1s/step - loss: 55.4359 - sparse_categorical_crossentropy: 54.1402 - accuracy: 0.3544 - val_loss: 56.7288 - val_sparse_categorical_crossentropy: 56.7288 - val_accuracy: 0.3365\n",
      "Epoch 379/400\n",
      "3/3 [==============================] - 4s 1s/step - loss: 55.4829 - sparse_categorical_crossentropy: 54.1402 - accuracy: 0.3544 - val_loss: 56.7288 - val_sparse_categorical_crossentropy: 56.7288 - val_accuracy: 0.3365\n",
      "Epoch 380/400\n",
      "3/3 [==============================] - 4s 1s/step - loss: 52.5245 - sparse_categorical_crossentropy: 54.1402 - accuracy: 0.3544 - val_loss: 56.7288 - val_sparse_categorical_crossentropy: 56.7288 - val_accuracy: 0.3365\n",
      "Epoch 381/400\n",
      "3/3 [==============================] - 4s 1s/step - loss: 53.8970 - sparse_categorical_crossentropy: 54.1402 - accuracy: 0.3544 - val_loss: 56.7288 - val_sparse_categorical_crossentropy: 56.7288 - val_accuracy: 0.3365\n",
      "Epoch 382/400\n",
      "3/3 [==============================] - 4s 1s/step - loss: 51.8448 - sparse_categorical_crossentropy: 54.1402 - accuracy: 0.3544 - val_loss: 56.7288 - val_sparse_categorical_crossentropy: 56.7288 - val_accuracy: 0.3365\n",
      "Epoch 383/400\n",
      "3/3 [==============================] - 4s 1s/step - loss: 55.0527 - sparse_categorical_crossentropy: 54.1402 - accuracy: 0.3544 - val_loss: 56.7288 - val_sparse_categorical_crossentropy: 56.7288 - val_accuracy: 0.3365\n",
      "Epoch 384/400\n",
      "3/3 [==============================] - 4s 1s/step - loss: 53.3904 - sparse_categorical_crossentropy: 54.1402 - accuracy: 0.3544 - val_loss: 56.7288 - val_sparse_categorical_crossentropy: 56.7288 - val_accuracy: 0.3365\n",
      "Epoch 385/400\n",
      "3/3 [==============================] - 4s 1s/step - loss: 55.8183 - sparse_categorical_crossentropy: 54.1402 - accuracy: 0.3544 - val_loss: 56.7288 - val_sparse_categorical_crossentropy: 56.7288 - val_accuracy: 0.3365\n",
      "Epoch 386/400\n",
      "3/3 [==============================] - 4s 1s/step - loss: 54.6872 - sparse_categorical_crossentropy: 54.1402 - accuracy: 0.3544 - val_loss: 56.7288 - val_sparse_categorical_crossentropy: 56.7288 - val_accuracy: 0.3365\n",
      "Epoch 387/400\n",
      "3/3 [==============================] - 4s 1s/step - loss: 54.0579 - sparse_categorical_crossentropy: 54.1402 - accuracy: 0.3544 - val_loss: 56.7288 - val_sparse_categorical_crossentropy: 56.7288 - val_accuracy: 0.3365\n",
      "Epoch 388/400\n",
      "3/3 [==============================] - 4s 1s/step - loss: 58.2854 - sparse_categorical_crossentropy: 54.1402 - accuracy: 0.3544 - val_loss: 56.7288 - val_sparse_categorical_crossentropy: 56.7288 - val_accuracy: 0.3365\n",
      "Epoch 389/400\n",
      "3/3 [==============================] - 4s 1s/step - loss: 53.5670 - sparse_categorical_crossentropy: 54.1402 - accuracy: 0.3544 - val_loss: 56.7288 - val_sparse_categorical_crossentropy: 56.7288 - val_accuracy: 0.3365\n",
      "Epoch 390/400\n",
      "3/3 [==============================] - 4s 1s/step - loss: 51.1021 - sparse_categorical_crossentropy: 54.1402 - accuracy: 0.3544 - val_loss: 56.7288 - val_sparse_categorical_crossentropy: 56.7288 - val_accuracy: 0.3365\n",
      "Epoch 391/400\n",
      "3/3 [==============================] - 4s 1s/step - loss: 52.9098 - sparse_categorical_crossentropy: 54.1402 - accuracy: 0.3544 - val_loss: 56.7288 - val_sparse_categorical_crossentropy: 56.7288 - val_accuracy: 0.3365\n",
      "Epoch 392/400\n",
      "3/3 [==============================] - 4s 1s/step - loss: 54.3154 - sparse_categorical_crossentropy: 54.1402 - accuracy: 0.3544 - val_loss: 56.7288 - val_sparse_categorical_crossentropy: 56.7288 - val_accuracy: 0.3365\n",
      "Epoch 393/400\n",
      "3/3 [==============================] - 4s 1s/step - loss: 52.7683 - sparse_categorical_crossentropy: 54.1402 - accuracy: 0.3544 - val_loss: 56.7288 - val_sparse_categorical_crossentropy: 56.7288 - val_accuracy: 0.3365\n",
      "Epoch 394/400\n",
      "3/3 [==============================] - 4s 1s/step - loss: 53.0394 - sparse_categorical_crossentropy: 54.1402 - accuracy: 0.3544 - val_loss: 56.7288 - val_sparse_categorical_crossentropy: 56.7288 - val_accuracy: 0.3365\n",
      "Epoch 395/400\n",
      "3/3 [==============================] - 4s 1s/step - loss: 51.1572 - sparse_categorical_crossentropy: 54.1402 - accuracy: 0.3544 - val_loss: 56.7288 - val_sparse_categorical_crossentropy: 56.7288 - val_accuracy: 0.3365\n",
      "Epoch 396/400\n",
      "3/3 [==============================] - 4s 1s/step - loss: 57.8127 - sparse_categorical_crossentropy: 54.1402 - accuracy: 0.3544 - val_loss: 56.7288 - val_sparse_categorical_crossentropy: 56.7288 - val_accuracy: 0.3365\n",
      "Epoch 397/400\n",
      "3/3 [==============================] - 4s 1s/step - loss: 50.9481 - sparse_categorical_crossentropy: 54.1402 - accuracy: 0.3544 - val_loss: 56.7288 - val_sparse_categorical_crossentropy: 56.7288 - val_accuracy: 0.3365\n",
      "Epoch 398/400\n",
      "3/3 [==============================] - 4s 1s/step - loss: 53.6293 - sparse_categorical_crossentropy: 54.1402 - accuracy: 0.3544 - val_loss: 56.7288 - val_sparse_categorical_crossentropy: 56.7288 - val_accuracy: 0.3365\n",
      "Epoch 399/400\n",
      "3/3 [==============================] - 4s 1s/step - loss: 55.4761 - sparse_categorical_crossentropy: 54.1402 - accuracy: 0.3544 - val_loss: 56.7288 - val_sparse_categorical_crossentropy: 56.7288 - val_accuracy: 0.3365\n",
      "Epoch 400/400\n",
      "3/3 [==============================] - 4s 1s/step - loss: 51.5747 - sparse_categorical_crossentropy: 54.1402 - accuracy: 0.3544 - val_loss: 56.7288 - val_sparse_categorical_crossentropy: 56.7288 - val_accuracy: 0.3365\n"
     ]
    },
    {
     "data": {
      "text/html": [
       "Waiting for W&B process to finish... <strong style=\"color:green\">(success).</strong>"
      ],
      "text/plain": [
       "<IPython.core.display.HTML object>"
      ]
     },
     "metadata": {},
     "output_type": "display_data"
    },
    {
     "data": {
      "application/vnd.jupyter.widget-view+json": {
       "model_id": "a559ed7924374c22aee6ffc22f7be69b",
       "version_major": 2,
       "version_minor": 0
      },
      "text/plain": [
       "VBox(children=(Label(value='0.940 MB of 0.940 MB uploaded (0.000 MB deduped)\\r'), FloatProgress(value=1.0, max…"
      ]
     },
     "metadata": {},
     "output_type": "display_data"
    },
    {
     "data": {
      "text/html": [
       "<style>\n",
       "    table.wandb td:nth-child(1) { padding: 0 10px; text-align: left ; width: auto;} td:nth-child(2) {text-align: left ; width: 100%}\n",
       "    .wandb-row { display: flex; flex-direction: row; flex-wrap: wrap; justify-content: flex-start; width: 100% }\n",
       "    .wandb-col { display: flex; flex-direction: column; flex-basis: 100%; flex: 1; padding: 10px; }\n",
       "    </style>\n",
       "<div class=\"wandb-row\"><div class=\"wandb-col\"><h3>Run history:</h3><br/><table class=\"wandb\"><tr><td>accuracy</td><td>▄▁▅▅████████████████████████████████████</td></tr><tr><td>epoch</td><td>▁▁▁▁▂▂▂▂▂▃▃▃▃▃▃▄▄▄▄▄▅▅▅▅▅▅▆▆▆▆▆▇▇▇▇▇▇███</td></tr><tr><td>loss</td><td>█▆▃▃▁▂▂▂▂▂▁▂▁▃▂▁▂▂▂▂▁▂▂▂▂▁▂▁▂▂▃▁▁▂▂▂▂▃▃▁</td></tr><tr><td>sparse_categorical_crossentropy</td><td>█▇▃▂▁▁▁▁▁▁▁▁▁▁▁▁▁▁▁▁▁▁▁▁▁▁▁▁▁▁▁▁▁▁▁▁▁▁▁▁</td></tr><tr><td>val_accuracy</td><td>▁▆▆█▃▄▃▄▄▄▄▄▄▄▄▄▄▄▄▄▄▄▄▄▄▄▄▄▄▄▄▄▄▄▄▄▄▄▄▄</td></tr><tr><td>val_loss</td><td>█▇▄▁▁▁▁▁▁▁▁▁▁▁▁▁▁▁▁▁▁▁▁▁▁▁▁▁▁▁▁▁▁▁▁▁▁▁▁▁</td></tr><tr><td>val_sparse_categorical_crossentropy</td><td>█▇▄▁▁▁▁▁▁▁▁▁▁▁▁▁▁▁▁▁▁▁▁▁▁▁▁▁▁▁▁▁▁▁▁▁▁▁▁▁</td></tr></table><br/></div><div class=\"wandb-col\"><h3>Run summary:</h3><br/><table class=\"wandb\"><tr><td>GFLOPS</td><td>0.00024</td></tr><tr><td>accuracy</td><td>0.35438</td></tr><tr><td>best_epoch</td><td>55</td></tr><tr><td>best_val_sparse_categorical_crossentropy</td><td>56.67062</td></tr><tr><td>epoch</td><td>399</td></tr><tr><td>loss</td><td>51.57471</td></tr><tr><td>sparse_categorical_crossentropy</td><td>54.14021</td></tr><tr><td>val_accuracy</td><td>0.3365</td></tr><tr><td>val_loss</td><td>56.72884</td></tr><tr><td>val_sparse_categorical_crossentropy</td><td>56.72884</td></tr></table><br/></div></div>"
      ],
      "text/plain": [
       "<IPython.core.display.HTML object>"
      ]
     },
     "metadata": {},
     "output_type": "display_data"
    },
    {
     "data": {
      "text/html": [
       "Synced <strong style=\"color:#cdcd00\">spring-darkness-40</strong>: <a href=\"https://wandb.ai/eltoncn/SygilDetector/runs/233p0mdm\" target=\"_blank\">https://wandb.ai/eltoncn/SygilDetector/runs/233p0mdm</a><br/>Synced 5 W&B file(s), 1 media file(s), 0 artifact file(s) and 1 other file(s)"
      ],
      "text/plain": [
       "<IPython.core.display.HTML object>"
      ]
     },
     "metadata": {},
     "output_type": "display_data"
    },
    {
     "data": {
      "text/html": [
       "Find logs at: <code>.\\wandb\\run-20221016_202310-233p0mdm\\logs</code>"
      ],
      "text/plain": [
       "<IPython.core.display.HTML object>"
      ]
     },
     "metadata": {},
     "output_type": "display_data"
    }
   ],
   "source": [
    "from evolvepy.integrations.tf_keras import EvolutionaryModel\n",
    "\n",
    "units = [400, 400]\n",
    "regularizer = [0, 0]\n",
    "\n",
    "model = EvolutionaryModel([keras.layers.Input(shape=(n_features), name=\"input\"),\n",
    "                    keras.layers.Dense(units[0], activation=\"relu\"),\n",
    "                    keras.layers.Dense(units[1], activation=\"relu\"),\n",
    "                    keras.layers.Dense(3, activation=\"softmax\")])\n",
    "                    \n",
    "generator, _ = create_generator(model)\n",
    "\n",
    "model.compile(generator, 150, loss=\"sparse_categorical_crossentropy\",  metrics=[\"sparse_categorical_crossentropy\", \"accuracy\"])\n",
    "\n",
    "hist = compile_fit_ep(model, 400, generator, 10000, 50, units, regularizer)\n"
   ]
  },
  {
   "cell_type": "code",
   "execution_count": null,
   "metadata": {},
   "outputs": [],
   "source": []
  }
 ],
 "metadata": {
  "kernelspec": {
   "display_name": "Python 3.8.5 64-bit",
   "language": "python",
   "name": "python3"
  },
  "language_info": {
   "codemirror_mode": {
    "name": "ipython",
    "version": 3
   },
   "file_extension": ".py",
   "mimetype": "text/x-python",
   "name": "python",
   "nbconvert_exporter": "python",
   "pygments_lexer": "ipython3",
   "version": "3.8.5"
  },
  "orig_nbformat": 4,
  "vscode": {
   "interpreter": {
    "hash": "9650cb4e16cdd4a8e8e2d128bf38d875813998db22a3c986335f89e0cb4d7bb2"
   }
  }
 },
 "nbformat": 4,
 "nbformat_minor": 2
}
